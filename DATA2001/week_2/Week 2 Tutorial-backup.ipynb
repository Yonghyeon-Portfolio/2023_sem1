{
 "cells": [
  {
   "cell_type": "markdown",
   "id": "d41e20b5",
   "metadata": {},
   "source": [
    "Run the code cell below to begin, and select the \"Hide/show all code\" button to toggle code cells on/off."
   ]
  },
  {
   "cell_type": "code",
   "execution_count": 1,
   "id": "1ddae065",
   "metadata": {},
   "outputs": [
    {
     "data": {
      "text/html": [
       "\n",
       "    <style> body {font-family: \"Roboto Condensed Light\", \"Roboto Condensed\";} h2 {padding: 10px 12px; background-color: #E64626; position: static; color: #ffffff; font-size: 40px;} .text_cell_render p { font-size: 15px; } .text_cell_render h1 { font-size: 30px; } h1 {padding: 10px 12px; background-color: #E64626; color: #ffffff; font-size: 40px;} .text_cell_render h3 { padding: 10px 12px; background-color: #0148A4; position: static; color: #ffffff; font-size: 20px;} h4:before{ \n",
       "    content: \"@\"; font-family:\"Wingdings\"; font-style:regular; margin-right: 4px;} .text_cell_render h4 {padding: 8px; font-family: \"Roboto Condensed Light\"; position: static; font-style: italic; background-color: #FFB800; color: #ffffff; font-size: 18px; text-align: center; border-radius: 5px;}input[type=submit] {background-color: #E64626; border: solid; border-color: #734036; color: white; padding: 8px 16px; text-decoration: none; margin: 4px 2px; cursor: pointer; border-radius: 20px;}</style>\n"
      ],
      "text/plain": [
       "<IPython.core.display.HTML object>"
      ]
     },
     "execution_count": 1,
     "metadata": {},
     "output_type": "execute_result"
    }
   ],
   "source": [
    "# DATA2001 Week 2 Tutorial\n",
    "# Material last updated: 28 Feb 2023\n",
    "# Note: this notebook was designed with the Roboto Condensed font, which can be installed here: https://www.1001fonts.com/roboto-condensed-font.html\n",
    "\n",
    "from IPython.display import HTML\n",
    "HTML('''\n",
    "    <style> body {font-family: \"Roboto Condensed Light\", \"Roboto Condensed\";} h2 {padding: 10px 12px; background-color: #E64626; position: static; color: #ffffff; font-size: 40px;} .text_cell_render p { font-size: 15px; } .text_cell_render h1 { font-size: 30px; } h1 {padding: 10px 12px; background-color: #E64626; color: #ffffff; font-size: 40px;} .text_cell_render h3 { padding: 10px 12px; background-color: #0148A4; position: static; color: #ffffff; font-size: 20px;} h4:before{ \n",
    "    content: \"@\"; font-family:\"Wingdings\"; font-style:regular; margin-right: 4px;} .text_cell_render h4 {padding: 8px; font-family: \"Roboto Condensed Light\"; position: static; font-style: italic; background-color: #FFB800; color: #ffffff; font-size: 18px; text-align: center; border-radius: 5px;}input[type=submit] {background-color: #E64626; border: solid; border-color: #734036; color: white; padding: 8px 16px; text-decoration: none; margin: 4px 2px; cursor: pointer; border-radius: 20px;}</style>\n",
    "''')"
   ]
  },
  {
   "cell_type": "markdown",
   "id": "f9424826",
   "metadata": {},
   "source": [
    "# Week 2 - Data Exploration with Python"
   ]
  },
  {
   "cell_type": "markdown",
   "id": "5a3032c7",
   "metadata": {},
   "source": [
    "Welcome to your first tutorial for DATA2x01! We are excited to guide you through a course that should prove both challenging and relevant in a world dominated by DATA. Each week will feature a set of coding exercises, of which your tutor will demonstrate some, while others will be left as an exercise for you to complete.\n",
    "\n",
    "The topic for this week is exploratory data analysis with Python, namely using `pandas` and `matplotlib` to perform initial data wrangling and visualisation on **Apple Music** Data from one of our 2022 tutors. Both offer detailed streaming history, but for simplicity, this tutorial focuses on the **music library** of songs itself.\n",
    "\n",
    "Note: if you happen to be an Apple Music customer yourself, feel free to download a [copy of your own data](https://privacy.apple.com), and use this instead of the dataset we provide. Alternatively, Spotify users may still be interested in their information, and this can be downloaded [here](https://www.spotify.com/us/account/privacy), though this won’t be as useful for this tutorial (less in-depth, in JSON not CSV form, and contains other fascinating/frightening details, such as defining users based on their listening preferences e.g. \"in-car listening\", \"fitness\" or \"studying or focussing\"). Both also take a couple days to prepare, so you may have to return at a later date to re-crunch the numbers on your own data."
   ]
  },
  {
   "cell_type": "markdown",
   "id": "85e656f2",
   "metadata": {},
   "source": [
    "## 1. Importing Data"
   ]
  },
  {
   "cell_type": "markdown",
   "id": "c6ca0d0a",
   "metadata": {},
   "source": [
    "First, we need to import the necessary modules to run this notebook. It is **good practice** to include these at the start of your notebook so someone else running your work can see the modules required to run this on their own device.  "
   ]
  },
  {
   "cell_type": "code",
   "execution_count": 2,
   "id": "9f96ed19",
   "metadata": {},
   "outputs": [],
   "source": [
    "import pandas as pd\n",
    "import numpy as np\n",
    "import matplotlib.pyplot as plt"
   ]
  },
  {
   "cell_type": "markdown",
   "id": "eff22b4a",
   "metadata": {},
   "source": [
    "### 1.1 Read the data"
   ]
  },
  {
   "cell_type": "markdown",
   "id": "551a473b",
   "metadata": {},
   "source": [
    "We need to import our data before we can do anything with it! Make sure you have downloaded `W2_AppleMusic.csv` from Canvas and store it in the same directory as this notebook, or adjust the filepath below if you plan on storing it elsewhere.\n",
    "\n",
    "A first step will often involve gauging how much data we have using `.shape`, and to take a glimpse of the first few rows using `.head()`."
   ]
  },
  {
   "cell_type": "code",
   "execution_count": 3,
   "id": "82baab83",
   "metadata": {},
   "outputs": [
    {
     "name": "stdout",
     "output_type": "stream",
     "text": [
      "Shape of the data: (3119, 53)\n"
     ]
    },
    {
     "data": {
      "text/html": [
       "<div>\n",
       "<style scoped>\n",
       "    .dataframe tbody tr th:only-of-type {\n",
       "        vertical-align: middle;\n",
       "    }\n",
       "\n",
       "    .dataframe tbody tr th {\n",
       "        vertical-align: top;\n",
       "    }\n",
       "\n",
       "    .dataframe thead th {\n",
       "        text-align: right;\n",
       "    }\n",
       "</style>\n",
       "<table border=\"1\" class=\"dataframe\">\n",
       "  <thead>\n",
       "    <tr style=\"text-align: right;\">\n",
       "      <th></th>\n",
       "      <th>Unnamed: 0</th>\n",
       "      <th>Content Type</th>\n",
       "      <th>Track Identifier</th>\n",
       "      <th>Title</th>\n",
       "      <th>Sort Name</th>\n",
       "      <th>Artist</th>\n",
       "      <th>Sort Artist</th>\n",
       "      <th>Composer</th>\n",
       "      <th>Is Part of Compilation</th>\n",
       "      <th>Album</th>\n",
       "      <th>...</th>\n",
       "      <th>Release Date</th>\n",
       "      <th>Display Work Name</th>\n",
       "      <th>Purchased Track Identifier</th>\n",
       "      <th>Apple Music Track Identifier</th>\n",
       "      <th>Tag Matched Track Identifier</th>\n",
       "      <th>Playlist Only Track</th>\n",
       "      <th>Purchase Date</th>\n",
       "      <th>Sort Album Artist</th>\n",
       "      <th>Audio Matched Track Identifier</th>\n",
       "      <th>Sort Composer</th>\n",
       "    </tr>\n",
       "  </thead>\n",
       "  <tbody>\n",
       "    <tr>\n",
       "      <th>0</th>\n",
       "      <td>0</td>\n",
       "      <td>Song</td>\n",
       "      <td>182857262</td>\n",
       "      <td>Never Gonna Give You Up</td>\n",
       "      <td>Never Gonna Give You Up</td>\n",
       "      <td>Rick Astley</td>\n",
       "      <td>Rick Astley</td>\n",
       "      <td>Stock Aitken Waterman</td>\n",
       "      <td>False</td>\n",
       "      <td>Whenever You Need Somebody</td>\n",
       "      <td>...</td>\n",
       "      <td>NaN</td>\n",
       "      <td>0.0</td>\n",
       "      <td>1.549351e+09</td>\n",
       "      <td>1.549351e+09</td>\n",
       "      <td>NaN</td>\n",
       "      <td>NaN</td>\n",
       "      <td>NaN</td>\n",
       "      <td>NaN</td>\n",
       "      <td>NaN</td>\n",
       "      <td>NaN</td>\n",
       "    </tr>\n",
       "    <tr>\n",
       "      <th>1</th>\n",
       "      <td>1</td>\n",
       "      <td>Song</td>\n",
       "      <td>182857266</td>\n",
       "      <td>Lay Me Down</td>\n",
       "      <td>Lay Me Down</td>\n",
       "      <td>Sam Smith</td>\n",
       "      <td>Sam Smith</td>\n",
       "      <td>Sam Smith, James Napier &amp; Elvin Smith</td>\n",
       "      <td>False</td>\n",
       "      <td>In the Lonely Hour</td>\n",
       "      <td>...</td>\n",
       "      <td>2013-02-15T00:00:00Z</td>\n",
       "      <td>NaN</td>\n",
       "      <td>7.926575e+08</td>\n",
       "      <td>7.926575e+08</td>\n",
       "      <td>NaN</td>\n",
       "      <td>NaN</td>\n",
       "      <td>NaN</td>\n",
       "      <td>NaN</td>\n",
       "      <td>NaN</td>\n",
       "      <td>NaN</td>\n",
       "    </tr>\n",
       "    <tr>\n",
       "      <th>2</th>\n",
       "      <td>2</td>\n",
       "      <td>Song</td>\n",
       "      <td>182857270</td>\n",
       "      <td>Everybody Wants To Rule the World</td>\n",
       "      <td>Everybody Wants To Rule the World</td>\n",
       "      <td>Tears for Fears</td>\n",
       "      <td>Tears for Fears</td>\n",
       "      <td>Ian Stanley, Roland Orzabal &amp; Christopher Merr...</td>\n",
       "      <td>False</td>\n",
       "      <td>Songs From the Big Chair</td>\n",
       "      <td>...</td>\n",
       "      <td>1985-02-25T04:00:00Z</td>\n",
       "      <td>0.0</td>\n",
       "      <td>9.116362e+08</td>\n",
       "      <td>9.116362e+08</td>\n",
       "      <td>911636220.0</td>\n",
       "      <td>NaN</td>\n",
       "      <td>NaN</td>\n",
       "      <td>NaN</td>\n",
       "      <td>NaN</td>\n",
       "      <td>NaN</td>\n",
       "    </tr>\n",
       "  </tbody>\n",
       "</table>\n",
       "<p>3 rows × 53 columns</p>\n",
       "</div>"
      ],
      "text/plain": [
       "   Unnamed: 0 Content Type  Track Identifier  \\\n",
       "0           0         Song         182857262   \n",
       "1           1         Song         182857266   \n",
       "2           2         Song         182857270   \n",
       "\n",
       "                               Title                          Sort Name  \\\n",
       "0            Never Gonna Give You Up            Never Gonna Give You Up   \n",
       "1                        Lay Me Down                        Lay Me Down   \n",
       "2  Everybody Wants To Rule the World  Everybody Wants To Rule the World   \n",
       "\n",
       "            Artist      Sort Artist  \\\n",
       "0      Rick Astley      Rick Astley   \n",
       "1        Sam Smith        Sam Smith   \n",
       "2  Tears for Fears  Tears for Fears   \n",
       "\n",
       "                                            Composer  Is Part of Compilation  \\\n",
       "0                              Stock Aitken Waterman                   False   \n",
       "1              Sam Smith, James Napier & Elvin Smith                   False   \n",
       "2  Ian Stanley, Roland Orzabal & Christopher Merr...                   False   \n",
       "\n",
       "                        Album  ...          Release Date Display Work Name  \\\n",
       "0  Whenever You Need Somebody  ...                   NaN               0.0   \n",
       "1          In the Lonely Hour  ...  2013-02-15T00:00:00Z               NaN   \n",
       "2    Songs From the Big Chair  ...  1985-02-25T04:00:00Z               0.0   \n",
       "\n",
       "  Purchased Track Identifier Apple Music Track Identifier  \\\n",
       "0               1.549351e+09                 1.549351e+09   \n",
       "1               7.926575e+08                 7.926575e+08   \n",
       "2               9.116362e+08                 9.116362e+08   \n",
       "\n",
       "  Tag Matched Track Identifier  Playlist Only Track  Purchase Date  \\\n",
       "0                          NaN                  NaN            NaN   \n",
       "1                          NaN                  NaN            NaN   \n",
       "2                  911636220.0                  NaN            NaN   \n",
       "\n",
       "   Sort Album Artist  Audio Matched Track Identifier  Sort Composer  \n",
       "0                NaN                             NaN            NaN  \n",
       "1                NaN                             NaN            NaN  \n",
       "2                NaN                             NaN            NaN  \n",
       "\n",
       "[3 rows x 53 columns]"
      ]
     },
     "execution_count": 3,
     "metadata": {},
     "output_type": "execute_result"
    }
   ],
   "source": [
    "rawData = pd.read_csv('W2_AppleMusic.csv')\n",
    "print(\"Shape of the data:\", rawData.shape)\n",
    "rawData.head(3)"
   ]
  },
  {
   "cell_type": "markdown",
   "id": "cd0b84d9",
   "metadata": {},
   "source": [
    "### 1.2 Prepare a working copy"
   ]
  },
  {
   "cell_type": "markdown",
   "id": "1e618b54",
   "metadata": {},
   "source": [
    "It is once again **good practice** to make sure your raw data is immutable in case of any accidental, irreversible changes. The `.copy()` function can create a working copy of the data.\n",
    "\n",
    "Additionally, since we are not interested in all of the 53 columns, we can take a subset using the code below. "
   ]
  },
  {
   "cell_type": "code",
   "execution_count": 4,
   "id": "7e43c45e",
   "metadata": {},
   "outputs": [],
   "source": [
    "wrkData = rawData.copy()\n",
    "wrkData = wrkData[['Title', 'Artist', 'Composer', 'Album', 'Genre', 'Track Year', 'Track Number On Album', 'Track Count On Album', 'Track Duration', 'Track Play Count', 'Date Added To Library', 'Last Played Date', 'Skip Count']]"
   ]
  },
  {
   "cell_type": "markdown",
   "id": "a844abd7",
   "metadata": {},
   "source": [
    "It is generally good practice to make sure your column names are of the same style. The `.rename()` function allows this to be achieved with ease.\n",
    "#### Can you think of other variable naming styles?  What are some of the challenges of having spaces in variable names?"
   ]
  },
  {
   "cell_type": "code",
   "execution_count": 5,
   "id": "7dd79457",
   "metadata": {},
   "outputs": [
    {
     "data": {
      "text/html": [
       "<div>\n",
       "<style scoped>\n",
       "    .dataframe tbody tr th:only-of-type {\n",
       "        vertical-align: middle;\n",
       "    }\n",
       "\n",
       "    .dataframe tbody tr th {\n",
       "        vertical-align: top;\n",
       "    }\n",
       "\n",
       "    .dataframe thead th {\n",
       "        text-align: right;\n",
       "    }\n",
       "</style>\n",
       "<table border=\"1\" class=\"dataframe\">\n",
       "  <thead>\n",
       "    <tr style=\"text-align: right;\">\n",
       "      <th></th>\n",
       "      <th>Title</th>\n",
       "      <th>Artist</th>\n",
       "      <th>Composer</th>\n",
       "      <th>Album</th>\n",
       "      <th>Genre</th>\n",
       "      <th>Year</th>\n",
       "      <th>TrackNo</th>\n",
       "      <th>AlbumTracks</th>\n",
       "      <th>DurationMs</th>\n",
       "      <th>Plays</th>\n",
       "      <th>Added</th>\n",
       "      <th>LastPlayed</th>\n",
       "      <th>Skips</th>\n",
       "    </tr>\n",
       "  </thead>\n",
       "  <tbody>\n",
       "    <tr>\n",
       "      <th>0</th>\n",
       "      <td>Never Gonna Give You Up</td>\n",
       "      <td>Rick Astley</td>\n",
       "      <td>Stock Aitken Waterman</td>\n",
       "      <td>Whenever You Need Somebody</td>\n",
       "      <td>Pop</td>\n",
       "      <td>1987</td>\n",
       "      <td>1</td>\n",
       "      <td>10</td>\n",
       "      <td>215240</td>\n",
       "      <td>86</td>\n",
       "      <td>2016-10-01T01:30:21Z</td>\n",
       "      <td>2021-12-10T05:47:34Z</td>\n",
       "      <td>10</td>\n",
       "    </tr>\n",
       "    <tr>\n",
       "      <th>1</th>\n",
       "      <td>Lay Me Down</td>\n",
       "      <td>Sam Smith</td>\n",
       "      <td>Sam Smith, James Napier &amp; Elvin Smith</td>\n",
       "      <td>In the Lonely Hour</td>\n",
       "      <td>Pop</td>\n",
       "      <td>2013</td>\n",
       "      <td>10</td>\n",
       "      <td>10</td>\n",
       "      <td>253208</td>\n",
       "      <td>0</td>\n",
       "      <td>2016-10-01T01:31:08Z</td>\n",
       "      <td>NaN</td>\n",
       "      <td>0</td>\n",
       "    </tr>\n",
       "    <tr>\n",
       "      <th>2</th>\n",
       "      <td>Everybody Wants To Rule the World</td>\n",
       "      <td>Tears for Fears</td>\n",
       "      <td>Ian Stanley, Roland Orzabal &amp; Christopher Merr...</td>\n",
       "      <td>Songs From the Big Chair</td>\n",
       "      <td>Pop</td>\n",
       "      <td>2014</td>\n",
       "      <td>3</td>\n",
       "      <td>8</td>\n",
       "      <td>251480</td>\n",
       "      <td>56</td>\n",
       "      <td>2016-10-01T01:31:28Z</td>\n",
       "      <td>2021-10-03T17:51:03Z</td>\n",
       "      <td>3</td>\n",
       "    </tr>\n",
       "    <tr>\n",
       "      <th>3</th>\n",
       "      <td>Everyday People</td>\n",
       "      <td>Sly &amp; The Family Stone</td>\n",
       "      <td>Sylvester Stewart</td>\n",
       "      <td>The Essential Sly &amp; The Family Stone</td>\n",
       "      <td>R&amp;B/Soul</td>\n",
       "      <td>2002</td>\n",
       "      <td>14</td>\n",
       "      <td>18</td>\n",
       "      <td>141267</td>\n",
       "      <td>47</td>\n",
       "      <td>2016-10-01T01:32:13Z</td>\n",
       "      <td>2021-12-14T03:17:54Z</td>\n",
       "      <td>2</td>\n",
       "    </tr>\n",
       "    <tr>\n",
       "      <th>4</th>\n",
       "      <td>Dancing Queen</td>\n",
       "      <td>ABBA</td>\n",
       "      <td>Benny Andersson, Stig Anderson &amp; Björn Ulvaeus</td>\n",
       "      <td>ABBA Gold</td>\n",
       "      <td>Pop</td>\n",
       "      <td>1992</td>\n",
       "      <td>1</td>\n",
       "      <td>19</td>\n",
       "      <td>231844</td>\n",
       "      <td>43</td>\n",
       "      <td>2016-10-01T01:32:28Z</td>\n",
       "      <td>2021-11-03T15:32:58Z</td>\n",
       "      <td>3</td>\n",
       "    </tr>\n",
       "  </tbody>\n",
       "</table>\n",
       "</div>"
      ],
      "text/plain": [
       "                               Title                  Artist  \\\n",
       "0            Never Gonna Give You Up             Rick Astley   \n",
       "1                        Lay Me Down               Sam Smith   \n",
       "2  Everybody Wants To Rule the World         Tears for Fears   \n",
       "3                    Everyday People  Sly & The Family Stone   \n",
       "4                      Dancing Queen                    ABBA   \n",
       "\n",
       "                                            Composer  \\\n",
       "0                              Stock Aitken Waterman   \n",
       "1              Sam Smith, James Napier & Elvin Smith   \n",
       "2  Ian Stanley, Roland Orzabal & Christopher Merr...   \n",
       "3                                  Sylvester Stewart   \n",
       "4     Benny Andersson, Stig Anderson & Björn Ulvaeus   \n",
       "\n",
       "                                  Album     Genre  Year  TrackNo  AlbumTracks  \\\n",
       "0            Whenever You Need Somebody       Pop  1987        1           10   \n",
       "1                    In the Lonely Hour       Pop  2013       10           10   \n",
       "2              Songs From the Big Chair       Pop  2014        3            8   \n",
       "3  The Essential Sly & The Family Stone  R&B/Soul  2002       14           18   \n",
       "4                             ABBA Gold       Pop  1992        1           19   \n",
       "\n",
       "   DurationMs  Plays                 Added            LastPlayed  Skips  \n",
       "0      215240     86  2016-10-01T01:30:21Z  2021-12-10T05:47:34Z     10  \n",
       "1      253208      0  2016-10-01T01:31:08Z                   NaN      0  \n",
       "2      251480     56  2016-10-01T01:31:28Z  2021-10-03T17:51:03Z      3  \n",
       "3      141267     47  2016-10-01T01:32:13Z  2021-12-14T03:17:54Z      2  \n",
       "4      231844     43  2016-10-01T01:32:28Z  2021-11-03T15:32:58Z      3  "
      ]
     },
     "execution_count": 5,
     "metadata": {},
     "output_type": "execute_result"
    }
   ],
   "source": [
    "wrkData.rename(columns={\n",
    "    'Track Year': 'Year',\n",
    "    'Track Number On Album': 'TrackNo',\n",
    "    'Track Count On Album': 'AlbumTracks',\n",
    "    'Track Duration': 'DurationMs',\n",
    "    'Track Play Count': 'Plays',\n",
    "    'Date Added To Library': 'Added',\n",
    "    'Last Played Date': 'LastPlayed',\n",
    "    'Skip Count': 'Skips'\n",
    "}, inplace=True)\n",
    "wrkData.head()"
   ]
  },
  {
   "cell_type": "markdown",
   "id": "9bb409bf",
   "metadata": {},
   "source": [
    "### 1.3 Initial investigation"
   ]
  },
  {
   "cell_type": "markdown",
   "id": "461eb742",
   "metadata": {},
   "source": [
    "Now that we have done some initial data wrangling, let's trial extracting smaller **subsets**, and investigate some data quality issues on the way. Notice how we can access all columns of the data and only some rows using the following code. It's also possible to extract just a few columns, by naming them in a list after the comma.\n",
    "\n",
    "From the subset extracted below, what are some of the data quality concerns here? How could we rectify them? "
   ]
  },
  {
   "cell_type": "code",
   "execution_count": 6,
   "id": "8dbf3ab8",
   "metadata": {},
   "outputs": [
    {
     "data": {
      "text/html": [
       "<div>\n",
       "<style scoped>\n",
       "    .dataframe tbody tr th:only-of-type {\n",
       "        vertical-align: middle;\n",
       "    }\n",
       "\n",
       "    .dataframe tbody tr th {\n",
       "        vertical-align: top;\n",
       "    }\n",
       "\n",
       "    .dataframe thead th {\n",
       "        text-align: right;\n",
       "    }\n",
       "</style>\n",
       "<table border=\"1\" class=\"dataframe\">\n",
       "  <thead>\n",
       "    <tr style=\"text-align: right;\">\n",
       "      <th></th>\n",
       "      <th>Title</th>\n",
       "      <th>Artist</th>\n",
       "      <th>Composer</th>\n",
       "      <th>Album</th>\n",
       "      <th>Genre</th>\n",
       "      <th>Year</th>\n",
       "      <th>TrackNo</th>\n",
       "      <th>AlbumTracks</th>\n",
       "      <th>DurationMs</th>\n",
       "      <th>Plays</th>\n",
       "      <th>Added</th>\n",
       "      <th>LastPlayed</th>\n",
       "      <th>Skips</th>\n",
       "    </tr>\n",
       "  </thead>\n",
       "  <tbody>\n",
       "    <tr>\n",
       "      <th>507</th>\n",
       "      <td>Clair De Lune</td>\n",
       "      <td>NaN</td>\n",
       "      <td>NaN</td>\n",
       "      <td>NaN</td>\n",
       "      <td>NaN</td>\n",
       "      <td>0</td>\n",
       "      <td>0</td>\n",
       "      <td>0</td>\n",
       "      <td>299311</td>\n",
       "      <td>20</td>\n",
       "      <td>2016-05-01T12:44:16Z</td>\n",
       "      <td>2016-08-25T02:15:28Z</td>\n",
       "      <td>1</td>\n",
       "    </tr>\n",
       "    <tr>\n",
       "      <th>870</th>\n",
       "      <td>Clair de Lune</td>\n",
       "      <td>Clair De Lune</td>\n",
       "      <td>Claude Debussy</td>\n",
       "      <td>Clair de Lune - Single</td>\n",
       "      <td>Easy Listening</td>\n",
       "      <td>2014</td>\n",
       "      <td>1</td>\n",
       "      <td>1</td>\n",
       "      <td>338155</td>\n",
       "      <td>109</td>\n",
       "      <td>2016-10-01T03:31:51Z</td>\n",
       "      <td>2021-10-23T17:21:18Z</td>\n",
       "      <td>5</td>\n",
       "    </tr>\n",
       "    <tr>\n",
       "      <th>2736</th>\n",
       "      <td>Moonlight Sonata</td>\n",
       "      <td>Relaxing Piano Music</td>\n",
       "      <td>Ludwig van Beethoven</td>\n",
       "      <td>Relaxing Piano Music Classics: Bach &amp; Beethoven</td>\n",
       "      <td>Classical</td>\n",
       "      <td>2013</td>\n",
       "      <td>1</td>\n",
       "      <td>13</td>\n",
       "      <td>354307</td>\n",
       "      <td>0</td>\n",
       "      <td>2019-11-30T16:42:19Z</td>\n",
       "      <td>NaN</td>\n",
       "      <td>0</td>\n",
       "    </tr>\n",
       "  </tbody>\n",
       "</table>\n",
       "</div>"
      ],
      "text/plain": [
       "                 Title                Artist              Composer  \\\n",
       "507      Clair De Lune                   NaN                   NaN   \n",
       "870      Clair de Lune         Clair De Lune        Claude Debussy   \n",
       "2736  Moonlight Sonata  Relaxing Piano Music  Ludwig van Beethoven   \n",
       "\n",
       "                                                Album           Genre  Year  \\\n",
       "507                                               NaN             NaN     0   \n",
       "870                            Clair de Lune - Single  Easy Listening  2014   \n",
       "2736  Relaxing Piano Music Classics: Bach & Beethoven       Classical  2013   \n",
       "\n",
       "      TrackNo  AlbumTracks  DurationMs  Plays                 Added  \\\n",
       "507         0            0      299311     20  2016-05-01T12:44:16Z   \n",
       "870         1            1      338155    109  2016-10-01T03:31:51Z   \n",
       "2736        1           13      354307      0  2019-11-30T16:42:19Z   \n",
       "\n",
       "                LastPlayed  Skips  \n",
       "507   2016-08-25T02:15:28Z      1  \n",
       "870   2021-10-23T17:21:18Z      5  \n",
       "2736                   NaN      0  "
      ]
     },
     "execution_count": 6,
     "metadata": {},
     "output_type": "execute_result"
    }
   ],
   "source": [
    "wrkData.loc[[507, 870, 2736], ]"
   ]
  },
  {
   "cell_type": "markdown",
   "id": "e1a8fc99",
   "metadata": {},
   "source": [
    "A simple step that might prove worthwhile is to drop songs where the artist field is unpopulated. We could drop all rows with blanks in any field using the basic `.dropna()` function, but this may not be wisest. Songs which haven't been played but are still in the library for example, are probably worth keeping.\n",
    "\n",
    "We can tailor this process by only specifying the \"Artist\" field to drop nulls from, and confirm how the size of the dataset has changed."
   ]
  },
  {
   "cell_type": "code",
   "execution_count": 7,
   "id": "8b012cd2",
   "metadata": {},
   "outputs": [
    {
     "data": {
      "text/plain": [
       "(3061, 13)"
      ]
     },
     "execution_count": 7,
     "metadata": {},
     "output_type": "execute_result"
    }
   ],
   "source": [
    "wrkData.dropna(subset=['Artist'], inplace=True)\n",
    "wrkData.shape"
   ]
  },
  {
   "cell_type": "markdown",
   "id": "ab9cfea0",
   "metadata": {},
   "source": [
    "## 2. Data Cleaning"
   ]
  },
  {
   "cell_type": "markdown",
   "id": "4ce169d4",
   "metadata": {},
   "source": [
    "Equipped with the knowledge of some key quality issues, it's important we actually try and fix some of them! This can involve a variety of different techniques depending on what data you have, and what the **goal** of your analysis is. This stage is where your duplicated data frame becomes very important, so that the raw data remains intact."
   ]
  },
  {
   "cell_type": "markdown",
   "id": "90c18fc9",
   "metadata": {},
   "source": [
    "### 2.1 Removing values"
   ]
  },
  {
   "cell_type": "markdown",
   "id": "860a2cb6",
   "metadata": {},
   "source": [
    "If we have a look at the `Year` column, we can see that there is entries that have been inputted as 0."
   ]
  },
  {
   "cell_type": "code",
   "execution_count": 8,
   "id": "d3707d0f",
   "metadata": {},
   "outputs": [
    {
     "data": {
      "text/plain": [
       "0"
      ]
     },
     "execution_count": 8,
     "metadata": {},
     "output_type": "execute_result"
    }
   ],
   "source": [
    "min(wrkData.Year)"
   ]
  },
  {
   "cell_type": "markdown",
   "id": "aa3915b5",
   "metadata": {},
   "source": [
    "#### Why is it problematic to leave `Year` as 0 for some rows even if we know it's a place holder?\n",
    "We can change all rows where this occurs to have their `Year` replaced by `None`."
   ]
  },
  {
   "cell_type": "code",
   "execution_count": 9,
   "id": "6ebb008e",
   "metadata": {},
   "outputs": [
    {
     "data": {
      "text/plain": [
       "1953.0"
      ]
     },
     "execution_count": 9,
     "metadata": {},
     "output_type": "execute_result"
    }
   ],
   "source": [
    "wrkData.loc[wrkData['Year'] == 0, 'Year'] = None\n",
    "min(wrkData.Year)"
   ]
  },
  {
   "cell_type": "markdown",
   "id": "fa558572",
   "metadata": {},
   "source": [
    "### 2.2 Date types"
   ]
  },
  {
   "cell_type": "markdown",
   "id": "c9031365",
   "metadata": {},
   "source": [
    "It is best to have a look at each column and see what `pandas` has interpreted the data type of each column to be."
   ]
  },
  {
   "cell_type": "code",
   "execution_count": 10,
   "id": "e7afb37e",
   "metadata": {},
   "outputs": [
    {
     "data": {
      "text/plain": [
       "Title           object\n",
       "Artist          object\n",
       "Composer        object\n",
       "Album           object\n",
       "Genre           object\n",
       "Year           float64\n",
       "TrackNo          int64\n",
       "AlbumTracks      int64\n",
       "DurationMs       int64\n",
       "Plays            int64\n",
       "Added           object\n",
       "LastPlayed      object\n",
       "Skips            int64\n",
       "dtype: object"
      ]
     },
     "execution_count": 10,
     "metadata": {},
     "output_type": "execute_result"
    }
   ],
   "source": [
    "wrkData.dtypes"
   ]
  },
  {
   "cell_type": "markdown",
   "id": "c5a0bfc4",
   "metadata": {},
   "source": [
    "While most of these seem okay, the `Added` and `LastPlayed` columns hold Date information, but are being interpreted as text. To facilitate any calculations on these columns, we should convert to the proper data type. "
   ]
  },
  {
   "cell_type": "code",
   "execution_count": 11,
   "id": "4dd13284",
   "metadata": {},
   "outputs": [],
   "source": [
    "wrkData['Added'] = pd.to_datetime(wrkData['Added'])"
   ]
  },
  {
   "cell_type": "markdown",
   "id": "74b2a82e",
   "metadata": {},
   "source": [
    "**Task: Convert the `LastPlayed` column to a date field**\n",
    "\n",
    "Note: you will get an error when you first attempt this! Investigate why this might be, correct it, and then proceed."
   ]
  },
  {
   "cell_type": "code",
   "execution_count": 12,
   "id": "53d35d2b",
   "metadata": {
    "scrolled": false
   },
   "outputs": [
    {
     "data": {
      "text/plain": [
       "0   2021-12-10 05:47:34+00:00\n",
       "1                         NaT\n",
       "2   2021-10-03 17:51:03+00:00\n",
       "3   2021-12-14 03:17:54+00:00\n",
       "4   2021-11-03 15:32:58+00:00\n",
       "Name: LastPlayed, dtype: datetime64[ns, UTC]"
      ]
     },
     "execution_count": 12,
     "metadata": {},
     "output_type": "execute_result"
    }
   ],
   "source": [
    "# wrkData = wrkData.dropna(subset=['LastPlayed'])\n",
    "wrkData['LastPlayed'] = pd.to_datetime(wrkData['LastPlayed'], errors=\"coerce\")\n",
    "wrkData['LastPlayed'].value_counts()\n",
    "wrkData.LastPlayed.head()"
   ]
  },
  {
   "cell_type": "markdown",
   "id": "6527157c",
   "metadata": {},
   "source": [
    "## 3. Data manipulation"
   ]
  },
  {
   "cell_type": "markdown",
   "id": "22890bfb",
   "metadata": {},
   "source": [
    "### 3.1 Additional numeric columns"
   ]
  },
  {
   "cell_type": "markdown",
   "id": "ec884610",
   "metadata": {},
   "source": [
    "`DurationMs` is recorded in milliseconds, which is a level of detail beyond what's useful for our reporting. Columns can be redefined in place, such as below, where this has been converted to the nearest second. "
   ]
  },
  {
   "cell_type": "code",
   "execution_count": 13,
   "id": "43967be1",
   "metadata": {},
   "outputs": [
    {
     "data": {
      "text/html": [
       "<div>\n",
       "<style scoped>\n",
       "    .dataframe tbody tr th:only-of-type {\n",
       "        vertical-align: middle;\n",
       "    }\n",
       "\n",
       "    .dataframe tbody tr th {\n",
       "        vertical-align: top;\n",
       "    }\n",
       "\n",
       "    .dataframe thead th {\n",
       "        text-align: right;\n",
       "    }\n",
       "</style>\n",
       "<table border=\"1\" class=\"dataframe\">\n",
       "  <thead>\n",
       "    <tr style=\"text-align: right;\">\n",
       "      <th></th>\n",
       "      <th>Title</th>\n",
       "      <th>Artist</th>\n",
       "      <th>Composer</th>\n",
       "      <th>Album</th>\n",
       "      <th>Genre</th>\n",
       "      <th>Year</th>\n",
       "      <th>TrackNo</th>\n",
       "      <th>AlbumTracks</th>\n",
       "      <th>DurationMs</th>\n",
       "      <th>Plays</th>\n",
       "      <th>Added</th>\n",
       "      <th>LastPlayed</th>\n",
       "      <th>Skips</th>\n",
       "      <th>Duration</th>\n",
       "    </tr>\n",
       "  </thead>\n",
       "  <tbody>\n",
       "    <tr>\n",
       "      <th>0</th>\n",
       "      <td>Never Gonna Give You Up</td>\n",
       "      <td>Rick Astley</td>\n",
       "      <td>Stock Aitken Waterman</td>\n",
       "      <td>Whenever You Need Somebody</td>\n",
       "      <td>Pop</td>\n",
       "      <td>1987.0</td>\n",
       "      <td>1</td>\n",
       "      <td>10</td>\n",
       "      <td>215240</td>\n",
       "      <td>86</td>\n",
       "      <td>2016-10-01 01:30:21+00:00</td>\n",
       "      <td>2021-12-10 05:47:34+00:00</td>\n",
       "      <td>10</td>\n",
       "      <td>215.0</td>\n",
       "    </tr>\n",
       "  </tbody>\n",
       "</table>\n",
       "</div>"
      ],
      "text/plain": [
       "                     Title       Artist               Composer  \\\n",
       "0  Never Gonna Give You Up  Rick Astley  Stock Aitken Waterman   \n",
       "\n",
       "                        Album Genre    Year  TrackNo  AlbumTracks  DurationMs  \\\n",
       "0  Whenever You Need Somebody   Pop  1987.0        1           10      215240   \n",
       "\n",
       "   Plays                     Added                LastPlayed  Skips  Duration  \n",
       "0     86 2016-10-01 01:30:21+00:00 2021-12-10 05:47:34+00:00     10     215.0  "
      ]
     },
     "execution_count": 13,
     "metadata": {},
     "output_type": "execute_result"
    }
   ],
   "source": [
    "wrkData['Duration'] = round(wrkData['DurationMs'] / 1000)\n",
    "wrkData.head(1)"
   ]
  },
  {
   "cell_type": "markdown",
   "id": "ece1e1bf",
   "metadata": {},
   "source": [
    "String operations can be undertaken as well. For example, some genres involve a split (e.g. \"Hip Hop/Rap\"). We may wish to naively enumerate how many extra genres are listed, and could do so with the below code (note the 4th row - index 3 - yields 1)."
   ]
  },
  {
   "cell_type": "code",
   "execution_count": 14,
   "id": "b198b01e",
   "metadata": {},
   "outputs": [
    {
     "data": {
      "text/html": [
       "<div>\n",
       "<style scoped>\n",
       "    .dataframe tbody tr th:only-of-type {\n",
       "        vertical-align: middle;\n",
       "    }\n",
       "\n",
       "    .dataframe tbody tr th {\n",
       "        vertical-align: top;\n",
       "    }\n",
       "\n",
       "    .dataframe thead th {\n",
       "        text-align: right;\n",
       "    }\n",
       "</style>\n",
       "<table border=\"1\" class=\"dataframe\">\n",
       "  <thead>\n",
       "    <tr style=\"text-align: right;\">\n",
       "      <th></th>\n",
       "      <th>Title</th>\n",
       "      <th>Artist</th>\n",
       "      <th>Composer</th>\n",
       "      <th>Album</th>\n",
       "      <th>Genre</th>\n",
       "      <th>Year</th>\n",
       "      <th>TrackNo</th>\n",
       "      <th>AlbumTracks</th>\n",
       "      <th>DurationMs</th>\n",
       "      <th>Plays</th>\n",
       "      <th>Added</th>\n",
       "      <th>LastPlayed</th>\n",
       "      <th>Skips</th>\n",
       "      <th>Duration</th>\n",
       "      <th>ExtraGenres</th>\n",
       "    </tr>\n",
       "  </thead>\n",
       "  <tbody>\n",
       "    <tr>\n",
       "      <th>0</th>\n",
       "      <td>Never Gonna Give You Up</td>\n",
       "      <td>Rick Astley</td>\n",
       "      <td>Stock Aitken Waterman</td>\n",
       "      <td>Whenever You Need Somebody</td>\n",
       "      <td>Pop</td>\n",
       "      <td>1987.0</td>\n",
       "      <td>1</td>\n",
       "      <td>10</td>\n",
       "      <td>215240</td>\n",
       "      <td>86</td>\n",
       "      <td>2016-10-01 01:30:21+00:00</td>\n",
       "      <td>2021-12-10 05:47:34+00:00</td>\n",
       "      <td>10</td>\n",
       "      <td>215.0</td>\n",
       "      <td>0.0</td>\n",
       "    </tr>\n",
       "    <tr>\n",
       "      <th>1</th>\n",
       "      <td>Lay Me Down</td>\n",
       "      <td>Sam Smith</td>\n",
       "      <td>Sam Smith, James Napier &amp; Elvin Smith</td>\n",
       "      <td>In the Lonely Hour</td>\n",
       "      <td>Pop</td>\n",
       "      <td>2013.0</td>\n",
       "      <td>10</td>\n",
       "      <td>10</td>\n",
       "      <td>253208</td>\n",
       "      <td>0</td>\n",
       "      <td>2016-10-01 01:31:08+00:00</td>\n",
       "      <td>NaT</td>\n",
       "      <td>0</td>\n",
       "      <td>253.0</td>\n",
       "      <td>0.0</td>\n",
       "    </tr>\n",
       "    <tr>\n",
       "      <th>2</th>\n",
       "      <td>Everybody Wants To Rule the World</td>\n",
       "      <td>Tears for Fears</td>\n",
       "      <td>Ian Stanley, Roland Orzabal &amp; Christopher Merr...</td>\n",
       "      <td>Songs From the Big Chair</td>\n",
       "      <td>Pop</td>\n",
       "      <td>2014.0</td>\n",
       "      <td>3</td>\n",
       "      <td>8</td>\n",
       "      <td>251480</td>\n",
       "      <td>56</td>\n",
       "      <td>2016-10-01 01:31:28+00:00</td>\n",
       "      <td>2021-10-03 17:51:03+00:00</td>\n",
       "      <td>3</td>\n",
       "      <td>251.0</td>\n",
       "      <td>0.0</td>\n",
       "    </tr>\n",
       "    <tr>\n",
       "      <th>3</th>\n",
       "      <td>Everyday People</td>\n",
       "      <td>Sly &amp; The Family Stone</td>\n",
       "      <td>Sylvester Stewart</td>\n",
       "      <td>The Essential Sly &amp; The Family Stone</td>\n",
       "      <td>R&amp;B/Soul</td>\n",
       "      <td>2002.0</td>\n",
       "      <td>14</td>\n",
       "      <td>18</td>\n",
       "      <td>141267</td>\n",
       "      <td>47</td>\n",
       "      <td>2016-10-01 01:32:13+00:00</td>\n",
       "      <td>2021-12-14 03:17:54+00:00</td>\n",
       "      <td>2</td>\n",
       "      <td>141.0</td>\n",
       "      <td>1.0</td>\n",
       "    </tr>\n",
       "    <tr>\n",
       "      <th>4</th>\n",
       "      <td>Dancing Queen</td>\n",
       "      <td>ABBA</td>\n",
       "      <td>Benny Andersson, Stig Anderson &amp; Björn Ulvaeus</td>\n",
       "      <td>ABBA Gold</td>\n",
       "      <td>Pop</td>\n",
       "      <td>1992.0</td>\n",
       "      <td>1</td>\n",
       "      <td>19</td>\n",
       "      <td>231844</td>\n",
       "      <td>43</td>\n",
       "      <td>2016-10-01 01:32:28+00:00</td>\n",
       "      <td>2021-11-03 15:32:58+00:00</td>\n",
       "      <td>3</td>\n",
       "      <td>232.0</td>\n",
       "      <td>0.0</td>\n",
       "    </tr>\n",
       "  </tbody>\n",
       "</table>\n",
       "</div>"
      ],
      "text/plain": [
       "                               Title                  Artist  \\\n",
       "0            Never Gonna Give You Up             Rick Astley   \n",
       "1                        Lay Me Down               Sam Smith   \n",
       "2  Everybody Wants To Rule the World         Tears for Fears   \n",
       "3                    Everyday People  Sly & The Family Stone   \n",
       "4                      Dancing Queen                    ABBA   \n",
       "\n",
       "                                            Composer  \\\n",
       "0                              Stock Aitken Waterman   \n",
       "1              Sam Smith, James Napier & Elvin Smith   \n",
       "2  Ian Stanley, Roland Orzabal & Christopher Merr...   \n",
       "3                                  Sylvester Stewart   \n",
       "4     Benny Andersson, Stig Anderson & Björn Ulvaeus   \n",
       "\n",
       "                                  Album     Genre    Year  TrackNo  \\\n",
       "0            Whenever You Need Somebody       Pop  1987.0        1   \n",
       "1                    In the Lonely Hour       Pop  2013.0       10   \n",
       "2              Songs From the Big Chair       Pop  2014.0        3   \n",
       "3  The Essential Sly & The Family Stone  R&B/Soul  2002.0       14   \n",
       "4                             ABBA Gold       Pop  1992.0        1   \n",
       "\n",
       "   AlbumTracks  DurationMs  Plays                     Added  \\\n",
       "0           10      215240     86 2016-10-01 01:30:21+00:00   \n",
       "1           10      253208      0 2016-10-01 01:31:08+00:00   \n",
       "2            8      251480     56 2016-10-01 01:31:28+00:00   \n",
       "3           18      141267     47 2016-10-01 01:32:13+00:00   \n",
       "4           19      231844     43 2016-10-01 01:32:28+00:00   \n",
       "\n",
       "                 LastPlayed  Skips  Duration  ExtraGenres  \n",
       "0 2021-12-10 05:47:34+00:00     10     215.0          0.0  \n",
       "1                       NaT      0     253.0          0.0  \n",
       "2 2021-10-03 17:51:03+00:00      3     251.0          0.0  \n",
       "3 2021-12-14 03:17:54+00:00      2     141.0          1.0  \n",
       "4 2021-11-03 15:32:58+00:00      3     232.0          0.0  "
      ]
     },
     "execution_count": 14,
     "metadata": {},
     "output_type": "execute_result"
    }
   ],
   "source": [
    "wrkData['ExtraGenres'] = wrkData['Genre'].str.count('/')\n",
    "wrkData.head()"
   ]
  },
  {
   "cell_type": "markdown",
   "id": "39537c0c",
   "metadata": {},
   "source": [
    "Another column of interest could be `Composer`. Notice how for some songs there is only 1, while for others there is a few. \n",
    "#### How would we best count the number of composers for each song?\n",
    "Additionally, what sort of assumptions would we be making here? These questions are important to both consider in your data pipeline, as well as to note down and document in deliverables.\n",
    "<br><br>\n",
    "**Task: Create a new column `ComposerCount` which counts the number of composers each song has**"
   ]
  },
  {
   "cell_type": "code",
   "execution_count": 64,
   "id": "e478651f",
   "metadata": {},
   "outputs": [
    {
     "data": {
      "text/plain": [
       "1466    Vanda, Young, Harry Vanda, G. Young, George Yo...\n",
       "2095    George Young, Harry Vanda & Harry Vanda & Geor...\n",
       "3116    A Lasry/J Lawrence & C Trenet, Charles Trenet ...\n",
       "Name: Composer, dtype: object"
      ]
     },
     "execution_count": 64,
     "metadata": {},
     "output_type": "execute_result"
    }
   ],
   "source": [
    "### TO DO\n",
    "wrkData.Composer.head(10)\n",
    "wrkData['ComposerCount'] = wrkData.Composer.str.count(\"&\") + 1\n",
    "wrkData[wrkData['ComposerCount'] > 2].Composer"
   ]
  },
  {
   "cell_type": "markdown",
   "id": "8d19d2f6",
   "metadata": {},
   "source": [
    "### 3.2 Additional categorical columns"
   ]
  },
  {
   "cell_type": "markdown",
   "id": "d8a00deb",
   "metadata": {},
   "source": [
    "We may also want to provide categorical columns which act as 'flags' for the presence of a particular value. Conditional columns can be defined using the `np.where()` function. The simple example below defines all Harry Styles songs as currently \"on tour\", given he is currently in Australia, then returns only songs with \"Sign\" in the title to confirm its success."
   ]
  },
  {
   "cell_type": "code",
   "execution_count": 16,
   "id": "0f05d100",
   "metadata": {},
   "outputs": [
    {
     "data": {
      "text/html": [
       "<div>\n",
       "<style scoped>\n",
       "    .dataframe tbody tr th:only-of-type {\n",
       "        vertical-align: middle;\n",
       "    }\n",
       "\n",
       "    .dataframe tbody tr th {\n",
       "        vertical-align: top;\n",
       "    }\n",
       "\n",
       "    .dataframe thead th {\n",
       "        text-align: right;\n",
       "    }\n",
       "</style>\n",
       "<table border=\"1\" class=\"dataframe\">\n",
       "  <thead>\n",
       "    <tr style=\"text-align: right;\">\n",
       "      <th></th>\n",
       "      <th>Title</th>\n",
       "      <th>Artist</th>\n",
       "      <th>Composer</th>\n",
       "      <th>Album</th>\n",
       "      <th>Genre</th>\n",
       "      <th>Year</th>\n",
       "      <th>TrackNo</th>\n",
       "      <th>AlbumTracks</th>\n",
       "      <th>DurationMs</th>\n",
       "      <th>Plays</th>\n",
       "      <th>Added</th>\n",
       "      <th>LastPlayed</th>\n",
       "      <th>Skips</th>\n",
       "      <th>Duration</th>\n",
       "      <th>ExtraGenres</th>\n",
       "      <th>OnTour</th>\n",
       "    </tr>\n",
       "  </thead>\n",
       "  <tbody>\n",
       "    <tr>\n",
       "      <th>869</th>\n",
       "      <td>Signed, Sealed, Delivered (I'm Yours)</td>\n",
       "      <td>Stevie Wonder</td>\n",
       "      <td>Stevie Wonder, Lee Garrett, Syreeta Wright &amp; L...</td>\n",
       "      <td>Number Ones</td>\n",
       "      <td>R&amp;B/Soul</td>\n",
       "      <td>1970.0</td>\n",
       "      <td>5</td>\n",
       "      <td>20</td>\n",
       "      <td>157999</td>\n",
       "      <td>2</td>\n",
       "      <td>2016-10-01 03:30:58+00:00</td>\n",
       "      <td>2017-01-21 23:05:04+00:00</td>\n",
       "      <td>6</td>\n",
       "      <td>158.0</td>\n",
       "      <td>1.0</td>\n",
       "      <td>N</td>\n",
       "    </tr>\n",
       "    <tr>\n",
       "      <th>1730</th>\n",
       "      <td>Sign of the Times</td>\n",
       "      <td>Harry Styles</td>\n",
       "      <td>Harry Styles, Jeff Bhasker, Mitch Rowland, Rya...</td>\n",
       "      <td>Harry Styles</td>\n",
       "      <td>Pop</td>\n",
       "      <td>2017.0</td>\n",
       "      <td>2</td>\n",
       "      <td>10</td>\n",
       "      <td>340707</td>\n",
       "      <td>36</td>\n",
       "      <td>2017-05-16 03:14:01+00:00</td>\n",
       "      <td>2021-06-28 05:28:42+00:00</td>\n",
       "      <td>2</td>\n",
       "      <td>341.0</td>\n",
       "      <td>0.0</td>\n",
       "      <td>Y</td>\n",
       "    </tr>\n",
       "  </tbody>\n",
       "</table>\n",
       "</div>"
      ],
      "text/plain": [
       "                                      Title         Artist  \\\n",
       "869   Signed, Sealed, Delivered (I'm Yours)  Stevie Wonder   \n",
       "1730                      Sign of the Times   Harry Styles   \n",
       "\n",
       "                                               Composer         Album  \\\n",
       "869   Stevie Wonder, Lee Garrett, Syreeta Wright & L...   Number Ones   \n",
       "1730  Harry Styles, Jeff Bhasker, Mitch Rowland, Rya...  Harry Styles   \n",
       "\n",
       "         Genre    Year  TrackNo  AlbumTracks  DurationMs  Plays  \\\n",
       "869   R&B/Soul  1970.0        5           20      157999      2   \n",
       "1730       Pop  2017.0        2           10      340707     36   \n",
       "\n",
       "                         Added                LastPlayed  Skips  Duration  \\\n",
       "869  2016-10-01 03:30:58+00:00 2017-01-21 23:05:04+00:00      6     158.0   \n",
       "1730 2017-05-16 03:14:01+00:00 2021-06-28 05:28:42+00:00      2     341.0   \n",
       "\n",
       "      ExtraGenres OnTour  \n",
       "869           1.0      N  \n",
       "1730          0.0      Y  "
      ]
     },
     "execution_count": 16,
     "metadata": {},
     "output_type": "execute_result"
    }
   ],
   "source": [
    "wrkData['OnTour'] = np.where(wrkData['Artist'] == 'Harry Styles', 'Y', 'N')\n",
    "wrkData.loc[wrkData['Title'].str.contains('Sign'), ]"
   ]
  },
  {
   "cell_type": "markdown",
   "id": "2364206a",
   "metadata": {},
   "source": [
    "For a more practical example, let's say we are interested in creating a flag to warn of songs that contain potentially explicit language.\n",
    "\n",
    "We can first have a look at what `Genre`'s we have and consider which may be susceptible."
   ]
  },
  {
   "cell_type": "code",
   "execution_count": 17,
   "id": "27593259",
   "metadata": {},
   "outputs": [
    {
     "data": {
      "text/plain": [
       "array(['Pop', 'R&B/Soul', 'French Pop', 'Folk', 'Alternative', 'Rock',\n",
       "       'Singer/Songwriter', 'Easy Listening', 'Alternative & Punk', 'R&B',\n",
       "       'Hip-Hop/Rap', 'Rap & Hip-Hop', 'Techno', 'Rap', 'AlternRock', nan,\n",
       "       'Indie', 'Soundtrack', 'Dance', 'Soft Rock', \"Children's Music\",\n",
       "       'Blues', 'Electronic', 'Contemporary R&B', 'Country', 'Jazz',\n",
       "       'Hip-Hop', 'Indie Pop', 'Holiday', 'New Age', 'Classical', 'Punk',\n",
       "       'Christian', 'Alternative Folk', 'Adult Alternative', 'Lullabies',\n",
       "       'Classical Crossover', 'Hard Rock', 'Reggae', 'Comedy',\n",
       "       'Indie Rock', 'Hip Hop/Rap', 'Urbano latino', 'Christmas', 'Funk',\n",
       "       'Vocal', 'Traditional Folk', 'New Acoustic', 'Vocal Pop', 'K-Pop',\n",
       "       'Worldwide', 'New Wave', 'Adult Contemporary', 'Oldies', 'Latin',\n",
       "       'Folk-Rock', 'Soul', 'Disco', 'Old School Rap', 'Psychedelic',\n",
       "       'Música tropical', 'Electronica'], dtype=object)"
      ]
     },
     "execution_count": 17,
     "metadata": {},
     "output_type": "execute_result"
    }
   ],
   "source": [
    "wrkData.Genre.unique()"
   ]
  },
  {
   "cell_type": "markdown",
   "id": "3965c8b5",
   "metadata": {},
   "source": [
    "**Task: Create a new column `SFW` (\"safe for work\") which flags whether a song is potentially explicit**\n",
    "\n",
    "For simplicity, define all songs with 'Rap' in the genre as unsafe to play when parents or young children are around. Feel free to extend this if desired!\n",
    "\n",
    "Confirm your success by printing all songs with the \"Black Eyed Peas\" as the artist."
   ]
  },
  {
   "cell_type": "code",
   "execution_count": 92,
   "id": "39c41bd1",
   "metadata": {},
   "outputs": [
    {
     "data": {
      "text/html": [
       "<div>\n",
       "<style scoped>\n",
       "    .dataframe tbody tr th:only-of-type {\n",
       "        vertical-align: middle;\n",
       "    }\n",
       "\n",
       "    .dataframe tbody tr th {\n",
       "        vertical-align: top;\n",
       "    }\n",
       "\n",
       "    .dataframe thead th {\n",
       "        text-align: right;\n",
       "    }\n",
       "</style>\n",
       "<table border=\"1\" class=\"dataframe\">\n",
       "  <thead>\n",
       "    <tr style=\"text-align: right;\">\n",
       "      <th></th>\n",
       "      <th>Title</th>\n",
       "      <th>Artist</th>\n",
       "      <th>Genre</th>\n",
       "      <th>SFW</th>\n",
       "    </tr>\n",
       "  </thead>\n",
       "  <tbody>\n",
       "    <tr>\n",
       "      <th>1666</th>\n",
       "      <td>I Gotta Feeling</td>\n",
       "      <td>Black Eyed Peas</td>\n",
       "      <td>Pop</td>\n",
       "      <td>True</td>\n",
       "    </tr>\n",
       "    <tr>\n",
       "      <th>1667</th>\n",
       "      <td>My Humps</td>\n",
       "      <td>Black Eyed Peas</td>\n",
       "      <td>Hip-Hop/Rap</td>\n",
       "      <td>False</td>\n",
       "    </tr>\n",
       "    <tr>\n",
       "      <th>1668</th>\n",
       "      <td>Meet Me Halfway</td>\n",
       "      <td>Black Eyed Peas</td>\n",
       "      <td>Pop</td>\n",
       "      <td>True</td>\n",
       "    </tr>\n",
       "    <tr>\n",
       "      <th>1669</th>\n",
       "      <td>Boom Boom Pow</td>\n",
       "      <td>Black Eyed Peas</td>\n",
       "      <td>Pop</td>\n",
       "      <td>True</td>\n",
       "    </tr>\n",
       "    <tr>\n",
       "      <th>1670</th>\n",
       "      <td>Rock That Body</td>\n",
       "      <td>Black Eyed Peas</td>\n",
       "      <td>Pop</td>\n",
       "      <td>True</td>\n",
       "    </tr>\n",
       "    <tr>\n",
       "      <th>3077</th>\n",
       "      <td>Let's Get It Started (Spike Mix) [Bonus Track]</td>\n",
       "      <td>Black Eyed Peas</td>\n",
       "      <td>Pop</td>\n",
       "      <td>True</td>\n",
       "    </tr>\n",
       "  </tbody>\n",
       "</table>\n",
       "</div>"
      ],
      "text/plain": [
       "                                               Title           Artist  \\\n",
       "1666                                 I Gotta Feeling  Black Eyed Peas   \n",
       "1667                                        My Humps  Black Eyed Peas   \n",
       "1668                                 Meet Me Halfway  Black Eyed Peas   \n",
       "1669                                   Boom Boom Pow  Black Eyed Peas   \n",
       "1670                                  Rock That Body  Black Eyed Peas   \n",
       "3077  Let's Get It Started (Spike Mix) [Bonus Track]  Black Eyed Peas   \n",
       "\n",
       "            Genre    SFW  \n",
       "1666          Pop   True  \n",
       "1667  Hip-Hop/Rap  False  \n",
       "1668          Pop   True  \n",
       "1669          Pop   True  \n",
       "1670          Pop   True  \n",
       "3077          Pop   True  "
      ]
     },
     "execution_count": 92,
     "metadata": {},
     "output_type": "execute_result"
    }
   ],
   "source": [
    "wrkData['SFW'] = wrkData.Genre.str.contains(\"Rap\") == False\n",
    "# wrkData[wrkData.SFW == False]\n",
    "wrkData[wrkData.Artist == \"Black Eyed Peas\"][[\"Title\", \"Artist\", \"Genre\", \"SFW\"]]"
   ]
  },
  {
   "cell_type": "markdown",
   "id": "15c206ff",
   "metadata": {},
   "source": [
    "## 4. Analysing data"
   ]
  },
  {
   "cell_type": "markdown",
   "id": "04b43725",
   "metadata": {},
   "source": [
    "Now that we have wrangled the data, let's actually analyse it! The form of the analysis will come down to the desired output as well as scope, but for this exercise we will do some exploratory data analysis and show some of the interesting features of the dataset."
   ]
  },
  {
   "cell_type": "markdown",
   "id": "2433790a",
   "metadata": {},
   "source": [
    "### 4.1 Ordering"
   ]
  },
  {
   "cell_type": "markdown",
   "id": "b2018653",
   "metadata": {},
   "source": [
    "When thinking about our music data, some interesting questions may come to mind: \n",
    "- What was the last song played by the user? \n",
    "- What was the first song added to their library? \n",
    "- According to their most played songs, what is their favourite artist?\n",
    "\n",
    "Notice how once data cleaning, though arduous, is completed, these sorts of questions can be answered with ease and little code.\n",
    "\n",
    "**Task: Write code to answer the above questions.**\n",
    "\n",
    "Use the [`.sort_values()`](https://pandas.pydata.org/docs/reference/api/pandas.DataFrame.sort_values.html) or [`.nlargest()`](https://pandas.pydata.org/docs/reference/api/pandas.DataFrame.nlargest.html) functions to answer the questions, and investigate the Pandas documentation (linked) to understand more about how these operations can be used."
   ]
  },
  {
   "cell_type": "code",
   "execution_count": 99,
   "id": "1e8b4c07",
   "metadata": {},
   "outputs": [
    {
     "data": {
      "text/html": [
       "<div>\n",
       "<style scoped>\n",
       "    .dataframe tbody tr th:only-of-type {\n",
       "        vertical-align: middle;\n",
       "    }\n",
       "\n",
       "    .dataframe tbody tr th {\n",
       "        vertical-align: top;\n",
       "    }\n",
       "\n",
       "    .dataframe thead th {\n",
       "        text-align: right;\n",
       "    }\n",
       "</style>\n",
       "<table border=\"1\" class=\"dataframe\">\n",
       "  <thead>\n",
       "    <tr style=\"text-align: right;\">\n",
       "      <th></th>\n",
       "      <th>LastPlayed</th>\n",
       "      <th>Title</th>\n",
       "      <th>Artist</th>\n",
       "      <th>Composer</th>\n",
       "    </tr>\n",
       "  </thead>\n",
       "  <tbody>\n",
       "    <tr>\n",
       "      <th>3009</th>\n",
       "      <td>2022-02-19 18:44:04+00:00</td>\n",
       "      <td>Deep Shadows</td>\n",
       "      <td>Little Ann</td>\n",
       "      <td>Dave Hamilton, Rony Darrell &amp; Ann Bridgeforth</td>\n",
       "    </tr>\n",
       "    <tr>\n",
       "      <th>1038</th>\n",
       "      <td>2022-02-19 18:41:27+00:00</td>\n",
       "      <td>Across the Universe</td>\n",
       "      <td>Rufus Wainwright</td>\n",
       "      <td>NaN</td>\n",
       "    </tr>\n",
       "    <tr>\n",
       "      <th>1834</th>\n",
       "      <td>2022-02-19 18:37:19+00:00</td>\n",
       "      <td>Cherry</td>\n",
       "      <td>Lana Del Rey</td>\n",
       "      <td>Lana Del Rey &amp; Tim Larcombe</td>\n",
       "    </tr>\n",
       "  </tbody>\n",
       "</table>\n",
       "</div>"
      ],
      "text/plain": [
       "                    LastPlayed                Title            Artist  \\\n",
       "3009 2022-02-19 18:44:04+00:00         Deep Shadows        Little Ann   \n",
       "1038 2022-02-19 18:41:27+00:00  Across the Universe  Rufus Wainwright   \n",
       "1834 2022-02-19 18:37:19+00:00               Cherry      Lana Del Rey   \n",
       "\n",
       "                                           Composer  \n",
       "3009  Dave Hamilton, Rony Darrell & Ann Bridgeforth  \n",
       "1038                                            NaN  \n",
       "1834                    Lana Del Rey & Tim Larcombe  "
      ]
     },
     "execution_count": 99,
     "metadata": {},
     "output_type": "execute_result"
    }
   ],
   "source": [
    "# What was the last song played by the user?\n",
    "# max(wrkData.LastPlayed)\n",
    "wrkData.nlargest(3, \"LastPlayed\")[[\"LastPlayed\", \"Title\", \"Artist\", \"Composer\"]]"
   ]
  },
  {
   "cell_type": "code",
   "execution_count": 113,
   "id": "ec88b205",
   "metadata": {},
   "outputs": [
    {
     "name": "stdout",
     "output_type": "stream",
     "text": [
      "|     | Added                     | Title                       | Artist      |\n",
      "|----:|:--------------------------|:----------------------------|:------------|\n",
      "| 148 | 2007-07-04 01:42:32+00:00 | Chinese Translation         | M. Ward     |\n",
      "| 138 | 2008-12-13 14:13:58+00:00 | Tiger Mountain Peasant Song | Fleet Foxes |\n",
      "| 181 | 2008-12-13 14:13:58+00:00 | Meadowlarks                 | Fleet Foxes |\n",
      "\n",
      "|      | Added                     | Title               | Artist             |\n",
      "|-----:|:--------------------------|:--------------------|:-------------------|\n",
      "| 3118 | 2022-02-16 16:08:41+00:00 | Put Your Records On | Corinne Bailey Rae |\n",
      "| 3117 | 2022-02-16 16:03:49+00:00 | Alright             | Supergrass         |\n",
      "| 3100 | 2022-02-10 05:05:45+00:00 | Delta               | alt-J              |\n"
     ]
    }
   ],
   "source": [
    "# What was the first song added to their library?\n",
    "print((wrkData.nsmallest(3, \"Added\")[[\"Added\", \"Title\", \"Artist\"]]).to_markdown())\n",
    "print()\n",
    "print((wrkData.nlargest(3, \"Added\")[[\"Added\", \"Title\", \"Artist\"]]).to_markdown())"
   ]
  },
  {
   "cell_type": "markdown",
   "id": "44b6c462",
   "metadata": {},
   "source": [
    "### 4.2 Grouping"
   ]
  },
  {
   "cell_type": "markdown",
   "id": "b2999a9a",
   "metadata": {},
   "source": [
    "Another technique is using one variable to aggregate over other aspects of the data. For example, we may be interested in the most prevalent artists in the dataset.\n",
    "\n",
    "We can create a new dataframe with one row per artist rather than per song, by **\"grouping by\"** artist. This concept will return in later weeks of SQL, and might take a bit to get used to at first!\n",
    "\n",
    "From there, we can instruct it to count how many titles exist for each, using the `.agg()` function, and assign that column as \"Songs\". From there we find the top 5, similarly to the previous question."
   ]
  },
  {
   "cell_type": "code",
   "execution_count": 20,
   "id": "3f15da96",
   "metadata": {},
   "outputs": [
    {
     "data": {
      "text/html": [
       "<div>\n",
       "<style scoped>\n",
       "    .dataframe tbody tr th:only-of-type {\n",
       "        vertical-align: middle;\n",
       "    }\n",
       "\n",
       "    .dataframe tbody tr th {\n",
       "        vertical-align: top;\n",
       "    }\n",
       "\n",
       "    .dataframe thead th {\n",
       "        text-align: right;\n",
       "    }\n",
       "</style>\n",
       "<table border=\"1\" class=\"dataframe\">\n",
       "  <thead>\n",
       "    <tr style=\"text-align: right;\">\n",
       "      <th></th>\n",
       "      <th>Artist</th>\n",
       "      <th>Songs</th>\n",
       "    </tr>\n",
       "  </thead>\n",
       "  <tbody>\n",
       "    <tr>\n",
       "      <th>965</th>\n",
       "      <td>The Beatles</td>\n",
       "      <td>160</td>\n",
       "    </tr>\n",
       "    <tr>\n",
       "      <th>849</th>\n",
       "      <td>Rockabye Baby!</td>\n",
       "      <td>125</td>\n",
       "    </tr>\n",
       "    <tr>\n",
       "      <th>779</th>\n",
       "      <td>Passenger</td>\n",
       "      <td>77</td>\n",
       "    </tr>\n",
       "    <tr>\n",
       "      <th>1155</th>\n",
       "      <td>alt-J</td>\n",
       "      <td>73</td>\n",
       "    </tr>\n",
       "    <tr>\n",
       "      <th>270</th>\n",
       "      <td>David Arnold &amp; Michael Price</td>\n",
       "      <td>61</td>\n",
       "    </tr>\n",
       "  </tbody>\n",
       "</table>\n",
       "</div>"
      ],
      "text/plain": [
       "                            Artist  Songs\n",
       "965                    The Beatles    160\n",
       "849                 Rockabye Baby!    125\n",
       "779                      Passenger     77\n",
       "1155                         alt-J     73\n",
       "270   David Arnold & Michael Price     61"
      ]
     },
     "execution_count": 20,
     "metadata": {},
     "output_type": "execute_result"
    }
   ],
   "source": [
    "artists = wrkData.groupby('Artist').agg(Songs = ('Title','count')).reset_index()\n",
    "artists.sort_values(by=['Songs'], ascending=False).head()"
   ]
  },
  {
   "cell_type": "markdown",
   "id": "43b7e645",
   "metadata": {},
   "source": [
    "**Task: Determine which genres have the greatest number of plays, and also include how many skips each genre has.**"
   ]
  },
  {
   "cell_type": "code",
   "execution_count": 119,
   "id": "072762ba",
   "metadata": {},
   "outputs": [
    {
     "data": {
      "text/plain": [
       "0      470\n",
       "1      136\n",
       "2       73\n",
       "3       70\n",
       "15      67\n",
       "      ... \n",
       "107      1\n",
       "89       1\n",
       "97       1\n",
       "102      1\n",
       "134      1\n",
       "Name: Plays, Length: 143, dtype: int64"
      ]
     },
     "execution_count": 119,
     "metadata": {},
     "output_type": "execute_result"
    }
   ],
   "source": [
    "wrkData.groupby('Genre').agg(play_per_genre = (\"Plays\", \"count\"))\n",
    "wrkData.Plays.value_counts()"
   ]
  },
  {
   "cell_type": "markdown",
   "id": "07226ae0",
   "metadata": {},
   "source": [
    "## 5. Visualising data"
   ]
  },
  {
   "cell_type": "markdown",
   "id": "179a75a9",
   "metadata": {},
   "source": [
    "The next natural step is to visualise the data. This could be a precursor to greater statistical investigation, or stand on its own for analysis. Revising the lectures notes and/or your first year statistics will prove helpful when determining the appropriate visualisations for specific data types."
   ]
  },
  {
   "cell_type": "markdown",
   "id": "64d6ee06",
   "metadata": {},
   "source": [
    "### 5.1 Histograms"
   ]
  },
  {
   "cell_type": "markdown",
   "id": "fab9ee47",
   "metadata": {},
   "source": [
    "Creating a histogram for songs by duration is a useful and satisfying representation of the data.\n",
    "\n",
    "The `bins` have been set at a minimum of 0 and maximum of 1200 seconds, which excludes a few outliers (there are a couple quite long songs in the dataset). The width of each bin range has also been set to 10 seconds, which can be adjusted for more abstract or refined visuals (try changing it!).\n",
    "\n",
    "Other aspects of the code below are purely aesthetic, such as plot titles, axis labels, colours, etc."
   ]
  },
  {
   "cell_type": "code",
   "execution_count": 22,
   "id": "90c0fd7a",
   "metadata": {},
   "outputs": [
    {
     "data": {
      "image/png": "[encoded data removed]",
      "text/plain": [
       "<Figure size 640x480 with 1 Axes>"
      ]
     },
     "metadata": {},
     "output_type": "display_data"
    }
   ],
   "source": [
    "plt.hist(wrkData['Duration'], bins=np.arange(0,1200,10), alpha=0.5, color =\"#0148A4\")\n",
    "plt.title('Duration by Song')\n",
    "plt.xlabel('Duration (seconds)')\n",
    "plt.ylabel('Number of songs')\n",
    "plt.grid()"
   ]
  },
  {
   "cell_type": "markdown",
   "id": "2f49bdd3",
   "metadata": {},
   "source": [
    "Alternatively, boxplots can be used to represent the same information in a different way."
   ]
  },
  {
   "cell_type": "code",
   "execution_count": 23,
   "id": "7fab3bc9",
   "metadata": {},
   "outputs": [
    {
     "data": {
      "image/png": "[encoded data removed]",
      "text/plain": [
       "<Figure size 640x480 with 1 Axes>"
      ]
     },
     "metadata": {},
     "output_type": "display_data"
    }
   ],
   "source": [
    "plt.boxplot(wrkData.loc[wrkData['Duration'] <= 1200, 'Duration'], vert=False)\n",
    "plt.title('Distribution of Duration')\n",
    "plt.xlabel('Duration (seconds)')\n",
    "plt.grid()"
   ]
  },
  {
   "cell_type": "markdown",
   "id": "6fb0b107",
   "metadata": {},
   "source": [
    "### 5.2 Bar charts with grouping"
   ]
  },
  {
   "cell_type": "markdown",
   "id": "9bd53dce",
   "metadata": {},
   "source": [
    "We can also return to our `.groupby()` operation for graphs. The below is quite similar, but involves a bar chart for number of songs each year."
   ]
  },
  {
   "cell_type": "code",
   "execution_count": 24,
   "id": "f345ef4a",
   "metadata": {},
   "outputs": [
    {
     "data": {
      "image/png": "[encoded data removed]",
      "text/plain": [
       "<Figure size 640x480 with 1 Axes>"
      ]
     },
     "metadata": {},
     "output_type": "display_data"
    }
   ],
   "source": [
    "years = wrkData.groupby('Year').size().reset_index(name='Songs')\n",
    "plt.bar(years['Year'], years['Songs'], alpha=0.5, color =\"#0148A4\", align='center')\n",
    "plt.title('Number of Songs Over Time')\n",
    "plt.xlabel('Year')\n",
    "plt.ylabel('Number of songs')\n",
    "plt.grid()"
   ]
  },
  {
   "cell_type": "markdown",
   "id": "6cecfbd9",
   "metadata": {},
   "source": [
    "### 5.3 Free choice visual"
   ]
  },
  {
   "cell_type": "markdown",
   "id": "a7de0689",
   "metadata": {},
   "source": [
    "Now that you've seen how to visualise in Python, it's time to do your own!\n",
    "\n",
    "**Task: Consider a particular variable(s) of choice and make an interesting visualisation to explore.**"
   ]
  },
  {
   "cell_type": "code",
   "execution_count": 25,
   "id": "c3340f68",
   "metadata": {},
   "outputs": [],
   "source": [
    "### TO DO"
   ]
  },
  {
   "cell_type": "markdown",
   "id": "e52d945e",
   "metadata": {},
   "source": [
    "## 6. Optional Extra Task"
   ]
  },
  {
   "cell_type": "markdown",
   "id": "5cb3463b",
   "metadata": {},
   "source": [
    "As an optional extension task - a practical use of this data could involve determining which genres the listener are most or least engaged with.\n",
    "\n",
    "**Optional Task: Determine which genres have the highest/lowest skip ratio**\n",
    "\n",
    "Only include genres with at least 10 encounters in your output, and the skip ratio = total skips divided by total encounters (the sum of plays and skips)"
   ]
  },
  {
   "cell_type": "code",
   "execution_count": 26,
   "id": "967e19d8",
   "metadata": {},
   "outputs": [],
   "source": [
    "### TO DO"
   ]
  }
 ],
 "metadata": {
  "kernelspec": {
   "display_name": "Python 3 (ipykernel)",
   "language": "python",
   "name": "python3"
  },
  "language_info": {
   "codemirror_mode": {
    "name": "ipython",
    "version": 3
   },
   "file_extension": ".py",
   "mimetype": "text/x-python",
   "name": "python",
   "nbconvert_exporter": "python",
   "pygments_lexer": "ipython3",
   "version": "3.9.13"
  }
 },
 "nbformat": 4,
 "nbformat_minor": 5
}
