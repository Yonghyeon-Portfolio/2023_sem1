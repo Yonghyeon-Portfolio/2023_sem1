{
 "cells": [
  {
   "cell_type": "code",
   "execution_count": 6,
   "metadata": {},
   "outputs": [],
   "source": [
    "import pandas as pd\n",
    "import numpy as np\n",
    "import matplotlib as mlt"
   ]
  },
  {
   "cell_type": "code",
   "execution_count": 7,
   "metadata": {},
   "outputs": [
    {
     "name": "stdout",
     "output_type": "stream",
     "text": [
      "shape of the original data: (3119, 53) \n",
      "\n",
      "                     Title       Artist      Last Played Date\n",
      "0  Never Gonna Give You Up  Rick Astley  2021-12-10T05:47:34Z\n",
      "1              Lay Me Down    Sam Smith                   NaN\n"
     ]
    }
   ],
   "source": [
    "# Import DataFrame\n",
    "rawData = pd.read_csv(\"apple_music.csv\")\n",
    "print(\"shape of the original data:\", rawData.shape, \"\\n\")\n",
    "\n",
    "# Make a Working Copy & select olumns that will be used\n",
    "wrkData = rawData.copy()\n",
    "wrkData = wrkData[['Title', 'Artist', 'Composer', 'Album', 'Genre', \n",
    "                   'Track Year', 'Track Number On Album', 'Track Count On Album', \n",
    "                   'Track Duration', 'Track Play Count', 'Date Added To Library', \n",
    "                   'Last Played Date', 'Skip Count']]\n",
    "print(wrkData.loc[0:1, [\"Title\", \"Artist\", \"Last Played Date\"]])"
   ]
  },
  {
   "cell_type": "code",
   "execution_count": 8,
   "metadata": {},
   "outputs": [
    {
     "name": "stdout",
     "output_type": "stream",
     "text": [
      "Index(['title', 'artist', 'composer', 'album', 'genre', 'track year',\n",
      "       'track no.', 'track count', 'duration', 'play count', 'added date',\n",
      "       'last played', 'skipped'],\n",
      "      dtype='object')\n"
     ]
    }
   ],
   "source": [
    "# Raname columns (inplace = True modifies the instance itself)\n",
    "wrkData.rename(\n",
    "    columns={\"Title\" : \"title\", \"Artist\" : \"artist\", \"Composer\" : \"composer\",\n",
    "             \"Album\" : \"album\", \"Genre\" : \"genre\", \"Track Year\": \"track year\", \n",
    "             \"Track Number On Album\" : \"track no.\", \"Track Count On Album\" : \"track count\", \n",
    "             \"Track Duration\" : \"duration\", \"Track Play Count\" : \"play count\", \n",
    "             \"Date Added To Library\" : \"added date\", \"Last Played Date\" : \"last played\", \n",
    "             \"Skip Count\" : \"skipped\"}, inplace = True)\n",
    "print(wrkData.columns)"
   ]
  },
  {
   "cell_type": "code",
   "execution_count": 9,
   "metadata": {},
   "outputs": [],
   "source": [
    "# remove NAs in artist column\n"
   ]
  }
 ],
 "metadata": {
  "kernelspec": {
   "display_name": "base",
   "language": "python",
   "name": "python3"
  },
  "language_info": {
   "codemirror_mode": {
    "name": "ipython",
    "version": 3
   },
   "file_extension": ".py",
   "mimetype": "text/x-python",
   "name": "python",
   "nbconvert_exporter": "python",
   "pygments_lexer": "ipython3",
   "version": "3.9.13"
  },
  "orig_nbformat": 4
 },
 "nbformat": 4,
 "nbformat_minor": 2
}
