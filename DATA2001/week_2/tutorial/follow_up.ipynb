{
 "cells": [
  {
   "cell_type": "code",
   "execution_count": 19,
   "metadata": {},
   "outputs": [],
   "source": [
    "import pandas as pd\n",
    "import numpy as np\n",
    "import matplotlib as mlt"
   ]
  },
  {
   "cell_type": "code",
   "execution_count": 20,
   "metadata": {},
   "outputs": [
    {
     "name": "stdout",
     "output_type": "stream",
     "text": [
      "shape of the original data: (3119, 53) \n",
      "\n",
      "                     Title       Artist      Last Played Date\n",
      "0  Never Gonna Give You Up  Rick Astley  2021-12-10T05:47:34Z\n",
      "1              Lay Me Down    Sam Smith                   NaN\n"
     ]
    }
   ],
   "source": [
    "# Import DataFrame\n",
    "rawData = pd.read_csv(\"apple_music.csv\")\n",
    "print(\"shape of the original data:\", rawData.shape, \"\\n\")\n",
    "\n",
    "# Make a Working Copy & select olumns that will be used\n",
    "wrkData = rawData.copy()\n",
    "wrkData = wrkData[['Title', 'Artist', 'Composer', 'Album', 'Genre', \n",
    "                   'Track Year', 'Track Number On Album', 'Track Count On Album', \n",
    "                   'Track Duration', 'Track Play Count', 'Date Added To Library', \n",
    "                   'Last Played Date', 'Skip Count']]\n",
    "print(wrkData.loc[0:1, [\"Title\", \"Artist\", \"Last Played Date\"]])"
   ]
  },
  {
   "cell_type": "code",
   "execution_count": 21,
   "metadata": {},
   "outputs": [
    {
     "name": "stdout",
     "output_type": "stream",
     "text": [
      "Index(['title', 'artist', 'composer', 'album', 'genre', 'year',\n",
      "       'track no. on album', 'album track num', 'duration', 'play count',\n",
      "       'added date', 'last played', 'skipped'],\n",
      "      dtype='object')\n"
     ]
    }
   ],
   "source": [
    "# Raname columns (inplace = True modifies the instance itself)\n",
    "wrkData.rename(\n",
    "    columns={\"Title\" : \"title\", \"Artist\" : \"artist\", \"Composer\" : \"composer\",\n",
    "             \"Album\" : \"album\", \"Genre\" : \"genre\", \"Track Year\": \"year\", \n",
    "             \"Track Number On Album\" : \"track no. on album\", \"Track Count On Album\" : \"album track num\", \n",
    "             \"Track Duration\" : \"duration\", \"Track Play Count\" : \"play count\", \n",
    "             \"Date Added To Library\" : \"added date\", \"Last Played Date\" : \"last played\", \n",
    "             \"Skip Count\" : \"skipped\"}, inplace = True)\n",
    "print(wrkData.columns)"
   ]
  },
  {
   "cell_type": "code",
   "execution_count": 22,
   "metadata": {},
   "outputs": [
    {
     "name": "stdout",
     "output_type": "stream",
     "text": [
      "(3061, 13)\n"
     ]
    }
   ],
   "source": [
    "# remove NAs in artist column (3119 -> 3061 rows)\n",
    "wrkData.dropna(subset = ['artist'], inplace = True)\n",
    "print(wrkData.shape)"
   ]
  },
  {
   "cell_type": "code",
   "execution_count": 23,
   "metadata": {},
   "outputs": [],
   "source": [
    "# Removing inconsistencies\n",
    "min_year = min(wrkData.loc[:, \"year\"])\n",
    "# placeholder 0 is being treated as actual year\n",
    "wrkData.loc[wrkData[\"year\"] == 0, \"year\"] = None # replace 0 with None\n",
    "min_year = min(wrkData.loc[:, \"year\"])"
   ]
  },
  {
   "cell_type": "code",
   "execution_count": 24,
   "metadata": {},
   "outputs": [
    {
     "name": "stdout",
     "output_type": "stream",
     "text": [
      "title                  object\n",
      "artist                 object\n",
      "composer               object\n",
      "album                  object\n",
      "genre                  object\n",
      "year                  float64\n",
      "track no. on album      int64\n",
      "album track num         int64\n",
      "duration                int64\n",
      "play count              int64\n",
      "added date             object\n",
      "last played            object\n",
      "skipped                 int64\n",
      "dtype: object\n",
      "                 added date               last played\n",
      "0 2016-10-01 01:30:21+00:00 2021-12-10 05:47:34+00:00\n",
      "1 2016-10-01 01:31:08+00:00                       NaT\n",
      "2 2016-10-01 01:31:28+00:00 2021-10-03 17:51:03+00:00\n",
      "3 2016-10-01 01:32:13+00:00 2021-12-14 03:17:54+00:00\n",
      "4 2016-10-01 01:32:28+00:00 2021-11-03 15:32:58+00:00\n",
      "5 2016-10-01 01:32:48+00:00 2021-10-05 18:07:36+00:00\n"
     ]
    }
   ],
   "source": [
    "# look up data types\n",
    "print(wrkData.dtypes)\n",
    "\n",
    "# we realise that added date last played should be of type date instead of string\n",
    "wrkData[\"added date\"] = pd.to_datetime(wrkData[\"added date\"])\n",
    "wrkData[\"last played\"] = pd.to_datetime(wrkData[\"last played\"], errors=\"coerce\")\n",
    "\n",
    "print(wrkData.loc[0:5, [\"added date\", \"last played\"]])\n"
   ]
  },
  {
   "cell_type": "code",
   "execution_count": 25,
   "metadata": {},
   "outputs": [],
   "source": [
    "# Round a column to less precision\n",
    "wrkData[\"duration\"] = round(wrkData[\"duration\"] / 1000)"
   ]
  },
  {
   "cell_type": "code",
   "execution_count": 26,
   "metadata": {},
   "outputs": [
    {
     "name": "stdout",
     "output_type": "stream",
     "text": [
      "                                               composer  composer count\n",
      "0                                 Stock Aitken Waterman             1.0\n",
      "1                 Sam Smith, James Napier & Elvin Smith             3.0\n",
      "2     Ian Stanley, Roland Orzabal & Christopher Merr...             3.0\n",
      "3                                     Sylvester Stewart             1.0\n",
      "4        Benny Andersson, Stig Anderson & Björn Ulvaeus             3.0\n",
      "...                                                 ...             ...\n",
      "3114                                  Michael Rosenberg             1.0\n",
      "3115  Dua Lipa, Clarence Coffee Jr, Sarah Hudson & S...             4.0\n",
      "3116  A Lasry/J Lawrence & C Trenet, Charles Trenet ...             4.0\n",
      "3117  Supergrass, Daniel Goffey, Gareth Coombes & Mi...             4.0\n",
      "3118                                                NaN             NaN\n",
      "\n",
      "[3061 rows x 2 columns]\n"
     ]
    }
   ],
   "source": [
    "## practice: count number of composers for each song\n",
    "wrkData[\"composer count\"] = wrkData[\"composer\"].str.count(\",\") + \\\n",
    "    wrkData[\"composer\"].str.count(\"&\") + 1\n",
    "print(wrkData.loc[:, [\"composer\", \"composer count\"]])"
   ]
  },
  {
   "cell_type": "code",
   "execution_count": 40,
   "metadata": {},
   "outputs": [
    {
     "data": {
      "text/plain": [
       "[(1678, 'yes'), (1685, 'yes'), (2780, 'yes')]"
      ]
     },
     "execution_count": 40,
     "metadata": {},
     "output_type": "execute_result"
    }
   ],
   "source": [
    "# np.where (value returned for t/f value)\n",
    "on_tour = (wrkData[\"artist\"] == \"Harry Styles\")\n",
    "on_tour = np.where(on_tour, \"yes\", \"no\")\n",
    "[(i, on_tour[i]) for i in range(len(on_tour)) if on_tour[i] == \"yes\"]"
   ]
  },
  {
   "cell_type": "code",
   "execution_count": 74,
   "metadata": {},
   "outputs": [
    {
     "name": "stdout",
     "output_type": "stream",
     "text": [
      "               artist        genre     SFW\n",
      "1666  Black Eyed Peas          Pop    safe\n",
      "1667  Black Eyed Peas  Hip-Hop/Rap  unsafe\n",
      "1668  Black Eyed Peas          Pop    safe\n",
      "1669  Black Eyed Peas          Pop    safe\n",
      "1670  Black Eyed Peas          Pop    safe\n",
      "3077  Black Eyed Peas          Pop    safe\n"
     ]
    }
   ],
   "source": [
    "# Rap genre are unsafe\n",
    "# Test by printing all songs by Black Eyed Peas\n",
    "wrkData[\"SFW\"] = np.where(wrkData[\"genre\"].str.contains(\"Rap\"), \"unsafe\", \"safe\")\n",
    "print(wrkData[wrkData[\"artist\"] == \"Black Eyed Peas\"]\n",
    "      .loc[:, [\"artist\", \"genre\", \"SFW\"]]) #.loc[:3, :])\n"
   ]
  }
 ],
 "metadata": {
  "kernelspec": {
   "display_name": "base",
   "language": "python",
   "name": "python3"
  },
  "language_info": {
   "codemirror_mode": {
    "name": "ipython",
    "version": 3
   },
   "file_extension": ".py",
   "mimetype": "text/x-python",
   "name": "python",
   "nbconvert_exporter": "python",
   "pygments_lexer": "ipython3",
   "version": "3.9.13"
  },
  "orig_nbformat": 4
 },
 "nbformat": 4,
 "nbformat_minor": 2
}
