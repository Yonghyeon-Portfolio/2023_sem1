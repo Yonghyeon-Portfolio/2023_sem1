{
 "cells": [
  {
   "cell_type": "code",
   "execution_count": 1,
   "metadata": {},
   "outputs": [],
   "source": [
    "import numpy as np"
   ]
  },
  {
   "cell_type": "markdown",
   "metadata": {},
   "source": [
    "### Introduction to Numpy\n",
    "We will be implementing simple grade curving system\n",
    "#### Numpy Functionalities\n",
    "- mean(), min(), max() ... other aggregate functions\n",
    "- vectorisation: performs same operation to every element (x for loop)\n",
    "- broadcasting: figuring out how to perform a vectorised calculation between arrays of different shape (eg. array + scalar)"
   ]
  },
  {
   "cell_type": "code",
   "execution_count": 2,
   "metadata": {},
   "outputs": [],
   "source": [
    "grades_raw = [72, 35, 64, 88, 51, 90, 74, 12]\n",
    "CURVE_CENTER = 80"
   ]
  },
  {
   "cell_type": "code",
   "execution_count": 3,
   "metadata": {},
   "outputs": [
    {
     "name": "stdout",
     "output_type": "stream",
     "text": [
      "[ 91.25  54.25  83.25 100.    70.25 100.    93.25  31.25]\n"
     ]
    }
   ],
   "source": [
    "def curve(grades_ls):\n",
    "    grades = np.array(grades_ls)\n",
    "    average = grades.mean()\n",
    "    new_grades = grades + (CURVE_CENTER - average)\n",
    "    # clip (set minimum, maximum)\n",
    "    return np.clip(new_grades, grades, 100)\n",
    "\n",
    "result = curve(grades_raw)\n",
    "print(result)"
   ]
  },
  {
   "cell_type": "markdown",
   "metadata": {},
   "source": [
    "### Shape of Multidimensional Array\n",
    "- 1D array of numbers: vector\n",
    "- 2D array: table, spreadsheet\n",
    "- 3D+ : uhm... How should I visualise them?!\n",
    "##### .shape\n",
    "returns tuple of size in each dimension\n",
    "##### .reshape(n1, n2 .. nn)\n",
    "reshapes the array !! # of elements = n1 x n2 .. nn\n",
    "- Follow mental rules instead of trying to visuliase multi-dimensional array!"
   ]
  },
  {
   "cell_type": "code",
   "execution_count": 5,
   "metadata": {},
   "outputs": [
    {
     "name": "stdout",
     "output_type": "stream",
     "text": [
      "Old shape: (12,)\n",
      "New shape: (3, 2, 2)\n",
      "New array: \n",
      " [[[29.3 42.1]\n",
      "  [18.8 16.1]]\n",
      "\n",
      " [[38.  12.5]\n",
      "  [12.6 49.9]]\n",
      "\n",
      " [[38.6 31.3]\n",
      "  [ 0.2 22.2]]]\n"
     ]
    }
   ],
   "source": [
    "temperatures = np.array([\n",
    "    29.3, 42.1, 18.8, 16.1, 38.0, 12.5, \n",
    "    12.6, 49.9, 38.6, 31.3, 0.2, 22.2\n",
    "])\n",
    "print(\"Old shape:\", temperatures.shape)\n",
    "temperatures = temperatures.reshape(3, 2, 2)\n",
    "print(\"New shape:\", temperatures.shape)\n",
    "print(\"New array: \\n\", temperatures)\n"
   ]
  },
  {
   "cell_type": "markdown",
   "metadata": {},
   "source": []
  },
  {
   "cell_type": "code",
   "execution_count": 6,
   "metadata": {},
   "outputs": [
    {
     "ename": "AttributeError",
     "evalue": "'numpy.ndarray' object has no attribute 'swapaexs'",
     "output_type": "error",
     "traceback": [
      "\u001b[1;31m---------------------------------------------------------------------------\u001b[0m",
      "\u001b[1;31mAttributeError\u001b[0m                            Traceback (most recent call last)",
      "\u001b[1;32m~\\AppData\\Local\\Temp\\ipykernel_16900\\3568576306.py\u001b[0m in \u001b[0;36m<module>\u001b[1;34m\u001b[0m\n\u001b[1;32m----> 1\u001b[1;33m \u001b[0mtemperatures\u001b[0m\u001b[1;33m.\u001b[0m\u001b[0mswapaexs\u001b[0m\u001b[1;33m(\u001b[0m\u001b[1;36m1\u001b[0m\u001b[1;33m,\u001b[0m \u001b[1;36m2\u001b[0m\u001b[1;33m)\u001b[0m\u001b[1;33m\u001b[0m\u001b[1;33m\u001b[0m\u001b[0m\n\u001b[0m",
      "\u001b[1;31mAttributeError\u001b[0m: 'numpy.ndarray' object has no attribute 'swapaexs'"
     ]
    }
   ],
   "source": [
    "temperatures.swapaexs(1, 2)"
   ]
  }
 ],
 "metadata": {
  "kernelspec": {
   "display_name": "Python 3 (ipykernel)",
   "language": "python",
   "name": "python3"
  },
  "language_info": {
   "codemirror_mode": {
    "name": "ipython",
    "version": 3
   },
   "file_extension": ".py",
   "mimetype": "text/x-python",
   "name": "python",
   "nbconvert_exporter": "python",
   "pygments_lexer": "ipython3",
   "version": "3.9.13"
  }
 },
 "nbformat": 4,
 "nbformat_minor": 2
}
