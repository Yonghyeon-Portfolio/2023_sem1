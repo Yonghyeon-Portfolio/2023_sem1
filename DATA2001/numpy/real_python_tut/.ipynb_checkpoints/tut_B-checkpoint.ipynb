{
 "cells": [
  {
   "cell_type": "code",
   "execution_count": 23,
   "id": "ab9c8445",
   "metadata": {},
   "outputs": [
    {
     "name": "stdout",
     "output_type": "stream",
     "text": [
      "second row: [ 5 10 11  8]\n",
      "second col: [ 3 10  6 15]\n",
      "inner sq: [[10 11]\n",
      " [ 6  7]]\n"
     ]
    }
   ],
   "source": [
    "# Indexing\n",
    "import numpy as np\n",
    "magic_sq = np.array([\n",
    "    [16, 3, 2, 13],\n",
    "    [5, 10, 11, 8],\n",
    "    [9, 6, 7, 12],\n",
    "    [4, 15, 14, 1]\n",
    "])\n",
    "print(\"second row:\", magic_sq[1])\n",
    "print(\"second col:\", magic_sq[:, 1])\n",
    "print(\"inner sq:\", magic_sq[1:3, 1:3])\n",
    "\n",
    "for i in range(4):\n",
    "    assert magic_sq[i, :].sum() == 34\n",
    "    assert magic_sq[:, i].sum() == 34\n",
    "\n",
    "assert magic_sq[:2, :2].sum() == 34 # Quadrant 2\n",
    "assert magic_sq[2:, :2].sum() == 34 # Quadrant 1\n",
    "assert magic_sq[:2, 2:].sum() == 34 # Quadrant 3\n",
    "assert magic_sq[2:, 2:].sum() == 34 # Quadrant 4"
   ]
  },
  {
   "cell_type": "code",
   "execution_count": 53,
   "id": "8041f08a",
   "metadata": {},
   "outputs": [],
   "source": [
    "# masking\n",
    "numbers = np.linspace(3, 60, 20, dtype=int)\n",
    "nums = np.arange(3, 61, 3)\n",
    "assert np.array_equal(numbers, nums)\n"
   ]
  }
 ],
 "metadata": {
  "kernelspec": {
   "display_name": "Python 3 (ipykernel)",
   "language": "python",
   "name": "python3"
  },
  "language_info": {
   "codemirror_mode": {
    "name": "ipython",
    "version": 3
   },
   "file_extension": ".py",
   "mimetype": "text/x-python",
   "name": "python",
   "nbconvert_exporter": "python",
   "pygments_lexer": "ipython3",
   "version": "3.9.13"
  }
 },
 "nbformat": 4,
 "nbformat_minor": 5
}
