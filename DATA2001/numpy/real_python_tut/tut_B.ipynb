{
 "cells": [
  {
   "cell_type": "code",
   "execution_count": 50,
   "id": "ab9c8445",
   "metadata": {},
   "outputs": [
    {
     "name": "stdout",
     "output_type": "stream",
     "text": [
      "second row: [ 5 10 11  8]\n",
      "second col: [ 3 10  6 15]\n",
      "inner sq: [[10 11]\n",
      " [ 6  7]]\n"
     ]
    }
   ],
   "source": [
    "# Indexing\n",
    "import numpy as np\n",
    "magic_sq = np.array([\n",
    "    [16, 3, 2, 13],\n",
    "    [5, 10, 11, 8],\n",
    "    [9, 6, 7, 12],\n",
    "    [4, 15, 14, 1]\n",
    "])\n",
    "print(\"second row:\", magic_sq[1])\n",
    "print(\"second col:\", magic_sq[:, 1])\n",
    "print(\"inner sq:\", magic_sq[1:3, 1:3])\n",
    "\n",
    "for i in range(4):\n",
    "    assert magic_sq[i, :].sum() == 34\n",
    "    assert magic_sq[:, i].sum() == 34\n",
    "\n",
    "assert magic_sq[:2, :2].sum() == 34 # Quadrant 2\n",
    "assert magic_sq[2:, :2].sum() == 34 # Quadrant 1\n",
    "assert magic_sq[:2, 2:].sum() == 34 # Quadrant 3\n",
    "assert magic_sq[2:, 2:].sum() == 34 # Quadrant 4"
   ]
  },
  {
   "cell_type": "code",
   "execution_count": 51,
   "id": "8041f08a",
   "metadata": {},
   "outputs": [
    {
     "name": "stdout",
     "output_type": "stream",
     "text": [
      "[[ 3  6  9 12 15]\n",
      " [18 21 24 27 30]\n",
      " [33 36 39 42 45]\n",
      " [48 51 54 57 60]]\n",
      "[12 24 36 48 60]\n"
     ]
    }
   ],
   "source": [
    "# masking\n",
    "numbers = np.linspace(3, 60, 20, dtype=int).reshape(4, -1)\n",
    "nums = np.arange(3, 61, 3).reshape(4, -1)\n",
    "assert np.array_equal(numbers, nums)\n",
    "print(numbers)\n",
    "\n",
    "factors_of_3and4 = numbers[numbers % 4 == 0]\n",
    "print(factors_of_3and4)\n"
   ]
  },
  {
   "cell_type": "code",
   "execution_count": 60,
   "id": "4e477b43",
   "metadata": {},
   "outputs": [
    {
     "name": "stdout",
     "output_type": "stream",
     "text": [
      "[1.34939678 1.56866812 0.06108002] ... [-2.16604541 -0.88430104  0.3547232 ]\n",
      "standard deviation: 1.03608\n",
      "Within 2 SDs: 94.000%\n",
      "Ousiders: [ 2.68902941 -2.24174006  2.08869168  2.29095366  2.13439143 -2.16604541]\n"
     ]
    }
   ],
   "source": [
    "# normal distribution\n",
    "values = np.random.default_rng().standard_normal(100)\n",
    "print(values[:3], \"...\", values[-3:])\n",
    "std = values.std()\n",
    "print(\"standard deviation: %.5f\" %(std))\n",
    "\n",
    "within_2sds = (values > -2 * std) & (values < 2 * std)\n",
    "insiders = values[within_2sds]\n",
    "outsiders = values[within_2sds == False]\n",
    "print(\"Within 2 SDs: %.3f%%\" %(insiders.size / values.size* 100))\n",
    "print(\"Ousiders:\", outsiders)\n",
    "\n"
   ]
  },
  {
   "cell_type": "code",
   "execution_count": 81,
   "id": "88827666",
   "metadata": {},
   "outputs": [
    {
     "name": "stdout",
     "output_type": "stream",
     "text": [
      "vertical stack:\n",
      " [[5 6]\n",
      " [7 8]\n",
      " [1 2]\n",
      " [3 4]] (default for np.concatente))\n",
      "horizontal stack:\n",
      " [[5 6 1 2]\n",
      " [7 8 3 4]]\n",
      "vstack sort:\n",
      " [[5 6]\n",
      " [7 8]\n",
      " [1 2]\n",
      " [3 4]]\n",
      "hstack sort:\n",
      " [[1 2 5 6]\n",
      " [3 4 7 8]]\n",
      "linear stack sort:\n",
      " [1 2 3 4 5 6 7 8]\n"
     ]
    }
   ],
   "source": [
    "# Concatenating, Sorting\n",
    "arrA = np.array([[1, 2], [3, 4]])\n",
    "arrB = np.array([[5, 6], [7, 8]])\n",
    "\n",
    "AB = np.concatenate((arrB, arrA)) # default vstack\n",
    "AB_v = np.vstack((arrB, arrA))\n",
    "AB_h = np.hstack((arrB, arrA))\n",
    "print(\"vertical stack:\\n\", AB_v , \"(default for np.concatente))\")\n",
    "print(\"horizontal stack:\\n\", AB_h)\n",
    "\n",
    "# 각 단위 리스트별로 정렬 됨\n",
    "print(\"vstack sort:\\n\", np.sort(AB_v))\n",
    "print(\"hstack sort:\\n\", np.sort(AB_h))\n",
    "\n",
    "lstack = np.concatenate((arrA, arrB), axis = None)\n",
    "print(\"linear stack sort:\\n\", lstack)"
   ]
  },
  {
   "cell_type": "code",
   "execution_count": null,
   "id": "56a45336",
   "metadata": {},
   "outputs": [],
   "source": []
  }
 ],
 "metadata": {
  "kernelspec": {
   "display_name": "Python 3 (ipykernel)",
   "language": "python",
   "name": "python3"
  },
  "language_info": {
   "codemirror_mode": {
    "name": "ipython",
    "version": 3
   },
   "file_extension": ".py",
   "mimetype": "text/x-python",
   "name": "python",
   "nbconvert_exporter": "python",
   "pygments_lexer": "ipython3",
   "version": "3.9.13"
  }
 },
 "nbformat": 4,
 "nbformat_minor": 5
}
