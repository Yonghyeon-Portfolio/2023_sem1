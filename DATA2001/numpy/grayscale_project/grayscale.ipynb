{
 "cells": [
  {
   "cell_type": "code",
   "execution_count": 29,
   "metadata": {},
   "outputs": [
    {
     "name": "stdout",
     "output_type": "stream",
     "text": [
      "(649, 959, 3)\n",
      "1867173\n",
      "left-topmost pixel: [ 90 127  39]\n"
     ]
    }
   ],
   "source": [
    "import numpy as np\n",
    "from matplotlib import image as mpimg\n",
    "\n",
    "img = mpimg.imread(\"download.webp\")\n",
    "print(img.shape)\n",
    "print(img.size)\n",
    "print(\"left-topmost pixel:\", img[0][0])"
   ]
  },
  {
   "cell_type": "code",
   "execution_count": 30,
   "metadata": {},
   "outputs": [],
   "source": [
    "no_red = img.copy()\n",
    "no_red[:, :, 0] = 0 # set all red pixels to be 0\n",
    "mpimg.imsave(\"no-red.png\", no_red)\n",
    "\n",
    "no_green = img.copy()\n",
    "no_green[:, :, 1] = 0 # set all red pixels to be 0\n",
    "mpimg.imsave(\"no-green.png\", no_green)\n",
    "\n",
    "no_blue = img.copy()\n",
    "no_blue[:, :, 2] = 0 # set all red pixels to be 0\n",
    "mpimg.imsave(\"no_blue.png\", no_blue)"
   ]
  },
  {
   "cell_type": "code",
   "execution_count": 31,
   "metadata": {},
   "outputs": [],
   "source": [
    "# grayscale by average\n",
    "gray = img.copy()\n",
    "pixel_avg = gray.mean(axis = 2)\n",
    "mpimg.imsave(\"gray-scale-mean.png\", pixel_avg, cmap=\"gray\")"
   ]
  },
  {
   "cell_type": "code",
   "execution_count": 32,
   "metadata": {},
   "outputs": [],
   "source": [
    "# grayscale by dot product\n",
    "gray = img.copy()\n",
    "dot_prod = gray @ np.array([.3, .59, .11])\n",
    "mpimg.imsave(\"gray-scale-dot-prod.png\", dot_prod, cmap=\"gray\")"
   ]
  }
 ],
 "metadata": {
  "kernelspec": {
   "display_name": "base",
   "language": "python",
   "name": "python3"
  },
  "language_info": {
   "codemirror_mode": {
    "name": "ipython",
    "version": 3
   },
   "file_extension": ".py",
   "mimetype": "text/x-python",
   "name": "python",
   "nbconvert_exporter": "python",
   "pygments_lexer": "ipython3",
   "version": "3.9.13"
  },
  "orig_nbformat": 4
 },
 "nbformat": 4,
 "nbformat_minor": 2
}
