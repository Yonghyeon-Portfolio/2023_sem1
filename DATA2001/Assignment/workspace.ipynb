{
 "cells": [
  {
   "cell_type": "code",
   "execution_count": 31,
   "metadata": {},
   "outputs": [],
   "source": [
    "import pandas as pd\n",
    "import geopandas as gpd\n",
    "from shapely.geometry import Point, Polygon, MultiPolygon\n",
    "from geoalchemy2 import Geometry, WKTElement\n",
    "import matplotlib.pyplot as plt"
   ]
  },
  {
   "cell_type": "code",
   "execution_count": 30,
   "metadata": {},
   "outputs": [],
   "source": [
    "# Import all necessary datasets for the report + initial filtering\n",
    "sa2_bounds_raw = gpd.read_file(\"space_data/SA2.shp\")\n",
    "businesses_raw = pd.read_csv(\"other_data/Businesses.csv\")\n",
    "stops_raw = pd.read_csv(\"other_data/Stops.txt\")\n",
    "polls_raw = pd.read_csv(\"other_data/PollingPlaces2019.csv\")\n",
    "schools_prima_raw = gpd.read_file(\"space_data/catchments/catchments_primary.shp\")\n",
    "schools_secon_raw = gpd.read_file(\"space_data/catchments/catchments_secondary.shp\")\n",
    "schools_futur_raw = gpd.read_file(\"space_data/catchments/catchments_future.shp\")\n",
    "populations_raw = pd.read_csv(\"other_data/Population.csv\")\n",
    "incomes_raw = pd.read_csv(\"other_data/Income.csv\")"
   ]
  },
  {
   "cell_type": "code",
   "execution_count": 49,
   "metadata": {},
   "outputs": [
    {
     "name": "stdout",
     "output_type": "stream",
     "text": [
      "Greater Sydney       373\n",
      "Greater Melbourne    361\n",
      "Rest of Qld          300\n",
      "Rest of NSW          269\n",
      "Greater Brisbane     246\n",
      "Name: GCC_NAME21, dtype: int64\n",
      "... more regions (truncated)\n",
      "\n",
      "Greater Sydney    373\n",
      "Name: GCC_NAME21, dtype: int64\n",
      "Index(['SA2_CODE21', 'SA2_NAME21', 'CHG_FLAG21', 'CHG_LBL21', 'SA3_CODE21',\n",
      "       'SA3_NAME21', 'SA4_CODE21', 'SA4_NAME21', 'GCC_CODE21', 'GCC_NAME21',\n",
      "       'STE_CODE21', 'STE_NAME21', 'AUS_CODE21', 'AUS_NAME21', 'AREASQKM21',\n",
      "       'LOCI_URI21', 'geometry'],\n",
      "      dtype='object')\n"
     ]
    }
   ],
   "source": [
    "# Initial filtering \n",
    "# 1. W're only interested in \"Greater Sydney\" GCC)\n",
    "print(sa2_bounds_raw.GCC_NAME21.value_counts().head())\n",
    "print(\"... more regions (truncated)\\n\")\n",
    "sa2_bounds = sa2_bounds_raw[sa2_bounds_raw.GCC_NAME21 == \"Greater Sydney\"]\n",
    "print(sa2_bounds.GCC_NAME21.value_counts())\n",
    "# 2. We'll only be conducting analysis on SA2 regions. We'll not be \n",
    "# examining ins encompassing(broader) regions such as SA3, SA4, and states. \n",
    "print(\"All columns: \", sa2_bounds.columns)\n",
    "sa2_bounds = sa2_bounds.loc[:, [\"SA2_CODE21\", \"SA2_NAME21\", \"AREASQKM21\", \"geometry\"]]"
   ]
  },
  {
   "cell_type": "code",
   "execution_count": 48,
   "metadata": {},
   "outputs": [
    {
     "name": "stdout",
     "output_type": "stream",
     "text": [
      "<class 'geopandas.geodataframe.GeoDataFrame'>\n",
      "Int64Index: 373 entries, 28 to 641\n",
      "Data columns (total 4 columns):\n",
      " #   Column      Non-Null Count  Dtype   \n",
      "---  ------      --------------  -----   \n",
      " 0   SA2_CODE21  373 non-null    object  \n",
      " 1   SA2_NAME21  373 non-null    object  \n",
      " 2   AREASQKM21  373 non-null    float64 \n",
      " 3   geometry    373 non-null    geometry\n",
      "dtypes: float64(1), geometry(1), object(2)\n",
      "memory usage: 14.6+ KB\n"
     ]
    },
    {
     "data": {
      "text/html": [
       "<div>\n",
       "<style scoped>\n",
       "    .dataframe tbody tr th:only-of-type {\n",
       "        vertical-align: middle;\n",
       "    }\n",
       "\n",
       "    .dataframe tbody tr th {\n",
       "        vertical-align: top;\n",
       "    }\n",
       "\n",
       "    .dataframe thead th {\n",
       "        text-align: right;\n",
       "    }\n",
       "</style>\n",
       "<table border=\"1\" class=\"dataframe\">\n",
       "  <thead>\n",
       "    <tr style=\"text-align: right;\">\n",
       "      <th></th>\n",
       "      <th>SA2_CODE21</th>\n",
       "      <th>SA2_NAME21</th>\n",
       "      <th>AREASQKM21</th>\n",
       "      <th>geometry</th>\n",
       "    </tr>\n",
       "  </thead>\n",
       "  <tbody>\n",
       "    <tr>\n",
       "      <th>28</th>\n",
       "      <td>102011028</td>\n",
       "      <td>Avoca Beach - Copacabana</td>\n",
       "      <td>6.4376</td>\n",
       "      <td>POLYGON ((151.41373 -33.46558, 151.41362 -33.4...</td>\n",
       "    </tr>\n",
       "    <tr>\n",
       "      <th>29</th>\n",
       "      <td>102011029</td>\n",
       "      <td>Box Head - MacMasters Beach</td>\n",
       "      <td>32.0802</td>\n",
       "      <td>POLYGON ((151.37484 -33.50052, 151.37507 -33.5...</td>\n",
       "    </tr>\n",
       "    <tr>\n",
       "      <th>30</th>\n",
       "      <td>102011030</td>\n",
       "      <td>Calga - Kulnura</td>\n",
       "      <td>767.9512</td>\n",
       "      <td>MULTIPOLYGON (((151.20449 -33.53280, 151.20448...</td>\n",
       "    </tr>\n",
       "    <tr>\n",
       "      <th>31</th>\n",
       "      <td>102011031</td>\n",
       "      <td>Erina - Green Point</td>\n",
       "      <td>33.7934</td>\n",
       "      <td>POLYGON ((151.37194 -33.43698, 151.37288 -33.4...</td>\n",
       "    </tr>\n",
       "    <tr>\n",
       "      <th>32</th>\n",
       "      <td>102011032</td>\n",
       "      <td>Gosford - Springfield</td>\n",
       "      <td>16.9123</td>\n",
       "      <td>POLYGON ((151.32349 -33.42779, 151.32342 -33.4...</td>\n",
       "    </tr>\n",
       "    <tr>\n",
       "      <th>...</th>\n",
       "      <td>...</td>\n",
       "      <td>...</td>\n",
       "      <td>...</td>\n",
       "      <td>...</td>\n",
       "    </tr>\n",
       "    <tr>\n",
       "      <th>637</th>\n",
       "      <td>128021537</td>\n",
       "      <td>Royal National Park</td>\n",
       "      <td>139.3336</td>\n",
       "      <td>POLYGON ((151.07363 -34.05638, 151.07360 -34.0...</td>\n",
       "    </tr>\n",
       "    <tr>\n",
       "      <th>638</th>\n",
       "      <td>128021538</td>\n",
       "      <td>Sutherland - Kirrawee</td>\n",
       "      <td>7.7550</td>\n",
       "      <td>POLYGON ((151.05006 -34.02158, 151.05008 -34.0...</td>\n",
       "    </tr>\n",
       "    <tr>\n",
       "      <th>639</th>\n",
       "      <td>128021607</td>\n",
       "      <td>Engadine</td>\n",
       "      <td>8.9538</td>\n",
       "      <td>POLYGON ((150.99568 -34.05361, 150.99570 -34.0...</td>\n",
       "    </tr>\n",
       "    <tr>\n",
       "      <th>640</th>\n",
       "      <td>128021608</td>\n",
       "      <td>Loftus - Yarrawarrah</td>\n",
       "      <td>3.8436</td>\n",
       "      <td>POLYGON ((151.03955 -34.04175, 151.03954 -34.0...</td>\n",
       "    </tr>\n",
       "    <tr>\n",
       "      <th>641</th>\n",
       "      <td>128021609</td>\n",
       "      <td>Woronora Heights</td>\n",
       "      <td>3.1374</td>\n",
       "      <td>POLYGON ((151.01852 -34.03119, 151.01862 -34.0...</td>\n",
       "    </tr>\n",
       "  </tbody>\n",
       "</table>\n",
       "<p>373 rows × 4 columns</p>\n",
       "</div>"
      ],
      "text/plain": [
       "    SA2_CODE21                   SA2_NAME21  AREASQKM21  \\\n",
       "28   102011028     Avoca Beach - Copacabana      6.4376   \n",
       "29   102011029  Box Head - MacMasters Beach     32.0802   \n",
       "30   102011030              Calga - Kulnura    767.9512   \n",
       "31   102011031          Erina - Green Point     33.7934   \n",
       "32   102011032        Gosford - Springfield     16.9123   \n",
       "..         ...                          ...         ...   \n",
       "637  128021537          Royal National Park    139.3336   \n",
       "638  128021538        Sutherland - Kirrawee      7.7550   \n",
       "639  128021607                     Engadine      8.9538   \n",
       "640  128021608         Loftus - Yarrawarrah      3.8436   \n",
       "641  128021609             Woronora Heights      3.1374   \n",
       "\n",
       "                                              geometry  \n",
       "28   POLYGON ((151.41373 -33.46558, 151.41362 -33.4...  \n",
       "29   POLYGON ((151.37484 -33.50052, 151.37507 -33.5...  \n",
       "30   MULTIPOLYGON (((151.20449 -33.53280, 151.20448...  \n",
       "31   POLYGON ((151.37194 -33.43698, 151.37288 -33.4...  \n",
       "32   POLYGON ((151.32349 -33.42779, 151.32342 -33.4...  \n",
       "..                                                 ...  \n",
       "637  POLYGON ((151.07363 -34.05638, 151.07360 -34.0...  \n",
       "638  POLYGON ((151.05006 -34.02158, 151.05008 -34.0...  \n",
       "639  POLYGON ((150.99568 -34.05361, 150.99570 -34.0...  \n",
       "640  POLYGON ((151.03955 -34.04175, 151.03954 -34.0...  \n",
       "641  POLYGON ((151.01852 -34.03119, 151.01862 -34.0...  \n",
       "\n",
       "[373 rows x 4 columns]"
      ]
     },
     "execution_count": 48,
     "metadata": {},
     "output_type": "execute_result"
    }
   ],
   "source": [
    "sa2_bounds.info()\n",
    "''' \n",
    "description: Statistical Region 2 (SA2) digital boundaries (Greater Sydney only)\n",
    "entries: 373\n",
    "columns: 17 (all columns are complete with no missing values for all entries)\n",
    "'''\n",
    "# sa2_table = \n",
    "# '''\n",
    "\n",
    "# '''\n",
    "sa2_bounds"
   ]
  },
  {
   "cell_type": "code",
   "execution_count": 38,
   "metadata": {},
   "outputs": [
    {
     "name": "stdout",
     "output_type": "stream",
     "text": [
      "<class 'pandas.core.frame.DataFrame'>\n",
      "RangeIndex: 12217 entries, 0 to 12216\n",
      "Data columns (total 11 columns):\n",
      " #   Column                  Non-Null Count  Dtype \n",
      "---  ------                  --------------  ----- \n",
      " 0   industry_code           12217 non-null  object\n",
      " 1   industry_name           12217 non-null  object\n",
      " 2   sa2_code                12217 non-null  int64 \n",
      " 3   sa2_name                12217 non-null  object\n",
      " 4   0_to_50k_businesses     12217 non-null  int64 \n",
      " 5   50k_to_200k_businesses  12217 non-null  int64 \n",
      " 6   200k_to_2m_businesses   12217 non-null  int64 \n",
      " 7   2m_to_5m_businesses     12217 non-null  int64 \n",
      " 8   5m_to_10m_businesses    12217 non-null  int64 \n",
      " 9   10m_or_more_businesses  12217 non-null  int64 \n",
      " 10  total_businesses        12217 non-null  int64 \n",
      "dtypes: int64(8), object(3)\n",
      "memory usage: 1.0+ MB\n"
     ]
    },
    {
     "data": {
      "text/plain": [
       "'\\ndescription: Number of businesses by industry and SA2 region, reported by turnover size ranges\\nentires: 12217\\ncolumns: 11 (all columns are complete with no missing values for all entries)\\n'"
      ]
     },
     "execution_count": 38,
     "metadata": {},
     "output_type": "execute_result"
    }
   ],
   "source": [
    "# IDA (businesses)\n",
    "businesses_raw.info()\n",
    "'''\n",
    "description: Number of businesses by industry and SA2 region, reported by turnover size ranges\n",
    "entires: 12217\n",
    "columns: 11 (all columns are complete with no missing values for all entries)\n",
    "'''\n",
    "# businesses_raw.sa2_name.value_counts()"
   ]
  },
  {
   "cell_type": "code",
   "execution_count": 35,
   "metadata": {},
   "outputs": [
    {
     "name": "stdout",
     "output_type": "stream",
     "text": [
      "<class 'pandas.core.frame.DataFrame'>\n",
      "RangeIndex: 114718 entries, 0 to 114717\n",
      "Data columns (total 9 columns):\n",
      " #   Column               Non-Null Count   Dtype  \n",
      "---  ------               --------------   -----  \n",
      " 0   stop_id              114718 non-null  object \n",
      " 1   stop_code            60719 non-null   float64\n",
      " 2   stop_name            114718 non-null  object \n",
      " 3   stop_lat             114718 non-null  float64\n",
      " 4   stop_lon             114718 non-null  float64\n",
      " 5   location_type        53991 non-null   float64\n",
      " 6   parent_station       60727 non-null   object \n",
      " 7   wheelchair_boarding  114718 non-null  int64  \n",
      " 8   platform_code        871 non-null     object \n",
      "dtypes: float64(4), int64(1), object(4)\n",
      "memory usage: 7.9+ MB\n"
     ]
    },
    {
     "data": {
      "text/plain": [
       "'\\ndescription: Number of businesses by industry and SA2 region, reported by turnover size ranges\\nentires: 114718\\ncolumns: 9 (several columns missing location_type, parent_station, stop_code, \\n        and other fields for many entires. Almost all entries have missing platform code)\\n'"
      ]
     },
     "execution_count": 35,
     "metadata": {},
     "output_type": "execute_result"
    }
   ],
   "source": [
    "stops_raw.info()\n",
    "'''\n",
    "description: Number of businesses by industry and SA2 region, reported by turnover size ranges\n",
    "entires: 114718\n",
    "columns: 9 (several columns missing location_type, parent_station, stop_code, \n",
    "        and other fields for many entires. Almost all entries have missing platform code)\n",
    "'''"
   ]
  },
  {
   "cell_type": "code",
   "execution_count": 36,
   "metadata": {},
   "outputs": [
    {
     "name": "stdout",
     "output_type": "stream",
     "text": [
      "<class 'pandas.core.frame.DataFrame'>\n",
      "RangeIndex: 2930 entries, 0 to 2929\n",
      "Data columns (total 17 columns):\n",
      " #   Column                       Non-Null Count  Dtype  \n",
      "---  ------                       --------------  -----  \n",
      " 0   FID                          2930 non-null   object \n",
      " 1   state                        2930 non-null   object \n",
      " 2   division_id                  2930 non-null   int64  \n",
      " 3   division_name                2930 non-null   object \n",
      " 4   polling_place_id             2930 non-null   int64  \n",
      " 5   polling_place_type_id        2930 non-null   int64  \n",
      " 6   polling_place_name           2930 non-null   object \n",
      " 7   premises_name                2930 non-null   object \n",
      " 8   premises_address_1           2737 non-null   object \n",
      " 9   premises_address_2           114 non-null    object \n",
      " 10  premises_address_3           35 non-null     object \n",
      " 11  premises_suburb              2815 non-null   object \n",
      " 12  premises_state_abbreviation  2930 non-null   object \n",
      " 13  premises_post_code           2821 non-null   float64\n",
      " 14  latitude                     2790 non-null   float64\n",
      " 15  longitude                    2790 non-null   float64\n",
      " 16  the_geom                     2790 non-null   object \n",
      "dtypes: float64(3), int64(3), object(11)\n",
      "memory usage: 389.3+ KB\n"
     ]
    }
   ],
   "source": [
    "polls_raw.info()"
   ]
  }
 ],
 "metadata": {
  "kernelspec": {
   "display_name": "base",
   "language": "python",
   "name": "python3"
  },
  "language_info": {
   "codemirror_mode": {
    "name": "ipython",
    "version": 3
   },
   "file_extension": ".py",
   "mimetype": "text/x-python",
   "name": "python",
   "nbconvert_exporter": "python",
   "pygments_lexer": "ipython3",
   "version": "3.9.13"
  },
  "orig_nbformat": 4
 },
 "nbformat": 4,
 "nbformat_minor": 2
}
