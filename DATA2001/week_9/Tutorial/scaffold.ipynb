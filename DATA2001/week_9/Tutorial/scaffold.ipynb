{
 "cells": [
  {
   "cell_type": "code",
   "execution_count": 78,
   "id": "acaba84d",
   "metadata": {},
   "outputs": [
    {
     "data": {
      "text/html": [
       "\n",
       "    <style> body {font-family: \"Roboto Condensed Light\", \"Roboto Condensed\";} h2 {padding: 10px 12px; background-color: #E64626; position: static; color: #ffffff; font-size: 40px;} .text_cell_render p { font-size: 15px; } .text_cell_render h1 { font-size: 30px; } h1 {padding: 10px 12px; background-color: #E64626; color: #ffffff; font-size: 40px;} .text_cell_render h3 { padding: 10px 12px; background-color: #0148A4; position: static; color: #ffffff; font-size: 20px;} h4:before{ \n",
       "    content: \"@\"; font-family:\"Wingdings\"; font-style:regular; margin-right: 4px;} .text_cell_render h4 {padding: 8px; font-family: \"Roboto Condensed Light\"; position: static; font-style: italic; background-color: #FFB800; color: #ffffff; font-size: 18px; text-align: center; border-radius: 5px;}input[type=submit] {background-color: #E64626; border: solid; border-color: #734036; color: white; padding: 8px 16px; text-decoration: none; margin: 4px 2px; cursor: pointer; border-radius: 20px;}</style>\n"
      ],
      "text/plain": [
       "<IPython.core.display.HTML object>"
      ]
     },
     "execution_count": 78,
     "metadata": {},
     "output_type": "execute_result"
    }
   ],
   "source": [
    "# DATA2001 Week 9 Tutorial\n",
    "# Material last updated: 26 Apr 2023\n",
    "# Note: this notebook was designed with the Roboto Condensed font, which can be installed here: https://www.1001fonts.com/roboto-condensed-font.html\n",
    "\n",
    "from IPython.display import HTML\n",
    "HTML('''\n",
    "    <style> body {font-family: \"Roboto Condensed Light\", \"Roboto Condensed\";} h2 {padding: 10px 12px; background-color: #E64626; position: static; color: #ffffff; font-size: 40px;} .text_cell_render p { font-size: 15px; } .text_cell_render h1 { font-size: 30px; } h1 {padding: 10px 12px; background-color: #E64626; color: #ffffff; font-size: 40px;} .text_cell_render h3 { padding: 10px 12px; background-color: #0148A4; position: static; color: #ffffff; font-size: 20px;} h4:before{ \n",
    "    content: \"@\"; font-family:\"Wingdings\"; font-style:regular; margin-right: 4px;} .text_cell_render h4 {padding: 8px; font-family: \"Roboto Condensed Light\"; position: static; font-style: italic; background-color: #FFB800; color: #ffffff; font-size: 18px; text-align: center; border-radius: 5px;}input[type=submit] {background-color: #E64626; border: solid; border-color: #734036; color: white; padding: 8px 16px; text-decoration: none; margin: 4px 2px; cursor: pointer; border-radius: 20px;}</style>\n",
    "''')"
   ]
  },
  {
   "attachments": {},
   "cell_type": "markdown",
   "id": "d64a0632",
   "metadata": {},
   "source": [
    "# Week 9 - Spatial Data"
   ]
  },
  {
   "attachments": {},
   "cell_type": "markdown",
   "id": "c3112a22",
   "metadata": {},
   "source": [
    "This week's tutorial extends beyond the world of simple data types and into the realm of **geo-spatial data**. Today we'll be covering the basic types, how to ingest it from different sources (shape files, geoJSON, web APIs) and then querying it in PostGIS - a spatial database extension for PostgreSQL."
   ]
  },
  {
   "attachments": {},
   "cell_type": "markdown",
   "id": "56eb01ba",
   "metadata": {},
   "source": [
    "## 1. Introduction to Spatial Data"
   ]
  },
  {
   "attachments": {},
   "cell_type": "markdown",
   "id": "a356b1eb",
   "metadata": {},
   "source": [
    "While geospatial data can exist in many forms (e.g. just 'latitude' and 'longitude' fields technically constitute spatial information), the **shapefile** is the most common data format for geographic information. It is a complex format, often involving multiple files. We've provided a simple \"world\" shapefile containing basic shapes of most international countries, which contains the following files:\n",
    "\n",
    "| file | purpose |\n",
    "| :--- | :--- |\n",
    "| world.shp | the feature geometry itself |\n",
    "| world.shx | positional indexes to speed things up |\n",
    "| world.dbf | the other attributes |\n",
    "\n",
    "These are just some of many other files that together can comprise a shapefile - see the [wiki](https://en.wikipedia.org/wiki/Shapefile) for more information."
   ]
  },
  {
   "attachments": {},
   "cell_type": "markdown",
   "id": "97a57d7f",
   "metadata": {},
   "source": [
    "### 1.1 Shapefiles and Polygons"
   ]
  },
  {
   "attachments": {},
   "cell_type": "markdown",
   "id": "81a4065c",
   "metadata": {},
   "source": [
    "Firstly, we'll have to leverage a couple new packages.\n",
    "- Pandas has an extension named **GeoPandas**, intended for querying spatial data\n",
    "- **Shapely** is a crucial package for interpreting and manipulating geometries\n",
    "- **Geoalchemy** is a support library for SQLAlchemy (which we've used before), allowing spatial databases\n",
    "\n",
    "Install these as per usual in your command line window (e.g. `pip3 install geopandas`)."
   ]
  },
  {
   "cell_type": "code",
   "execution_count": 79,
   "id": "40f0c0dc",
   "metadata": {},
   "outputs": [],
   "source": [
    "import pandas as pd\n",
    "import geopandas as gpd\n",
    "from shapely.geometry import Point, Polygon, MultiPolygon\n",
    "from geoalchemy2 import Geometry, WKTElement\n",
    "import matplotlib.pyplot as plt"
   ]
  },
  {
   "attachments": {},
   "cell_type": "markdown",
   "id": "ccd6f0a6",
   "metadata": {},
   "source": [
    "Loading in the shapefile is quite simple when done through GeoPandas, working much like Pandas reads in CSVs.\n",
    "\n",
    "Note the cell below assumes the `data.zip` has been downloaded from Canvas, and unpacked in the same directory as this notebook (i.e. there exists a 'data' folder containing the shapefile folders).\n",
    "\n",
    "Note that the types in the geometry column are **polygons** and **multipolygons**. These reference full shapes - other simpler spatial data types include lines, points, etc. See the [ArcGIS docs](https://help.arcgis.com/en/geodatabase/10.0/sdk/arcsde/concepts/geometry/shapes/types.htm) for more."
   ]
  },
  {
   "cell_type": "code",
   "execution_count": 80,
   "id": "09c354e7",
   "metadata": {},
   "outputs": [
    {
     "data": {
      "text/html": [
       "<div>\n",
       "<style scoped>\n",
       "    .dataframe tbody tr th:only-of-type {\n",
       "        vertical-align: middle;\n",
       "    }\n",
       "\n",
       "    .dataframe tbody tr th {\n",
       "        vertical-align: top;\n",
       "    }\n",
       "\n",
       "    .dataframe thead th {\n",
       "        text-align: right;\n",
       "    }\n",
       "</style>\n",
       "<table border=\"1\" class=\"dataframe\">\n",
       "  <thead>\n",
       "    <tr style=\"text-align: right;\">\n",
       "      <th></th>\n",
       "      <th>pop_est</th>\n",
       "      <th>continent</th>\n",
       "      <th>name</th>\n",
       "      <th>iso_a3</th>\n",
       "      <th>gdp_md_est</th>\n",
       "      <th>geometry</th>\n",
       "    </tr>\n",
       "  </thead>\n",
       "  <tbody>\n",
       "    <tr>\n",
       "      <th>0</th>\n",
       "      <td>28400000.0</td>\n",
       "      <td>Asia</td>\n",
       "      <td>Afghanistan</td>\n",
       "      <td>AFG</td>\n",
       "      <td>22270.0</td>\n",
       "      <td>POLYGON ((61.21082 35.65007, 62.23065 35.27066...</td>\n",
       "    </tr>\n",
       "    <tr>\n",
       "      <th>1</th>\n",
       "      <td>12799293.0</td>\n",
       "      <td>Africa</td>\n",
       "      <td>Angola</td>\n",
       "      <td>AGO</td>\n",
       "      <td>110300.0</td>\n",
       "      <td>MULTIPOLYGON (((16.32653 -5.87747, 16.57318 -6...</td>\n",
       "    </tr>\n",
       "    <tr>\n",
       "      <th>2</th>\n",
       "      <td>3639453.0</td>\n",
       "      <td>Europe</td>\n",
       "      <td>Albania</td>\n",
       "      <td>ALB</td>\n",
       "      <td>21810.0</td>\n",
       "      <td>POLYGON ((20.59025 41.85540, 20.46318 41.51509...</td>\n",
       "    </tr>\n",
       "    <tr>\n",
       "      <th>3</th>\n",
       "      <td>4798491.0</td>\n",
       "      <td>Asia</td>\n",
       "      <td>United Arab Emirates</td>\n",
       "      <td>ARE</td>\n",
       "      <td>184300.0</td>\n",
       "      <td>POLYGON ((51.57952 24.24550, 51.75744 24.29407...</td>\n",
       "    </tr>\n",
       "    <tr>\n",
       "      <th>4</th>\n",
       "      <td>40913584.0</td>\n",
       "      <td>South America</td>\n",
       "      <td>Argentina</td>\n",
       "      <td>ARG</td>\n",
       "      <td>573900.0</td>\n",
       "      <td>MULTIPOLYGON (((-65.50000 -55.20000, -66.45000...</td>\n",
       "    </tr>\n",
       "    <tr>\n",
       "      <th>...</th>\n",
       "      <td>...</td>\n",
       "      <td>...</td>\n",
       "      <td>...</td>\n",
       "      <td>...</td>\n",
       "      <td>...</td>\n",
       "      <td>...</td>\n",
       "    </tr>\n",
       "    <tr>\n",
       "      <th>172</th>\n",
       "      <td>218519.0</td>\n",
       "      <td>Oceania</td>\n",
       "      <td>Vanuatu</td>\n",
       "      <td>VUT</td>\n",
       "      <td>988.5</td>\n",
       "      <td>MULTIPOLYGON (((167.84488 -16.46633, 167.51518...</td>\n",
       "    </tr>\n",
       "    <tr>\n",
       "      <th>173</th>\n",
       "      <td>23822783.0</td>\n",
       "      <td>Asia</td>\n",
       "      <td>Yemen</td>\n",
       "      <td>YEM</td>\n",
       "      <td>55280.0</td>\n",
       "      <td>POLYGON ((53.10857 16.65105, 52.38521 16.38241...</td>\n",
       "    </tr>\n",
       "    <tr>\n",
       "      <th>174</th>\n",
       "      <td>49052489.0</td>\n",
       "      <td>Africa</td>\n",
       "      <td>South Africa</td>\n",
       "      <td>ZAF</td>\n",
       "      <td>491000.0</td>\n",
       "      <td>POLYGON ((31.52100 -29.25739, 31.32556 -29.401...</td>\n",
       "    </tr>\n",
       "    <tr>\n",
       "      <th>175</th>\n",
       "      <td>11862740.0</td>\n",
       "      <td>Africa</td>\n",
       "      <td>Zambia</td>\n",
       "      <td>ZMB</td>\n",
       "      <td>17500.0</td>\n",
       "      <td>POLYGON ((32.75938 -9.23060, 33.23139 -9.67672...</td>\n",
       "    </tr>\n",
       "    <tr>\n",
       "      <th>176</th>\n",
       "      <td>12619600.0</td>\n",
       "      <td>Africa</td>\n",
       "      <td>Zimbabwe</td>\n",
       "      <td>ZWE</td>\n",
       "      <td>9323.0</td>\n",
       "      <td>POLYGON ((31.19141 -22.25151, 30.65987 -22.151...</td>\n",
       "    </tr>\n",
       "  </tbody>\n",
       "</table>\n",
       "<p>177 rows × 6 columns</p>\n",
       "</div>"
      ],
      "text/plain": [
       "        pop_est      continent                  name iso_a3  gdp_md_est  \\\n",
       "0    28400000.0           Asia           Afghanistan    AFG     22270.0   \n",
       "1    12799293.0         Africa                Angola    AGO    110300.0   \n",
       "2     3639453.0         Europe               Albania    ALB     21810.0   \n",
       "3     4798491.0           Asia  United Arab Emirates    ARE    184300.0   \n",
       "4    40913584.0  South America             Argentina    ARG    573900.0   \n",
       "..          ...            ...                   ...    ...         ...   \n",
       "172    218519.0        Oceania               Vanuatu    VUT       988.5   \n",
       "173  23822783.0           Asia                 Yemen    YEM     55280.0   \n",
       "174  49052489.0         Africa          South Africa    ZAF    491000.0   \n",
       "175  11862740.0         Africa                Zambia    ZMB     17500.0   \n",
       "176  12619600.0         Africa              Zimbabwe    ZWE      9323.0   \n",
       "\n",
       "                                              geometry  \n",
       "0    POLYGON ((61.21082 35.65007, 62.23065 35.27066...  \n",
       "1    MULTIPOLYGON (((16.32653 -5.87747, 16.57318 -6...  \n",
       "2    POLYGON ((20.59025 41.85540, 20.46318 41.51509...  \n",
       "3    POLYGON ((51.57952 24.24550, 51.75744 24.29407...  \n",
       "4    MULTIPOLYGON (((-65.50000 -55.20000, -66.45000...  \n",
       "..                                                 ...  \n",
       "172  MULTIPOLYGON (((167.84488 -16.46633, 167.51518...  \n",
       "173  POLYGON ((53.10857 16.65105, 52.38521 16.38241...  \n",
       "174  POLYGON ((31.52100 -29.25739, 31.32556 -29.401...  \n",
       "175  POLYGON ((32.75938 -9.23060, 33.23139 -9.67672...  \n",
       "176  POLYGON ((31.19141 -22.25151, 30.65987 -22.151...  \n",
       "\n",
       "[177 rows x 6 columns]"
      ]
     },
     "execution_count": 80,
     "metadata": {},
     "output_type": "execute_result"
    }
   ],
   "source": [
    "countries = gpd.read_file(\"world/world.shp\")\n",
    "countries"
   ]
  },
  {
   "attachments": {},
   "cell_type": "markdown",
   "id": "bc193908",
   "metadata": {},
   "source": [
    "#### How many countries are there?"
   ]
  },
  {
   "attachments": {},
   "cell_type": "markdown",
   "id": "289d758d",
   "metadata": {},
   "source": [
    "A dataset like this is the perfect segue to a data quality discussion, and the semantics of definitions. While some countries are clearly missing, what would be considered a **complete** dataframe here? For those interested, [this video](https://www.youtube.com/watch?v=4AivEQmfPpk) unpacks how difficult it is to answer the true number of countries (the most wholesome example is probably Kosovo, who aren't universally recognised as an independent country, and have a [website](https://www.kosovothanksyou.com/) to thank those who consider it a legitimate state!)"
   ]
  },
  {
   "attachments": {},
   "cell_type": "markdown",
   "id": "aebdaa13",
   "metadata": {},
   "source": [
    "### 1.2 Geopandas Transformations"
   ]
  },
  {
   "attachments": {},
   "cell_type": "markdown",
   "id": "25b638c5",
   "metadata": {},
   "source": [
    "Another dataset provided on Canvas contains capital cities across the world, provided by [SimpleMaps](https://simplemaps.com/data/world-cities). This is a simple CSV, containing the latitude and longitude coordinates of each city, as well as a population estimate, and the type of capital it is."
   ]
  },
  {
   "cell_type": "code",
   "execution_count": 81,
   "id": "63600f9f",
   "metadata": {},
   "outputs": [
    {
     "data": {
      "text/html": [
       "<div>\n",
       "<style scoped>\n",
       "    .dataframe tbody tr th:only-of-type {\n",
       "        vertical-align: middle;\n",
       "    }\n",
       "\n",
       "    .dataframe tbody tr th {\n",
       "        vertical-align: top;\n",
       "    }\n",
       "\n",
       "    .dataframe thead th {\n",
       "        text-align: right;\n",
       "    }\n",
       "</style>\n",
       "<table border=\"1\" class=\"dataframe\">\n",
       "  <thead>\n",
       "    <tr style=\"text-align: right;\">\n",
       "      <th></th>\n",
       "      <th>city</th>\n",
       "      <th>lat</th>\n",
       "      <th>lng</th>\n",
       "      <th>population</th>\n",
       "      <th>capital</th>\n",
       "    </tr>\n",
       "  </thead>\n",
       "  <tbody>\n",
       "    <tr>\n",
       "      <th>0</th>\n",
       "      <td>Tokyo</td>\n",
       "      <td>35.6839</td>\n",
       "      <td>139.7744</td>\n",
       "      <td>39105000.0</td>\n",
       "      <td>primary</td>\n",
       "    </tr>\n",
       "    <tr>\n",
       "      <th>1</th>\n",
       "      <td>Jakarta</td>\n",
       "      <td>-6.2146</td>\n",
       "      <td>106.8451</td>\n",
       "      <td>35362000.0</td>\n",
       "      <td>primary</td>\n",
       "    </tr>\n",
       "    <tr>\n",
       "      <th>2</th>\n",
       "      <td>Delhi</td>\n",
       "      <td>28.6667</td>\n",
       "      <td>77.2167</td>\n",
       "      <td>31870000.0</td>\n",
       "      <td>admin</td>\n",
       "    </tr>\n",
       "    <tr>\n",
       "      <th>3</th>\n",
       "      <td>Manila</td>\n",
       "      <td>14.6000</td>\n",
       "      <td>120.9833</td>\n",
       "      <td>23971000.0</td>\n",
       "      <td>primary</td>\n",
       "    </tr>\n",
       "    <tr>\n",
       "      <th>4</th>\n",
       "      <td>Sao Paulo</td>\n",
       "      <td>-23.5504</td>\n",
       "      <td>-46.6339</td>\n",
       "      <td>22495000.0</td>\n",
       "      <td>admin</td>\n",
       "    </tr>\n",
       "    <tr>\n",
       "      <th>...</th>\n",
       "      <td>...</td>\n",
       "      <td>...</td>\n",
       "      <td>...</td>\n",
       "      <td>...</td>\n",
       "      <td>...</td>\n",
       "    </tr>\n",
       "    <tr>\n",
       "      <th>9807</th>\n",
       "      <td>Greytown</td>\n",
       "      <td>10.9167</td>\n",
       "      <td>-83.7000</td>\n",
       "      <td>275.0</td>\n",
       "      <td>minor</td>\n",
       "    </tr>\n",
       "    <tr>\n",
       "      <th>9808</th>\n",
       "      <td>La Esmeralda</td>\n",
       "      <td>3.1738</td>\n",
       "      <td>-65.5466</td>\n",
       "      <td>150.0</td>\n",
       "      <td>minor</td>\n",
       "    </tr>\n",
       "    <tr>\n",
       "      <th>9809</th>\n",
       "      <td>Hodrogo</td>\n",
       "      <td>48.9664</td>\n",
       "      <td>96.7833</td>\n",
       "      <td>10.0</td>\n",
       "      <td>minor</td>\n",
       "    </tr>\n",
       "    <tr>\n",
       "      <th>9810</th>\n",
       "      <td>Charlotte Amalie</td>\n",
       "      <td>18.3419</td>\n",
       "      <td>-64.9332</td>\n",
       "      <td>NaN</td>\n",
       "      <td>primary</td>\n",
       "    </tr>\n",
       "    <tr>\n",
       "      <th>9811</th>\n",
       "      <td>Iqaluit</td>\n",
       "      <td>63.7598</td>\n",
       "      <td>-68.5107</td>\n",
       "      <td>7740.0</td>\n",
       "      <td>admin</td>\n",
       "    </tr>\n",
       "  </tbody>\n",
       "</table>\n",
       "<p>9812 rows × 5 columns</p>\n",
       "</div>"
      ],
      "text/plain": [
       "                  city      lat       lng  population  capital\n",
       "0                Tokyo  35.6839  139.7744  39105000.0  primary\n",
       "1              Jakarta  -6.2146  106.8451  35362000.0  primary\n",
       "2                Delhi  28.6667   77.2167  31870000.0    admin\n",
       "3               Manila  14.6000  120.9833  23971000.0  primary\n",
       "4            Sao Paulo -23.5504  -46.6339  22495000.0    admin\n",
       "...                ...      ...       ...         ...      ...\n",
       "9807          Greytown  10.9167  -83.7000       275.0    minor\n",
       "9808      La Esmeralda   3.1738  -65.5466       150.0    minor\n",
       "9809           Hodrogo  48.9664   96.7833        10.0    minor\n",
       "9810  Charlotte Amalie  18.3419  -64.9332         NaN  primary\n",
       "9811           Iqaluit  63.7598  -68.5107      7740.0    admin\n",
       "\n",
       "[9812 rows x 5 columns]"
      ]
     },
     "execution_count": 81,
     "metadata": {},
     "output_type": "execute_result"
    }
   ],
   "source": [
    "cities = pd.read_csv('Capitals.csv')\n",
    "cities"
   ]
  },
  {
   "attachments": {},
   "cell_type": "markdown",
   "id": "b12e3081",
   "metadata": {},
   "source": [
    "We can leverage GeoPandas' `.points_from_xy()` function to properly store a geographical point."
   ]
  },
  {
   "cell_type": "code",
   "execution_count": 82,
   "id": "d89b3085",
   "metadata": {},
   "outputs": [
    {
     "data": {
      "text/html": [
       "<div>\n",
       "<style scoped>\n",
       "    .dataframe tbody tr th:only-of-type {\n",
       "        vertical-align: middle;\n",
       "    }\n",
       "\n",
       "    .dataframe tbody tr th {\n",
       "        vertical-align: top;\n",
       "    }\n",
       "\n",
       "    .dataframe thead th {\n",
       "        text-align: right;\n",
       "    }\n",
       "</style>\n",
       "<table border=\"1\" class=\"dataframe\">\n",
       "  <thead>\n",
       "    <tr style=\"text-align: right;\">\n",
       "      <th></th>\n",
       "      <th>city</th>\n",
       "      <th>population</th>\n",
       "      <th>capital</th>\n",
       "      <th>geom</th>\n",
       "    </tr>\n",
       "  </thead>\n",
       "  <tbody>\n",
       "    <tr>\n",
       "      <th>0</th>\n",
       "      <td>Tokyo</td>\n",
       "      <td>39105000.0</td>\n",
       "      <td>primary</td>\n",
       "      <td>POINT (139.77440 35.68390)</td>\n",
       "    </tr>\n",
       "    <tr>\n",
       "      <th>1</th>\n",
       "      <td>Jakarta</td>\n",
       "      <td>35362000.0</td>\n",
       "      <td>primary</td>\n",
       "      <td>POINT (106.84510 -6.21460)</td>\n",
       "    </tr>\n",
       "    <tr>\n",
       "      <th>2</th>\n",
       "      <td>Delhi</td>\n",
       "      <td>31870000.0</td>\n",
       "      <td>admin</td>\n",
       "      <td>POINT (77.21670 28.66670)</td>\n",
       "    </tr>\n",
       "    <tr>\n",
       "      <th>3</th>\n",
       "      <td>Manila</td>\n",
       "      <td>23971000.0</td>\n",
       "      <td>primary</td>\n",
       "      <td>POINT (120.98330 14.60000)</td>\n",
       "    </tr>\n",
       "    <tr>\n",
       "      <th>4</th>\n",
       "      <td>Sao Paulo</td>\n",
       "      <td>22495000.0</td>\n",
       "      <td>admin</td>\n",
       "      <td>POINT (-46.63390 -23.55040)</td>\n",
       "    </tr>\n",
       "    <tr>\n",
       "      <th>...</th>\n",
       "      <td>...</td>\n",
       "      <td>...</td>\n",
       "      <td>...</td>\n",
       "      <td>...</td>\n",
       "    </tr>\n",
       "    <tr>\n",
       "      <th>9807</th>\n",
       "      <td>Greytown</td>\n",
       "      <td>275.0</td>\n",
       "      <td>minor</td>\n",
       "      <td>POINT (-83.70000 10.91670)</td>\n",
       "    </tr>\n",
       "    <tr>\n",
       "      <th>9808</th>\n",
       "      <td>La Esmeralda</td>\n",
       "      <td>150.0</td>\n",
       "      <td>minor</td>\n",
       "      <td>POINT (-65.54660 3.17380)</td>\n",
       "    </tr>\n",
       "    <tr>\n",
       "      <th>9809</th>\n",
       "      <td>Hodrogo</td>\n",
       "      <td>10.0</td>\n",
       "      <td>minor</td>\n",
       "      <td>POINT (96.78330 48.96640)</td>\n",
       "    </tr>\n",
       "    <tr>\n",
       "      <th>9810</th>\n",
       "      <td>Charlotte Amalie</td>\n",
       "      <td>NaN</td>\n",
       "      <td>primary</td>\n",
       "      <td>POINT (-64.93320 18.34190)</td>\n",
       "    </tr>\n",
       "    <tr>\n",
       "      <th>9811</th>\n",
       "      <td>Iqaluit</td>\n",
       "      <td>7740.0</td>\n",
       "      <td>admin</td>\n",
       "      <td>POINT (-68.51070 63.75980)</td>\n",
       "    </tr>\n",
       "  </tbody>\n",
       "</table>\n",
       "<p>9812 rows × 4 columns</p>\n",
       "</div>"
      ],
      "text/plain": [
       "                  city  population  capital                         geom\n",
       "0                Tokyo  39105000.0  primary   POINT (139.77440 35.68390)\n",
       "1              Jakarta  35362000.0  primary   POINT (106.84510 -6.21460)\n",
       "2                Delhi  31870000.0    admin    POINT (77.21670 28.66670)\n",
       "3               Manila  23971000.0  primary   POINT (120.98330 14.60000)\n",
       "4            Sao Paulo  22495000.0    admin  POINT (-46.63390 -23.55040)\n",
       "...                ...         ...      ...                          ...\n",
       "9807          Greytown       275.0    minor   POINT (-83.70000 10.91670)\n",
       "9808      La Esmeralda       150.0    minor    POINT (-65.54660 3.17380)\n",
       "9809           Hodrogo        10.0    minor    POINT (96.78330 48.96640)\n",
       "9810  Charlotte Amalie         NaN  primary   POINT (-64.93320 18.34190)\n",
       "9811           Iqaluit      7740.0    admin   POINT (-68.51070 63.75980)\n",
       "\n",
       "[9812 rows x 4 columns]"
      ]
     },
     "execution_count": 82,
     "metadata": {},
     "output_type": "execute_result"
    }
   ],
   "source": [
    "cities['geom'] = gpd.points_from_xy(cities.lng, cities.lat)  # creating the geometry column\n",
    "cities = cities.drop(columns=['lat', 'lng'])  # removing the old latitude/longitude fields\n",
    "cities"
   ]
  },
  {
   "attachments": {},
   "cell_type": "markdown",
   "id": "d3a9fc8d",
   "metadata": {},
   "source": [
    "## 2. Loading Spatial Data"
   ]
  },
  {
   "attachments": {},
   "cell_type": "markdown",
   "id": "affb0171",
   "metadata": {},
   "source": [
    "Loading the information into Pandas dataframes is a useful start, but to begin forming queries, we must ingest the data into our SQL databases."
   ]
  },
  {
   "attachments": {},
   "cell_type": "markdown",
   "id": "9c213c15",
   "metadata": {},
   "source": [
    "### 2.1 Requirements"
   ]
  },
  {
   "attachments": {},
   "cell_type": "markdown",
   "id": "c9ce3ddc",
   "metadata": {},
   "source": [
    "The below functions are taken directly from the Week 4 tutorial. Remember this requires a `Credentials.json` file to exist in the same directory as this notebook, as was needed in previous weeks."
   ]
  },
  {
   "cell_type": "code",
   "execution_count": 83,
   "id": "875a26db",
   "metadata": {},
   "outputs": [],
   "source": [
    "from sqlalchemy import create_engine\n",
    "import psycopg2\n",
    "import psycopg2.extras\n",
    "import json\n",
    "\n",
    "credentials = \"Credentials.json\"\n",
    "\n",
    "def pgconnect(credential_filepath, db_schema=\"public\"):\n",
    "    with open(credential_filepath) as f:\n",
    "        db_conn_dict = json.load(f)\n",
    "        host       = db_conn_dict['host']\n",
    "        db_user    = db_conn_dict['user']\n",
    "        db_pw      = db_conn_dict['password']\n",
    "        default_db = db_conn_dict['user']\n",
    "        try:\n",
    "            db = create_engine('postgresql+psycopg2://'+db_user+':'+db_pw+'@'+host+'/'+default_db, echo=False)\n",
    "            conn = db.connect()\n",
    "            print('Connected successfully.')\n",
    "        except Exception as e:\n",
    "            print(\"Unable to connect to the database.\")\n",
    "            print(e)\n",
    "            db, conn = None, None\n",
    "        return db,conn\n",
    "\n",
    "def query(conn, sqlcmd, args=None, df=True):\n",
    "    result = pd.DataFrame() if df else None\n",
    "    try:\n",
    "        if df:\n",
    "            result = pd.read_sql_query(sqlcmd, conn, params=args)\n",
    "        else:\n",
    "            result = conn.execute(sqlcmd, args).fetchall()\n",
    "            result = result[0] if len(result) == 1 else result\n",
    "    except Exception as e:\n",
    "        print(\"Error encountered: \", e, sep='\\n')\n",
    "    return result"
   ]
  },
  {
   "attachments": {},
   "cell_type": "markdown",
   "id": "96a416aa",
   "metadata": {},
   "source": [
    "The below cell actually connects to the database - should you reach errors, check your credentials file, ensure you're using the VPN, and consult the [FAQ thread on Ed](https://edstem.org/au/courses/8139/discussion/769731)."
   ]
  },
  {
   "cell_type": "code",
   "execution_count": 84,
   "id": "7734dbdf",
   "metadata": {},
   "outputs": [
    {
     "name": "stdout",
     "output_type": "stream",
     "text": [
      "Connected successfully.\n"
     ]
    }
   ],
   "source": [
    "db, conn = pgconnect(credentials)"
   ]
  },
  {
   "attachments": {},
   "cell_type": "markdown",
   "id": "c409b30e",
   "metadata": {},
   "source": [
    "Note the functions we'll be leveraging for geographical operations rely on PostGIS (the spatial extension to PostgreSQL) being installed on the database - the below query confirms it is correctly configured."
   ]
  },
  {
   "cell_type": "code",
   "execution_count": 85,
   "id": "2b46aeac",
   "metadata": {},
   "outputs": [
    {
     "data": {
      "text/html": [
       "<div>\n",
       "<style scoped>\n",
       "    .dataframe tbody tr th:only-of-type {\n",
       "        vertical-align: middle;\n",
       "    }\n",
       "\n",
       "    .dataframe tbody tr th {\n",
       "        vertical-align: top;\n",
       "    }\n",
       "\n",
       "    .dataframe thead th {\n",
       "        text-align: right;\n",
       "    }\n",
       "</style>\n",
       "<table border=\"1\" class=\"dataframe\">\n",
       "  <thead>\n",
       "    <tr style=\"text-align: right;\">\n",
       "      <th></th>\n",
       "      <th>postgis_version</th>\n",
       "    </tr>\n",
       "  </thead>\n",
       "  <tbody>\n",
       "    <tr>\n",
       "      <th>0</th>\n",
       "      <td>3.3 USE_GEOS=1 USE_PROJ=1 USE_STATS=1</td>\n",
       "    </tr>\n",
       "  </tbody>\n",
       "</table>\n",
       "</div>"
      ],
      "text/plain": [
       "                         postgis_version\n",
       "0  3.3 USE_GEOS=1 USE_PROJ=1 USE_STATS=1"
      ]
     },
     "execution_count": 85,
     "metadata": {},
     "output_type": "execute_result"
    }
   ],
   "source": [
    "query(conn, \"SELECT PostGIS_version()\")"
   ]
  },
  {
   "attachments": {},
   "cell_type": "markdown",
   "id": "d0068757",
   "metadata": {},
   "source": [
    "### 2.2 SRID Transformations"
   ]
  },
  {
   "attachments": {},
   "cell_type": "markdown",
   "id": "6722bd05",
   "metadata": {},
   "source": [
    "Ensuring the spatial data types from GeoPandas are the same as those expected by PostGIS requires conversion to the **Well-Known Text (WKT)** format, as an intermediate step. This can be done using the `geoalchemy2` library, to convert from the `shapely` types in GeoPandas to the WKT format in PostGIS.\n",
    "\n",
    "We'll also be sure to specify the **Spatial Reference Identifier (SRID)** - in this case 4326, to represent the [WGS84 world geodetic coordinate system](https://en.wikipedia.org/wiki/World_Geodetic_System) used by our example data set. The following code simply converts the 'geom' column of the **Cities** dataframe accordingly."
   ]
  },
  {
   "cell_type": "code",
   "execution_count": 86,
   "id": "bfef394c",
   "metadata": {},
   "outputs": [
    {
     "data": {
      "text/html": [
       "<div>\n",
       "<style scoped>\n",
       "    .dataframe tbody tr th:only-of-type {\n",
       "        vertical-align: middle;\n",
       "    }\n",
       "\n",
       "    .dataframe tbody tr th {\n",
       "        vertical-align: top;\n",
       "    }\n",
       "\n",
       "    .dataframe thead th {\n",
       "        text-align: right;\n",
       "    }\n",
       "</style>\n",
       "<table border=\"1\" class=\"dataframe\">\n",
       "  <thead>\n",
       "    <tr style=\"text-align: right;\">\n",
       "      <th></th>\n",
       "      <th>city</th>\n",
       "      <th>population</th>\n",
       "      <th>capital</th>\n",
       "      <th>geom</th>\n",
       "    </tr>\n",
       "  </thead>\n",
       "  <tbody>\n",
       "    <tr>\n",
       "      <th>0</th>\n",
       "      <td>Tokyo</td>\n",
       "      <td>39105000.0</td>\n",
       "      <td>primary</td>\n",
       "      <td>POINT (139.7744 35.6839)</td>\n",
       "    </tr>\n",
       "    <tr>\n",
       "      <th>1</th>\n",
       "      <td>Jakarta</td>\n",
       "      <td>35362000.0</td>\n",
       "      <td>primary</td>\n",
       "      <td>POINT (106.8451 -6.2146)</td>\n",
       "    </tr>\n",
       "    <tr>\n",
       "      <th>2</th>\n",
       "      <td>Delhi</td>\n",
       "      <td>31870000.0</td>\n",
       "      <td>admin</td>\n",
       "      <td>POINT (77.2167 28.6667)</td>\n",
       "    </tr>\n",
       "    <tr>\n",
       "      <th>3</th>\n",
       "      <td>Manila</td>\n",
       "      <td>23971000.0</td>\n",
       "      <td>primary</td>\n",
       "      <td>POINT (120.9833 14.6)</td>\n",
       "    </tr>\n",
       "    <tr>\n",
       "      <th>4</th>\n",
       "      <td>Sao Paulo</td>\n",
       "      <td>22495000.0</td>\n",
       "      <td>admin</td>\n",
       "      <td>POINT (-46.6339 -23.5504)</td>\n",
       "    </tr>\n",
       "    <tr>\n",
       "      <th>...</th>\n",
       "      <td>...</td>\n",
       "      <td>...</td>\n",
       "      <td>...</td>\n",
       "      <td>...</td>\n",
       "    </tr>\n",
       "    <tr>\n",
       "      <th>9807</th>\n",
       "      <td>Greytown</td>\n",
       "      <td>275.0</td>\n",
       "      <td>minor</td>\n",
       "      <td>POINT (-83.7 10.9167)</td>\n",
       "    </tr>\n",
       "    <tr>\n",
       "      <th>9808</th>\n",
       "      <td>La Esmeralda</td>\n",
       "      <td>150.0</td>\n",
       "      <td>minor</td>\n",
       "      <td>POINT (-65.5466 3.1738)</td>\n",
       "    </tr>\n",
       "    <tr>\n",
       "      <th>9809</th>\n",
       "      <td>Hodrogo</td>\n",
       "      <td>10.0</td>\n",
       "      <td>minor</td>\n",
       "      <td>POINT (96.7833 48.9664)</td>\n",
       "    </tr>\n",
       "    <tr>\n",
       "      <th>9810</th>\n",
       "      <td>Charlotte Amalie</td>\n",
       "      <td>NaN</td>\n",
       "      <td>primary</td>\n",
       "      <td>POINT (-64.9332 18.3419)</td>\n",
       "    </tr>\n",
       "    <tr>\n",
       "      <th>9811</th>\n",
       "      <td>Iqaluit</td>\n",
       "      <td>7740.0</td>\n",
       "      <td>admin</td>\n",
       "      <td>POINT (-68.5107 63.7598)</td>\n",
       "    </tr>\n",
       "  </tbody>\n",
       "</table>\n",
       "<p>9812 rows × 4 columns</p>\n",
       "</div>"
      ],
      "text/plain": [
       "                  city  population  capital                       geom\n",
       "0                Tokyo  39105000.0  primary   POINT (139.7744 35.6839)\n",
       "1              Jakarta  35362000.0  primary   POINT (106.8451 -6.2146)\n",
       "2                Delhi  31870000.0    admin    POINT (77.2167 28.6667)\n",
       "3               Manila  23971000.0  primary      POINT (120.9833 14.6)\n",
       "4            Sao Paulo  22495000.0    admin  POINT (-46.6339 -23.5504)\n",
       "...                ...         ...      ...                        ...\n",
       "9807          Greytown       275.0    minor      POINT (-83.7 10.9167)\n",
       "9808      La Esmeralda       150.0    minor    POINT (-65.5466 3.1738)\n",
       "9809           Hodrogo        10.0    minor    POINT (96.7833 48.9664)\n",
       "9810  Charlotte Amalie         NaN  primary   POINT (-64.9332 18.3419)\n",
       "9811           Iqaluit      7740.0    admin   POINT (-68.5107 63.7598)\n",
       "\n",
       "[9812 rows x 4 columns]"
      ]
     },
     "execution_count": 86,
     "metadata": {},
     "output_type": "execute_result"
    }
   ],
   "source": [
    "srid = 4326\n",
    "cities['geom'] = cities['geom'].apply(lambda x: WKTElement(x.wkt, srid=srid))\n",
    "cities"
   ]
  },
  {
   "attachments": {},
   "cell_type": "markdown",
   "id": "7f394c41",
   "metadata": {},
   "source": [
    "Converting the polygons in our **Countries** dataframe requires more work. We'll first ensure they're all represented as multipolygons (of which polygons are a subset), and then conduct the same WKT conversion, all using a simple helper function."
   ]
  },
  {
   "cell_type": "code",
   "execution_count": 87,
   "id": "7c5cb423",
   "metadata": {},
   "outputs": [
    {
     "name": "stdout",
     "output_type": "stream",
     "text": [
      "      pop_est      continent                  name iso_a3  gdp_md_est  \\\n",
      "0  28400000.0           Asia           Afghanistan    AFG     22270.0   \n",
      "1  12799293.0         Africa                Angola    AGO    110300.0   \n",
      "2   3639453.0         Europe               Albania    ALB     21810.0   \n",
      "3   4798491.0           Asia  United Arab Emirates    ARE    184300.0   \n",
      "4  40913584.0  South America             Argentina    ARG    573900.0   \n",
      "\n",
      "                                            geometry  \n",
      "0  POLYGON ((61.21082 35.65007, 62.23065 35.27066...  \n",
      "1  MULTIPOLYGON (((16.32653 -5.87747, 16.57318 -6...  \n",
      "2  POLYGON ((20.59025 41.85540, 20.46318 41.51509...  \n",
      "3  POLYGON ((51.57952 24.24550, 51.75744 24.29407...  \n",
      "4  MULTIPOLYGON (((-65.50000 -55.20000, -66.45000...  \n",
      "<class 'pandas.core.frame.DataFrame'>\n",
      "RangeIndex: 177 entries, 0 to 176\n",
      "Data columns (total 6 columns):\n",
      " #   Column      Non-Null Count  Dtype  \n",
      "---  ------      --------------  -----  \n",
      " 0   pop_est     177 non-null    float64\n",
      " 1   continent   177 non-null    object \n",
      " 2   name        177 non-null    object \n",
      " 3   iso_a3      177 non-null    object \n",
      " 4   gdp_md_est  177 non-null    float64\n",
      " 5   geom        177 non-null    object \n",
      "dtypes: float64(2), object(4)\n",
      "memory usage: 8.4+ KB\n"
     ]
    }
   ],
   "source": [
    "def create_wkt_element(geom, srid):\n",
    "    if geom.geom_type == 'Polygon':\n",
    "        geom = MultiPolygon([geom])\n",
    "    return WKTElement(geom.wkt, srid)\n",
    "print(countries.head())\n",
    "countriesog = countries.copy()  # creating a copy of the original for later\n",
    "countries['geom'] = countries['geometry'].apply(lambda x: create_wkt_element(geom=x,srid=srid))  # applying the function\n",
    "countries = countries.drop(columns=\"geometry\")  # deleting the old copy\n",
    "countries.info()"
   ]
  },
  {
   "attachments": {},
   "cell_type": "markdown",
   "id": "73a74ca2",
   "metadata": {},
   "source": [
    "### 2.3 Ingestion"
   ]
  },
  {
   "attachments": {},
   "cell_type": "markdown",
   "id": "f90a484b",
   "metadata": {},
   "source": [
    "Let's proceed to populate tables in our database, firstly by defining schemas for each. Note the SRID is referenced in the geometry columns."
   ]
  },
  {
   "cell_type": "code",
   "execution_count": 88,
   "id": "2a13337b",
   "metadata": {},
   "outputs": [
    {
     "data": {
      "text/plain": [
       "<sqlalchemy.engine.cursor.LegacyCursorResult at 0x24be45edd60>"
      ]
     },
     "execution_count": 88,
     "metadata": {},
     "output_type": "execute_result"
    }
   ],
   "source": [
    "conn.execute(\"\"\"\n",
    "DROP TABLE IF EXISTS cities;\n",
    "CREATE TABLE cities (\n",
    "    city VARCHAR(100), \n",
    "    population INTEGER, \n",
    "    capital VARCHAR(10),\n",
    "    geom GEOMETRY(POINT,4326)\n",
    ");\"\"\"\n",
    ")\n",
    "\n",
    "conn.execute(\"\"\"\n",
    "DROP TABLE IF EXISTS world;\n",
    "CREATE TABLE world (\n",
    "    pop_est NUMERIC, \n",
    "    continent VARCHAR(80), \n",
    "    name VARCHAR(80), \n",
    "    iso_a3 VARCHAR(80), \n",
    "    gdp_md_est NUMERIC,\n",
    "    geom GEOMETRY(MULTIPOLYGON,4326)\n",
    ");\"\"\"\n",
    ")"
   ]
  },
  {
   "attachments": {},
   "cell_type": "markdown",
   "id": "b89eb1bd",
   "metadata": {},
   "source": [
    "With this established, we can insert the data into these tables. With spatial data, it does require our code to be explicit in our type defintions so the `geoalchemy` library can handle the conversions.\n",
    "\n",
    "Firstly, we'll test the **Cities** table (will take longer than Countries due to the containing many more rows), then the **Countries** information."
   ]
  },
  {
   "cell_type": "code",
   "execution_count": 89,
   "id": "335577b6",
   "metadata": {},
   "outputs": [
    {
     "data": {
      "text/html": [
       "<div>\n",
       "<style scoped>\n",
       "    .dataframe tbody tr th:only-of-type {\n",
       "        vertical-align: middle;\n",
       "    }\n",
       "\n",
       "    .dataframe tbody tr th {\n",
       "        vertical-align: top;\n",
       "    }\n",
       "\n",
       "    .dataframe thead th {\n",
       "        text-align: right;\n",
       "    }\n",
       "</style>\n",
       "<table border=\"1\" class=\"dataframe\">\n",
       "  <thead>\n",
       "    <tr style=\"text-align: right;\">\n",
       "      <th></th>\n",
       "      <th>city</th>\n",
       "      <th>population</th>\n",
       "      <th>capital</th>\n",
       "      <th>geom</th>\n",
       "    </tr>\n",
       "  </thead>\n",
       "  <tbody>\n",
       "    <tr>\n",
       "      <th>0</th>\n",
       "      <td>Tokyo</td>\n",
       "      <td>39105000.0</td>\n",
       "      <td>primary</td>\n",
       "      <td>0101000020E6100000B84082E2C778614001DE02098AD7...</td>\n",
       "    </tr>\n",
       "    <tr>\n",
       "      <th>1</th>\n",
       "      <td>Jakarta</td>\n",
       "      <td>35362000.0</td>\n",
       "      <td>primary</td>\n",
       "      <td>0101000020E610000060764F1E16B65A40EBE2361AC0DB...</td>\n",
       "    </tr>\n",
       "    <tr>\n",
       "      <th>2</th>\n",
       "      <td>Delhi</td>\n",
       "      <td>31870000.0</td>\n",
       "      <td>admin</td>\n",
       "      <td>0101000020E6100000C442AD69DE4D5340423EE8D9ACAA...</td>\n",
       "    </tr>\n",
       "    <tr>\n",
       "      <th>3</th>\n",
       "      <td>Manila</td>\n",
       "      <td>23971000.0</td>\n",
       "      <td>primary</td>\n",
       "      <td>0101000020E6100000098A1F63EE3E5E40333333333333...</td>\n",
       "    </tr>\n",
       "    <tr>\n",
       "      <th>4</th>\n",
       "      <td>Sao Paulo</td>\n",
       "      <td>22495000.0</td>\n",
       "      <td>admin</td>\n",
       "      <td>0101000020E61000009A779CA2235147C0E9B7AF03E78C...</td>\n",
       "    </tr>\n",
       "    <tr>\n",
       "      <th>...</th>\n",
       "      <td>...</td>\n",
       "      <td>...</td>\n",
       "      <td>...</td>\n",
       "      <td>...</td>\n",
       "    </tr>\n",
       "    <tr>\n",
       "      <th>9807</th>\n",
       "      <td>Greytown</td>\n",
       "      <td>275.0</td>\n",
       "      <td>minor</td>\n",
       "      <td>0101000020E6100000CDCCCCCCCCEC54C0857CD0B359D5...</td>\n",
       "    </tr>\n",
       "    <tr>\n",
       "      <th>9808</th>\n",
       "      <td>La Esmeralda</td>\n",
       "      <td>150.0</td>\n",
       "      <td>minor</td>\n",
       "      <td>0101000020E610000097FF907EFB6250C0C05B2041F163...</td>\n",
       "    </tr>\n",
       "    <tr>\n",
       "      <th>9809</th>\n",
       "      <td>Hodrogo</td>\n",
       "      <td>10.0</td>\n",
       "      <td>minor</td>\n",
       "      <td>0101000020E61000003CBD5296213258405D6DC5FEB27B...</td>\n",
       "    </tr>\n",
       "    <tr>\n",
       "      <th>9810</th>\n",
       "      <td>Charlotte Amalie</td>\n",
       "      <td>NaN</td>\n",
       "      <td>primary</td>\n",
       "      <td>0101000020E610000024287E8CB93B50C09D8026C28657...</td>\n",
       "    </tr>\n",
       "    <tr>\n",
       "      <th>9811</th>\n",
       "      <td>Iqaluit</td>\n",
       "      <td>7740.0</td>\n",
       "      <td>admin</td>\n",
       "      <td>0101000020E61000004D840D4FAF2051C01AC05B2041E1...</td>\n",
       "    </tr>\n",
       "  </tbody>\n",
       "</table>\n",
       "<p>9812 rows × 4 columns</p>\n",
       "</div>"
      ],
      "text/plain": [
       "                  city  population  capital  \\\n",
       "0                Tokyo  39105000.0  primary   \n",
       "1              Jakarta  35362000.0  primary   \n",
       "2                Delhi  31870000.0    admin   \n",
       "3               Manila  23971000.0  primary   \n",
       "4            Sao Paulo  22495000.0    admin   \n",
       "...                ...         ...      ...   \n",
       "9807          Greytown       275.0    minor   \n",
       "9808      La Esmeralda       150.0    minor   \n",
       "9809           Hodrogo        10.0    minor   \n",
       "9810  Charlotte Amalie         NaN  primary   \n",
       "9811           Iqaluit      7740.0    admin   \n",
       "\n",
       "                                                   geom  \n",
       "0     0101000020E6100000B84082E2C778614001DE02098AD7...  \n",
       "1     0101000020E610000060764F1E16B65A40EBE2361AC0DB...  \n",
       "2     0101000020E6100000C442AD69DE4D5340423EE8D9ACAA...  \n",
       "3     0101000020E6100000098A1F63EE3E5E40333333333333...  \n",
       "4     0101000020E61000009A779CA2235147C0E9B7AF03E78C...  \n",
       "...                                                 ...  \n",
       "9807  0101000020E6100000CDCCCCCCCCEC54C0857CD0B359D5...  \n",
       "9808  0101000020E610000097FF907EFB6250C0C05B2041F163...  \n",
       "9809  0101000020E61000003CBD5296213258405D6DC5FEB27B...  \n",
       "9810  0101000020E610000024287E8CB93B50C09D8026C28657...  \n",
       "9811  0101000020E61000004D840D4FAF2051C01AC05B2041E1...  \n",
       "\n",
       "[9812 rows x 4 columns]"
      ]
     },
     "execution_count": 89,
     "metadata": {},
     "output_type": "execute_result"
    }
   ],
   "source": [
    "cities.to_sql('cities', conn, if_exists='append', index=False, dtype={'geom': Geometry('POINT', srid)})\n",
    "query(conn, \"select * from cities\")"
   ]
  },
  {
   "cell_type": "code",
   "execution_count": 90,
   "id": "d68393c9",
   "metadata": {},
   "outputs": [
    {
     "data": {
      "text/html": [
       "<div>\n",
       "<style scoped>\n",
       "    .dataframe tbody tr th:only-of-type {\n",
       "        vertical-align: middle;\n",
       "    }\n",
       "\n",
       "    .dataframe tbody tr th {\n",
       "        vertical-align: top;\n",
       "    }\n",
       "\n",
       "    .dataframe thead th {\n",
       "        text-align: right;\n",
       "    }\n",
       "</style>\n",
       "<table border=\"1\" class=\"dataframe\">\n",
       "  <thead>\n",
       "    <tr style=\"text-align: right;\">\n",
       "      <th></th>\n",
       "      <th>pop_est</th>\n",
       "      <th>continent</th>\n",
       "      <th>name</th>\n",
       "      <th>iso_a3</th>\n",
       "      <th>gdp_md_est</th>\n",
       "      <th>geom</th>\n",
       "    </tr>\n",
       "  </thead>\n",
       "  <tbody>\n",
       "    <tr>\n",
       "      <th>0</th>\n",
       "      <td>28400000.0</td>\n",
       "      <td>Asia</td>\n",
       "      <td>Afghanistan</td>\n",
       "      <td>AFG</td>\n",
       "      <td>22270.0</td>\n",
       "      <td>0106000020E61000000100000001030000000100000045...</td>\n",
       "    </tr>\n",
       "    <tr>\n",
       "      <th>1</th>\n",
       "      <td>12799293.0</td>\n",
       "      <td>Africa</td>\n",
       "      <td>Angola</td>\n",
       "      <td>AGO</td>\n",
       "      <td>110300.0</td>\n",
       "      <td>0106000020E61000000200000001030000000100000042...</td>\n",
       "    </tr>\n",
       "    <tr>\n",
       "      <th>2</th>\n",
       "      <td>3639453.0</td>\n",
       "      <td>Europe</td>\n",
       "      <td>Albania</td>\n",
       "      <td>ALB</td>\n",
       "      <td>21810.0</td>\n",
       "      <td>0106000020E61000000100000001030000000100000016...</td>\n",
       "    </tr>\n",
       "    <tr>\n",
       "      <th>3</th>\n",
       "      <td>4798491.0</td>\n",
       "      <td>Asia</td>\n",
       "      <td>United Arab Emirates</td>\n",
       "      <td>ARE</td>\n",
       "      <td>184300.0</td>\n",
       "      <td>0106000020E61000000100000001030000000100000016...</td>\n",
       "    </tr>\n",
       "    <tr>\n",
       "      <th>4</th>\n",
       "      <td>40913584.0</td>\n",
       "      <td>South America</td>\n",
       "      <td>Argentina</td>\n",
       "      <td>ARG</td>\n",
       "      <td>573900.0</td>\n",
       "      <td>0106000020E6100000020000000103000000010000000B...</td>\n",
       "    </tr>\n",
       "    <tr>\n",
       "      <th>...</th>\n",
       "      <td>...</td>\n",
       "      <td>...</td>\n",
       "      <td>...</td>\n",
       "      <td>...</td>\n",
       "      <td>...</td>\n",
       "      <td>...</td>\n",
       "    </tr>\n",
       "    <tr>\n",
       "      <th>172</th>\n",
       "      <td>218519.0</td>\n",
       "      <td>Oceania</td>\n",
       "      <td>Vanuatu</td>\n",
       "      <td>VUT</td>\n",
       "      <td>988.5</td>\n",
       "      <td>0106000020E61000000200000001030000000100000005...</td>\n",
       "    </tr>\n",
       "    <tr>\n",
       "      <th>173</th>\n",
       "      <td>23822783.0</td>\n",
       "      <td>Asia</td>\n",
       "      <td>Yemen</td>\n",
       "      <td>YEM</td>\n",
       "      <td>55280.0</td>\n",
       "      <td>0106000020E6100000010000000103000000010000002C...</td>\n",
       "    </tr>\n",
       "    <tr>\n",
       "      <th>174</th>\n",
       "      <td>49052489.0</td>\n",
       "      <td>Africa</td>\n",
       "      <td>South Africa</td>\n",
       "      <td>ZAF</td>\n",
       "      <td>491000.0</td>\n",
       "      <td>0106000020E61000000100000001030000000200000052...</td>\n",
       "    </tr>\n",
       "    <tr>\n",
       "      <th>175</th>\n",
       "      <td>11862740.0</td>\n",
       "      <td>Africa</td>\n",
       "      <td>Zambia</td>\n",
       "      <td>ZMB</td>\n",
       "      <td>17500.0</td>\n",
       "      <td>0106000020E6100000010000000103000000010000003D...</td>\n",
       "    </tr>\n",
       "    <tr>\n",
       "      <th>176</th>\n",
       "      <td>12619600.0</td>\n",
       "      <td>Africa</td>\n",
       "      <td>Zimbabwe</td>\n",
       "      <td>ZWE</td>\n",
       "      <td>9323.0</td>\n",
       "      <td>0106000020E61000000100000001030000000100000025...</td>\n",
       "    </tr>\n",
       "  </tbody>\n",
       "</table>\n",
       "<p>177 rows × 6 columns</p>\n",
       "</div>"
      ],
      "text/plain": [
       "        pop_est      continent                  name iso_a3  gdp_md_est  \\\n",
       "0    28400000.0           Asia           Afghanistan    AFG     22270.0   \n",
       "1    12799293.0         Africa                Angola    AGO    110300.0   \n",
       "2     3639453.0         Europe               Albania    ALB     21810.0   \n",
       "3     4798491.0           Asia  United Arab Emirates    ARE    184300.0   \n",
       "4    40913584.0  South America             Argentina    ARG    573900.0   \n",
       "..          ...            ...                   ...    ...         ...   \n",
       "172    218519.0        Oceania               Vanuatu    VUT       988.5   \n",
       "173  23822783.0           Asia                 Yemen    YEM     55280.0   \n",
       "174  49052489.0         Africa          South Africa    ZAF    491000.0   \n",
       "175  11862740.0         Africa                Zambia    ZMB     17500.0   \n",
       "176  12619600.0         Africa              Zimbabwe    ZWE      9323.0   \n",
       "\n",
       "                                                  geom  \n",
       "0    0106000020E61000000100000001030000000100000045...  \n",
       "1    0106000020E61000000200000001030000000100000042...  \n",
       "2    0106000020E61000000100000001030000000100000016...  \n",
       "3    0106000020E61000000100000001030000000100000016...  \n",
       "4    0106000020E6100000020000000103000000010000000B...  \n",
       "..                                                 ...  \n",
       "172  0106000020E61000000200000001030000000100000005...  \n",
       "173  0106000020E6100000010000000103000000010000002C...  \n",
       "174  0106000020E61000000100000001030000000200000052...  \n",
       "175  0106000020E6100000010000000103000000010000003D...  \n",
       "176  0106000020E61000000100000001030000000100000025...  \n",
       "\n",
       "[177 rows x 6 columns]"
      ]
     },
     "execution_count": 90,
     "metadata": {},
     "output_type": "execute_result"
    }
   ],
   "source": [
    "countries.to_sql(\"world\", conn, if_exists='append', index=False, dtype={'geom': Geometry('MULTIPOLYGON', srid)})\n",
    "query(conn, \"select * from world\")"
   ]
  },
  {
   "attachments": {},
   "cell_type": "markdown",
   "id": "0de14a3e",
   "metadata": {},
   "source": [
    "## 3. Querying Spatial Data"
   ]
  },
  {
   "attachments": {},
   "cell_type": "markdown",
   "id": "98e01037",
   "metadata": {},
   "source": [
    "With the data now populated, we can commence with the interesting part - building queries and answering questions!"
   ]
  },
  {
   "attachments": {},
   "cell_type": "markdown",
   "id": "d0f61c35",
   "metadata": {},
   "source": [
    "### 3.1 Areas"
   ]
  },
  {
   "attachments": {},
   "cell_type": "markdown",
   "id": "6cf721bc",
   "metadata": {},
   "source": [
    "Let's walk through an example, by calculating the area of each region. This can be achieved using the PostGIS `ST_Area()` function. Below would therefore be a query that returns the **five largest countries in Africa**."
   ]
  },
  {
   "cell_type": "code",
   "execution_count": 91,
   "id": "44594ffd",
   "metadata": {},
   "outputs": [
    {
     "data": {
      "text/html": [
       "<div>\n",
       "<style scoped>\n",
       "    .dataframe tbody tr th:only-of-type {\n",
       "        vertical-align: middle;\n",
       "    }\n",
       "\n",
       "    .dataframe tbody tr th {\n",
       "        vertical-align: top;\n",
       "    }\n",
       "\n",
       "    .dataframe thead th {\n",
       "        text-align: right;\n",
       "    }\n",
       "</style>\n",
       "<table border=\"1\" class=\"dataframe\">\n",
       "  <thead>\n",
       "    <tr style=\"text-align: right;\">\n",
       "      <th></th>\n",
       "      <th>country</th>\n",
       "      <th>total_area</th>\n",
       "    </tr>\n",
       "  </thead>\n",
       "  <tbody>\n",
       "    <tr>\n",
       "      <th>0</th>\n",
       "      <td>Algeria</td>\n",
       "      <td>213.602772</td>\n",
       "    </tr>\n",
       "    <tr>\n",
       "      <th>1</th>\n",
       "      <td>Dem. Rep. Congo</td>\n",
       "      <td>189.515232</td>\n",
       "    </tr>\n",
       "    <tr>\n",
       "      <th>2</th>\n",
       "      <td>Sudan</td>\n",
       "      <td>156.444543</td>\n",
       "    </tr>\n",
       "    <tr>\n",
       "      <th>3</th>\n",
       "      <td>Libya</td>\n",
       "      <td>148.853147</td>\n",
       "    </tr>\n",
       "    <tr>\n",
       "      <th>4</th>\n",
       "      <td>South Africa</td>\n",
       "      <td>112.718524</td>\n",
       "    </tr>\n",
       "  </tbody>\n",
       "</table>\n",
       "</div>"
      ],
      "text/plain": [
       "           country  total_area\n",
       "0          Algeria  213.602772\n",
       "1  Dem. Rep. Congo  189.515232\n",
       "2            Sudan  156.444543\n",
       "3            Libya  148.853147\n",
       "4     South Africa  112.718524"
      ]
     },
     "execution_count": 91,
     "metadata": {},
     "output_type": "execute_result"
    }
   ],
   "source": [
    "sql = \"\"\"\n",
    "SELECT name AS country, ST_Area(geom) AS total_area\n",
    "FROM world\n",
    "WHERE continent='Africa'\n",
    "ORDER BY total_area DESC\n",
    "LIMIT 5\n",
    "\"\"\"\n",
    "query(conn, sql)"
   ]
  },
  {
   "attachments": {},
   "cell_type": "markdown",
   "id": "46600f6d",
   "metadata": {},
   "source": [
    "Now there is a small catch with area calculations, which is alluded to by the low numbers returned (these reflect the geometry type and selected SRID). \n",
    "\n",
    "In order to get the size in square meters ($m^2$), we need use the **geography** type which treats polygons not as objects on a flat plane, but on a sphere, which makes them suitable for geodetic data like these world maps here. We can convert the geometries to the the GEOGRAPHY type by using `::geography` as a cast operator:"
   ]
  },
  {
   "cell_type": "code",
   "execution_count": 92,
   "id": "8dd12856",
   "metadata": {},
   "outputs": [
    {
     "data": {
      "text/html": [
       "<div>\n",
       "<style scoped>\n",
       "    .dataframe tbody tr th:only-of-type {\n",
       "        vertical-align: middle;\n",
       "    }\n",
       "\n",
       "    .dataframe tbody tr th {\n",
       "        vertical-align: top;\n",
       "    }\n",
       "\n",
       "    .dataframe thead th {\n",
       "        text-align: right;\n",
       "    }\n",
       "</style>\n",
       "<table border=\"1\" class=\"dataframe\">\n",
       "  <thead>\n",
       "    <tr style=\"text-align: right;\">\n",
       "      <th></th>\n",
       "      <th>country</th>\n",
       "      <th>total_area_m2</th>\n",
       "    </tr>\n",
       "  </thead>\n",
       "  <tbody>\n",
       "    <tr>\n",
       "      <th>0</th>\n",
       "      <td>Dem. Rep. Congo</td>\n",
       "      <td>2.323492e+12</td>\n",
       "    </tr>\n",
       "    <tr>\n",
       "      <th>1</th>\n",
       "      <td>Algeria</td>\n",
       "      <td>2.315917e+12</td>\n",
       "    </tr>\n",
       "    <tr>\n",
       "      <th>2</th>\n",
       "      <td>Sudan</td>\n",
       "      <td>1.850886e+12</td>\n",
       "    </tr>\n",
       "    <tr>\n",
       "      <th>3</th>\n",
       "      <td>Libya</td>\n",
       "      <td>1.633721e+12</td>\n",
       "    </tr>\n",
       "    <tr>\n",
       "      <th>4</th>\n",
       "      <td>Chad</td>\n",
       "      <td>1.271695e+12</td>\n",
       "    </tr>\n",
       "  </tbody>\n",
       "</table>\n",
       "</div>"
      ],
      "text/plain": [
       "           country  total_area_m2\n",
       "0  Dem. Rep. Congo   2.323492e+12\n",
       "1          Algeria   2.315917e+12\n",
       "2            Sudan   1.850886e+12\n",
       "3            Libya   1.633721e+12\n",
       "4             Chad   1.271695e+12"
      ]
     },
     "execution_count": 92,
     "metadata": {},
     "output_type": "execute_result"
    }
   ],
   "source": [
    "sql = \"\"\"\n",
    "SELECT name AS country, ST_Area(geom::geography) AS total_area_m2\n",
    "FROM world\n",
    "WHERE continent='Africa'\n",
    "ORDER BY total_area_m2 DESC\n",
    "LIMIT 5\n",
    "\"\"\"\n",
    "query(conn, sql)"
   ]
  },
  {
   "attachments": {},
   "cell_type": "markdown",
   "id": "cb459f2b",
   "metadata": {},
   "source": [
    "Final minor addition if scientific notation isn't ideal - we can express this as a complete integer using a basic Pandas transformation."
   ]
  },
  {
   "cell_type": "code",
   "execution_count": 93,
   "id": "6a40135e",
   "metadata": {},
   "outputs": [
    {
     "data": {
      "text/html": [
       "<div>\n",
       "<style scoped>\n",
       "    .dataframe tbody tr th:only-of-type {\n",
       "        vertical-align: middle;\n",
       "    }\n",
       "\n",
       "    .dataframe tbody tr th {\n",
       "        vertical-align: top;\n",
       "    }\n",
       "\n",
       "    .dataframe thead th {\n",
       "        text-align: right;\n",
       "    }\n",
       "</style>\n",
       "<table border=\"1\" class=\"dataframe\">\n",
       "  <thead>\n",
       "    <tr style=\"text-align: right;\">\n",
       "      <th></th>\n",
       "      <th>country</th>\n",
       "      <th>total_area_m2</th>\n",
       "    </tr>\n",
       "  </thead>\n",
       "  <tbody>\n",
       "    <tr>\n",
       "      <th>0</th>\n",
       "      <td>Dem. Rep. Congo</td>\n",
       "      <td>2323492477513</td>\n",
       "    </tr>\n",
       "    <tr>\n",
       "      <th>1</th>\n",
       "      <td>Algeria</td>\n",
       "      <td>2315916657885</td>\n",
       "    </tr>\n",
       "    <tr>\n",
       "      <th>2</th>\n",
       "      <td>Sudan</td>\n",
       "      <td>1850886093214</td>\n",
       "    </tr>\n",
       "    <tr>\n",
       "      <th>3</th>\n",
       "      <td>Libya</td>\n",
       "      <td>1633720717372</td>\n",
       "    </tr>\n",
       "    <tr>\n",
       "      <th>4</th>\n",
       "      <td>Chad</td>\n",
       "      <td>1271694598203</td>\n",
       "    </tr>\n",
       "  </tbody>\n",
       "</table>\n",
       "</div>"
      ],
      "text/plain": [
       "           country  total_area_m2\n",
       "0  Dem. Rep. Congo  2323492477513\n",
       "1          Algeria  2315916657885\n",
       "2            Sudan  1850886093214\n",
       "3            Libya  1633720717372\n",
       "4             Chad  1271694598203"
      ]
     },
     "execution_count": 93,
     "metadata": {},
     "output_type": "execute_result"
    }
   ],
   "source": [
    "results = query(conn, sql)\n",
    "results['total_area_m2'] = results['total_area_m2'].astype('int64')\n",
    "results"
   ]
  },
  {
   "attachments": {},
   "cell_type": "markdown",
   "id": "2be814a1",
   "metadata": {},
   "source": [
    "### 3.2 Points"
   ]
  },
  {
   "attachments": {},
   "cell_type": "markdown",
   "id": "4f9ae82c",
   "metadata": {},
   "source": [
    "Let's consider another spatial function - `ST_Contains()`. This can be used to determine if a given point lies within a region.\n",
    "\n",
    "According to Google, the coordinates of Paris are `48.8566° N, 2.3522° E`. If we store this as a geometric point (using `ST_Point` - note the longitude comes first!) and then convert this into the SRID using `ST_SetSRID()` function, we can then see if any of the polygons in our countries dataframe contain this point. As expected, this should yield France:"
   ]
  },
  {
   "cell_type": "code",
   "execution_count": 94,
   "id": "0043d421",
   "metadata": {},
   "outputs": [
    {
     "data": {
      "text/html": [
       "<div>\n",
       "<style scoped>\n",
       "    .dataframe tbody tr th:only-of-type {\n",
       "        vertical-align: middle;\n",
       "    }\n",
       "\n",
       "    .dataframe tbody tr th {\n",
       "        vertical-align: top;\n",
       "    }\n",
       "\n",
       "    .dataframe thead th {\n",
       "        text-align: right;\n",
       "    }\n",
       "</style>\n",
       "<table border=\"1\" class=\"dataframe\">\n",
       "  <thead>\n",
       "    <tr style=\"text-align: right;\">\n",
       "      <th></th>\n",
       "      <th>name</th>\n",
       "    </tr>\n",
       "  </thead>\n",
       "  <tbody>\n",
       "    <tr>\n",
       "      <th>0</th>\n",
       "      <td>France</td>\n",
       "    </tr>\n",
       "  </tbody>\n",
       "</table>\n",
       "</div>"
      ],
      "text/plain": [
       "     name\n",
       "0  France"
      ]
     },
     "execution_count": 94,
     "metadata": {},
     "output_type": "execute_result"
    }
   ],
   "source": [
    "sql = \"\"\"\n",
    "SELECT name\n",
    "FROM world\n",
    "WHERE ST_Contains(geom, ST_SetSRID(ST_Point(2.3, 48.86), 4326))\n",
    "\"\"\"\n",
    "query(conn, sql)"
   ]
  },
  {
   "attachments": {},
   "cell_type": "markdown",
   "id": "50fe6f5d",
   "metadata": {},
   "source": [
    "**a) Find all cities within Australia**\n",
    "\n",
    "Hint: this involves using the ST functions as the *join* condition. As an extension, see if it can be achieved with multiple different spatial functions (see the [PostGIS docs for more functions](https://postgis.net/docs/reference.html))."
   ]
  },
  {
   "cell_type": "code",
   "execution_count": 95,
   "id": "8748401e",
   "metadata": {},
   "outputs": [
    {
     "data": {
      "text/html": [
       "<div>\n",
       "<style scoped>\n",
       "    .dataframe tbody tr th:only-of-type {\n",
       "        vertical-align: middle;\n",
       "    }\n",
       "\n",
       "    .dataframe tbody tr th {\n",
       "        vertical-align: top;\n",
       "    }\n",
       "\n",
       "    .dataframe thead th {\n",
       "        text-align: right;\n",
       "    }\n",
       "</style>\n",
       "<table border=\"1\" class=\"dataframe\">\n",
       "  <thead>\n",
       "    <tr style=\"text-align: right;\">\n",
       "      <th></th>\n",
       "      <th>country</th>\n",
       "      <th>city</th>\n",
       "      <th>city area</th>\n",
       "    </tr>\n",
       "  </thead>\n",
       "  <tbody>\n",
       "    <tr>\n",
       "      <th>0</th>\n",
       "      <td>Australia</td>\n",
       "      <td>Sydney</td>\n",
       "      <td>0.0</td>\n",
       "    </tr>\n",
       "    <tr>\n",
       "      <th>1</th>\n",
       "      <td>Australia</td>\n",
       "      <td>Melbourne</td>\n",
       "      <td>0.0</td>\n",
       "    </tr>\n",
       "    <tr>\n",
       "      <th>2</th>\n",
       "      <td>Australia</td>\n",
       "      <td>Brisbane</td>\n",
       "      <td>0.0</td>\n",
       "    </tr>\n",
       "    <tr>\n",
       "      <th>3</th>\n",
       "      <td>Australia</td>\n",
       "      <td>Perth</td>\n",
       "      <td>0.0</td>\n",
       "    </tr>\n",
       "    <tr>\n",
       "      <th>4</th>\n",
       "      <td>Australia</td>\n",
       "      <td>Adelaide</td>\n",
       "      <td>0.0</td>\n",
       "    </tr>\n",
       "    <tr>\n",
       "      <th>5</th>\n",
       "      <td>Australia</td>\n",
       "      <td>Canberra</td>\n",
       "      <td>0.0</td>\n",
       "    </tr>\n",
       "    <tr>\n",
       "      <th>6</th>\n",
       "      <td>Australia</td>\n",
       "      <td>Hobart</td>\n",
       "      <td>0.0</td>\n",
       "    </tr>\n",
       "    <tr>\n",
       "      <th>7</th>\n",
       "      <td>Australia</td>\n",
       "      <td>Darwin</td>\n",
       "      <td>0.0</td>\n",
       "    </tr>\n",
       "  </tbody>\n",
       "</table>\n",
       "</div>"
      ],
      "text/plain": [
       "     country       city  city area\n",
       "0  Australia     Sydney        0.0\n",
       "1  Australia  Melbourne        0.0\n",
       "2  Australia   Brisbane        0.0\n",
       "3  Australia      Perth        0.0\n",
       "4  Australia   Adelaide        0.0\n",
       "5  Australia   Canberra        0.0\n",
       "6  Australia     Hobart        0.0\n",
       "7  Australia     Darwin        0.0"
      ]
     },
     "execution_count": 95,
     "metadata": {},
     "output_type": "execute_result"
    }
   ],
   "source": [
    "## TO DO\n",
    "sql = \"\"\"\n",
    "SELECT \n",
    "\tW.name AS \"country\", \n",
    " \tC.city AS \"city\",\n",
    "\tST_Area(C.geom) AS \"city area\"\n",
    "FROM World W, Cities C\n",
    "WHERE W.name = 'Australia'\n",
    "\tAND ST_Contains(W.geom, C.geom);\n",
    "\"\"\"\n",
    "query(conn, sql)"
   ]
  },
  {
   "attachments": {},
   "cell_type": "markdown",
   "id": "1d9fea74",
   "metadata": {},
   "source": [
    "**b) List all countries that have more than two primary capital cities.**\n",
    "\n",
    "Which appears to have the most? Is this accurate? Why or why not?"
   ]
  },
  {
   "cell_type": "code",
   "execution_count": 96,
   "id": "ef154819",
   "metadata": {},
   "outputs": [
    {
     "data": {
      "text/html": [
       "<div>\n",
       "<style scoped>\n",
       "    .dataframe tbody tr th:only-of-type {\n",
       "        vertical-align: middle;\n",
       "    }\n",
       "\n",
       "    .dataframe tbody tr th {\n",
       "        vertical-align: top;\n",
       "    }\n",
       "\n",
       "    .dataframe thead th {\n",
       "        text-align: right;\n",
       "    }\n",
       "</style>\n",
       "<table border=\"1\" class=\"dataframe\">\n",
       "  <thead>\n",
       "    <tr style=\"text-align: right;\">\n",
       "      <th></th>\n",
       "      <th>country</th>\n",
       "      <th>num of capitals</th>\n",
       "    </tr>\n",
       "  </thead>\n",
       "  <tbody>\n",
       "    <tr>\n",
       "      <th>0</th>\n",
       "      <td>France</td>\n",
       "      <td>4</td>\n",
       "    </tr>\n",
       "    <tr>\n",
       "      <th>1</th>\n",
       "      <td>Italy</td>\n",
       "      <td>3</td>\n",
       "    </tr>\n",
       "    <tr>\n",
       "      <th>2</th>\n",
       "      <td>South Africa</td>\n",
       "      <td>3</td>\n",
       "    </tr>\n",
       "  </tbody>\n",
       "</table>\n",
       "</div>"
      ],
      "text/plain": [
       "        country  num of capitals\n",
       "0        France                4\n",
       "1         Italy                3\n",
       "2  South Africa                3"
      ]
     },
     "execution_count": 96,
     "metadata": {},
     "output_type": "execute_result"
    }
   ],
   "source": [
    "## TO DO\n",
    "sql = \"\"\"\n",
    "SELECT \n",
    "    W.name AS \"country\", COUNT(C.city) AS \"num of capitals\"\n",
    "FROM World W, Cities C\n",
    "WHERE ST_contains(W.geom, C.geom)\n",
    "    AND C.capital = 'primary'\n",
    "GROUP BY country\n",
    "    HAVING COUNT(C.city) > 2\n",
    "ORDER BY \"num of capitals\" DESC, country;\n",
    "\"\"\"\n",
    "query(conn, sql)"
   ]
  },
  {
   "attachments": {},
   "cell_type": "markdown",
   "id": "cf84346c",
   "metadata": {},
   "source": [
    "### 3.3 Intersections"
   ]
  },
  {
   "attachments": {},
   "cell_type": "markdown",
   "id": "e43c1c73",
   "metadata": {},
   "source": [
    "Returning to our example of Kosovo earlier, let's see if we can determine it's neighbouring countries.\n",
    "\n",
    "We can leverage a **self-join** with the 'world' table to determine which countries share a boundary with each other. Normally, we would expect to use the `ST_Touch()` function for this, but in our dataset, the boundaries are in low-resolution, so some border shapes actually intersect. Hence the more generic `ST_Intersects()` spatial relationship function should suffice."
   ]
  },
  {
   "cell_type": "code",
   "execution_count": 97,
   "id": "12f81b99",
   "metadata": {},
   "outputs": [
    {
     "data": {
      "text/html": [
       "<div>\n",
       "<style scoped>\n",
       "    .dataframe tbody tr th:only-of-type {\n",
       "        vertical-align: middle;\n",
       "    }\n",
       "\n",
       "    .dataframe tbody tr th {\n",
       "        vertical-align: top;\n",
       "    }\n",
       "\n",
       "    .dataframe thead th {\n",
       "        text-align: right;\n",
       "    }\n",
       "</style>\n",
       "<table border=\"1\" class=\"dataframe\">\n",
       "  <thead>\n",
       "    <tr style=\"text-align: right;\">\n",
       "      <th></th>\n",
       "      <th>name</th>\n",
       "    </tr>\n",
       "  </thead>\n",
       "  <tbody>\n",
       "    <tr>\n",
       "      <th>0</th>\n",
       "      <td>Albania</td>\n",
       "    </tr>\n",
       "    <tr>\n",
       "      <th>1</th>\n",
       "      <td>Macedonia</td>\n",
       "    </tr>\n",
       "    <tr>\n",
       "      <th>2</th>\n",
       "      <td>Montenegro</td>\n",
       "    </tr>\n",
       "    <tr>\n",
       "      <th>3</th>\n",
       "      <td>Serbia</td>\n",
       "    </tr>\n",
       "  </tbody>\n",
       "</table>\n",
       "</div>"
      ],
      "text/plain": [
       "         name\n",
       "0     Albania\n",
       "1   Macedonia\n",
       "2  Montenegro\n",
       "3      Serbia"
      ]
     },
     "execution_count": 97,
     "metadata": {},
     "output_type": "execute_result"
    }
   ],
   "source": [
    "sql = \"\"\"\n",
    "SELECT B.name\n",
    "FROM world A JOIN world B ON ST_Intersects(A.geom, B.geom)\n",
    "WHERE A.name = 'Kosovo' AND B.name != A.name\n",
    "\"\"\"\n",
    "query(conn, sql)"
   ]
  },
  {
   "attachments": {},
   "cell_type": "markdown",
   "id": "8d8f42e9",
   "metadata": {},
   "source": [
    "**a) Find all countries that neighbour Germany, ordered by the furthest north neighbour to the nearest south.**\n",
    "\n",
    "Ordering successfully will require the y-value of the centre point of a given polygon - try finding [spatial functions](https://postgis.net/docs/reference.html) to achieve this!"
   ]
  },
  {
   "cell_type": "code",
   "execution_count": 98,
   "id": "c289e691",
   "metadata": {},
   "outputs": [
    {
     "data": {
      "text/html": [
       "<div>\n",
       "<style scoped>\n",
       "    .dataframe tbody tr th:only-of-type {\n",
       "        vertical-align: middle;\n",
       "    }\n",
       "\n",
       "    .dataframe tbody tr th {\n",
       "        vertical-align: top;\n",
       "    }\n",
       "\n",
       "    .dataframe thead th {\n",
       "        text-align: right;\n",
       "    }\n",
       "</style>\n",
       "<table border=\"1\" class=\"dataframe\">\n",
       "  <thead>\n",
       "    <tr style=\"text-align: right;\">\n",
       "      <th></th>\n",
       "      <th>Neighbours of Germany</th>\n",
       "    </tr>\n",
       "  </thead>\n",
       "  <tbody>\n",
       "    <tr>\n",
       "      <th>0</th>\n",
       "      <td>Denmark</td>\n",
       "    </tr>\n",
       "    <tr>\n",
       "      <th>1</th>\n",
       "      <td>Netherlands</td>\n",
       "    </tr>\n",
       "    <tr>\n",
       "      <th>2</th>\n",
       "      <td>Poland</td>\n",
       "    </tr>\n",
       "    <tr>\n",
       "      <th>3</th>\n",
       "      <td>Belgium</td>\n",
       "    </tr>\n",
       "    <tr>\n",
       "      <th>4</th>\n",
       "      <td>Czech Rep.</td>\n",
       "    </tr>\n",
       "    <tr>\n",
       "      <th>5</th>\n",
       "      <td>Luxembourg</td>\n",
       "    </tr>\n",
       "    <tr>\n",
       "      <th>6</th>\n",
       "      <td>Austria</td>\n",
       "    </tr>\n",
       "    <tr>\n",
       "      <th>7</th>\n",
       "      <td>Switzerland</td>\n",
       "    </tr>\n",
       "    <tr>\n",
       "      <th>8</th>\n",
       "      <td>France</td>\n",
       "    </tr>\n",
       "  </tbody>\n",
       "</table>\n",
       "</div>"
      ],
      "text/plain": [
       "  Neighbours of Germany\n",
       "0               Denmark\n",
       "1           Netherlands\n",
       "2                Poland\n",
       "3               Belgium\n",
       "4            Czech Rep.\n",
       "5            Luxembourg\n",
       "6               Austria\n",
       "7           Switzerland\n",
       "8                France"
      ]
     },
     "execution_count": 98,
     "metadata": {},
     "output_type": "execute_result"
    }
   ],
   "source": [
    "## TO DO\n",
    "sql = \"\"\"\n",
    "SELECT B.name AS \"Neighbours of Germany\"\n",
    "FROM WOrld A JOIN World B \n",
    "    ON (ST_intersects(A.geom, B.geom) AND A.name != B.name)\n",
    "WHERE A.name = 'Germany'\n",
    "ORDER BY \n",
    "    ST_Y(ST_Centroid(A.geom)) - ST_Y(ST_Centroid(B.geom));\n",
    "\"\"\"\n",
    "query(conn, sql)"
   ]
  },
  {
   "attachments": {},
   "cell_type": "markdown",
   "id": "91257cda",
   "metadata": {},
   "source": [
    "**b) Find the most common city name in the dataset. Afterwards, determine which countries these cities exist in.**\n",
    "\n",
    "There are 4 'San Luis' cities - 2 in Cuba, 1 in Argentina, and 1 in Guatemala. Are any city names more common, and what countries are they found in?\n",
    "\n",
    "Spoiler: you can confirm your answer using [this Wikipedia page](https://en.wikipedia.org/wiki/List_of_cities_and_towns_in_Colombia)."
   ]
  },
  {
   "cell_type": "code",
   "execution_count": 99,
   "id": "ab69c254",
   "metadata": {},
   "outputs": [
    {
     "name": "stdout",
     "output_type": "stream",
     "text": [
      "  most common city\n",
      "0         La Union\n"
     ]
    }
   ],
   "source": [
    "## TO DO - QUERY 1\n",
    "sql = \"\"\"\n",
    "SELECT city AS \"most common city\"\n",
    "FROM Cities\n",
    "    GROUP BY city\n",
    "    ORDER BY COUNT(city) DESC LIMIT 1;\n",
    "\"\"\"\n",
    "most_common_city = query(conn, sql)\n",
    "print(most_common_city)"
   ]
  },
  {
   "cell_type": "code",
   "execution_count": 100,
   "id": "14a00804",
   "metadata": {},
   "outputs": [
    {
     "name": "stdout",
     "output_type": "stream",
     "text": [
      "Error encountered: \n",
      "(psycopg2.ProgrammingError) can't execute an empty query\n",
      "[SQL: \n",
      "\n",
      "]\n",
      "(Background on this error at: https://sqlalche.me/e/14/f405)\n"
     ]
    },
    {
     "data": {
      "text/html": [
       "<div>\n",
       "<style scoped>\n",
       "    .dataframe tbody tr th:only-of-type {\n",
       "        vertical-align: middle;\n",
       "    }\n",
       "\n",
       "    .dataframe tbody tr th {\n",
       "        vertical-align: top;\n",
       "    }\n",
       "\n",
       "    .dataframe thead th {\n",
       "        text-align: right;\n",
       "    }\n",
       "</style>\n",
       "<table border=\"1\" class=\"dataframe\">\n",
       "  <thead>\n",
       "    <tr style=\"text-align: right;\">\n",
       "      <th></th>\n",
       "    </tr>\n",
       "  </thead>\n",
       "  <tbody>\n",
       "  </tbody>\n",
       "</table>\n",
       "</div>"
      ],
      "text/plain": [
       "Empty DataFrame\n",
       "Columns: []\n",
       "Index: []"
      ]
     },
     "execution_count": 100,
     "metadata": {},
     "output_type": "execute_result"
    }
   ],
   "source": [
    "## TO DO - QUERY 2\n",
    "sql = \"\"\"\n",
    "\n",
    "\"\"\"\n",
    "query(conn, sql)"
   ]
  },
  {
   "attachments": {},
   "cell_type": "markdown",
   "id": "e14f96ea",
   "metadata": {},
   "source": [
    "## 4. Maps"
   ]
  },
  {
   "attachments": {},
   "cell_type": "markdown",
   "id": "4ed477e4",
   "metadata": {},
   "source": [
    "Another beautiful application of spatial data involves plotting the results. No tasks here - just a brief demonstration. The below code filters the original version of the **Countries** dataframe to only countries within Europe and Asia, and then plots them using `matplotlib`."
   ]
  },
  {
   "cell_type": "code",
   "execution_count": 101,
   "id": "7b6e0e95",
   "metadata": {},
   "outputs": [
    {
     "data": {
      "text/plain": [
       "<AxesSubplot:>"
      ]
     },
     "execution_count": 101,
     "metadata": {},
     "output_type": "execute_result"
    },
    {
     "data": {
      "image/png": "[encoded data removed]",
      "text/plain": [
       "<Figure size 1000x1000 with 1 Axes>"
      ]
     },
     "metadata": {},
     "output_type": "display_data"
    }
   ],
   "source": [
    "eurasia = countriesog[(countriesog['continent']=='Europe') | (countriesog['continent']=='Asia')]\n",
    "eurasia.plot(figsize=(10, 10))"
   ]
  },
  {
   "attachments": {},
   "cell_type": "markdown",
   "id": "3ff7e547",
   "metadata": {},
   "source": [
    "We can achieve the same result with a combination of SQL and GeoPandas."
   ]
  },
  {
   "cell_type": "code",
   "execution_count": 102,
   "id": "dfeaff04",
   "metadata": {},
   "outputs": [
    {
     "data": {
      "text/plain": [
       "<AxesSubplot:>"
      ]
     },
     "execution_count": 102,
     "metadata": {},
     "output_type": "execute_result"
    },
    {
     "data": {
      "image/png": "[encoded data removed]",
      "text/plain": [
       "<Figure size 1000x1000 with 1 Axes>"
      ]
     },
     "metadata": {},
     "output_type": "display_data"
    }
   ],
   "source": [
    "eurasia = gpd.read_postgis(\"SELECT name, geom FROM world WHERE continent='Europe' or continent='Asia'\", conn)\n",
    "eurasia.plot(figsize=(10, 10))"
   ]
  },
  {
   "attachments": {},
   "cell_type": "markdown",
   "id": "0980f7b1",
   "metadata": {},
   "source": [
    "For an even more aesthetic result - we can add a colour palette."
   ]
  },
  {
   "cell_type": "code",
   "execution_count": 103,
   "id": "8c288864",
   "metadata": {},
   "outputs": [
    {
     "data": {
      "text/plain": [
       "<AxesSubplot:>"
      ]
     },
     "execution_count": 103,
     "metadata": {},
     "output_type": "execute_result"
    },
    {
     "data": {
      "image/png": "[encoded data removed]",
      "text/plain": [
       "<Figure size 1000x1000 with 1 Axes>"
      ]
     },
     "metadata": {},
     "output_type": "display_data"
    }
   ],
   "source": [
    "eurasia.plot(cmap='Set2', figsize=(10, 10))"
   ]
  },
  {
   "attachments": {},
   "cell_type": "markdown",
   "id": "3242adfd",
   "metadata": {},
   "source": [
    "And when complete, we can export geospatial subsets as new shapefiles. The following code will create a new 'Eurasia' shapefile."
   ]
  },
  {
   "cell_type": "code",
   "execution_count": 104,
   "id": "888af410",
   "metadata": {},
   "outputs": [],
   "source": [
    "eurasia.to_file(\"world/eurasia.shp\")"
   ]
  },
  {
   "attachments": {},
   "cell_type": "markdown",
   "id": "62330ef3",
   "metadata": {},
   "source": [
    "### 4.2 API"
   ]
  },
  {
   "attachments": {},
   "cell_type": "markdown",
   "id": "e9d8d72e",
   "metadata": {},
   "source": [
    "Week 7's tutorial investigated APIs. One example included using the **OpenStreetMap API** to return details of locations. One of the functionalities offered by this platform that we didn't fully explore was the ability to extract the corresponding geospatial polygons. Let's first return to the code block we used to access the API:"
   ]
  },
  {
   "cell_type": "code",
   "execution_count": 105,
   "id": "f949d65d",
   "metadata": {},
   "outputs": [],
   "source": [
    "import time as t\n",
    "import requests\n",
    "def address_details(params, wait=5):\n",
    "    base_url = 'https://nominatim.openstreetmap.org/search'\n",
    "    t.sleep(wait)  # 5 second wait to avoid overloading (too many requests could lock out the whole uni's IP range!)\n",
    "    response = requests.get(base_url, params = params)\n",
    "    return response.json()"
   ]
  },
  {
   "attachments": {},
   "cell_type": "markdown",
   "id": "4fc6950b",
   "metadata": {},
   "source": [
    "Let's again search for the School of Computer Science, found at 1 Cleveland Street, Darlington. An additional parameter we'll pass is setting `polygon_geojson` to 1, which will return us the coordinates of it's boundaries, as seen below:"
   ]
  },
  {
   "cell_type": "code",
   "execution_count": 106,
   "id": "ebf90113",
   "metadata": {},
   "outputs": [
    {
     "name": "stdout",
     "output_type": "stream",
     "text": [
      "[[[151.1933178, -33.8879881], [151.1934455, -33.8880747], [151.1935488, -33.8881437], [151.1936056, -33.8881814], [151.1936514, -33.8882051], [151.1937156, -33.8882397], [151.1937423, -33.8882532], [151.1937776, -33.888271], [151.1938457, -33.8882986], [151.1939171, -33.8883234], [151.1939953, -33.8883488], [151.1940033, -33.8883149], [151.1940336, -33.8883204], [151.1940623, -33.8883243], [151.1940427, -33.8883711], [151.194082, -33.8883822], [151.1941024, -33.8883311], [151.1941212, -33.8883323], [151.1941062, -33.8883691], [151.1942061, -33.8883723], [151.1942922, -33.8883616], [151.1943848, -33.8883407], [151.1944692, -33.8883037], [151.19454, -33.8882596], [151.1946071, -33.8882071], [151.1945918, -33.8882046], [151.1946013, -33.8881645], [151.1941167, -33.8880987], [151.1940942, -33.8882253], [151.1940576, -33.888222], [151.1940221, -33.8882187], [151.1940421, -33.8880895], [151.1933178, -33.8879881]]]\n"
     ]
    }
   ],
   "source": [
    "parameters = {'q': '1 Cleveland Street, Darlington, Australia', 'limit':'1', 'format': 'json', 'polygon_geojson': '1'}\n",
    "results = address_details(parameters)\n",
    "print(results[0]['geojson']['coordinates'])"
   ]
  },
  {
   "attachments": {},
   "cell_type": "markdown",
   "id": "f6967bee",
   "metadata": {},
   "source": [
    "A couple dozen coordinates printed out isn't particularly inspiring. Seeing it plotted though, is quite beautiful. Compare the output below to the shape of the building on Google Maps - it's quite a good match!"
   ]
  },
  {
   "cell_type": "code",
   "execution_count": 107,
   "id": "eccea186",
   "metadata": {},
   "outputs": [
    {
     "data": {
      "image/png": "[encoded data removed]",
      "text/plain": [
       "<Figure size 1000x500 with 1 Axes>"
      ]
     },
     "metadata": {},
     "output_type": "display_data"
    }
   ],
   "source": [
    "fig, ax = plt.subplots(figsize=(10, 5))  # setting up the plot\n",
    "ax.ticklabel_format(useOffset=False)  # avoiding scientific notation on the axes\n",
    "p = Polygon(results[0]['geojson']['coordinates'][0])  # taking the coordinates returned and storing them as a polygon\n",
    "x,y = p.exterior.xy  # extracting the x and y coordinates from the exterior of that polygon\n",
    "ax.plot(x,y)  # plotting them on the graph\n",
    "plt.title(\"School of Computer Science\", fontdict={'fontsize': 16}, pad=10)  # setting a title\n",
    "plt.xlabel(\"Longitude\", fontdict={'fontsize': 14}, labelpad=10)  # setting an x-axis\n",
    "plt.ylabel(\"Latitude\", fontdict={'fontsize': 14}, labelpad=10)  # setting a y-axis\n",
    "plt.show()  # displaying the plot"
   ]
  },
  {
   "attachments": {},
   "cell_type": "markdown",
   "id": "0dec0892",
   "metadata": {},
   "source": [
    "#### Tutorial Complete!"
   ]
  },
  {
   "attachments": {},
   "cell_type": "markdown",
   "id": "d7e0d04d",
   "metadata": {},
   "source": [
    "Hopefully this was a useful introduction to geospatial data, which will be crucial to the group assignment. Remember to close your database connections, and enjoy your week!"
   ]
  },
  {
   "cell_type": "code",
   "execution_count": 108,
   "id": "dec5f1b9",
   "metadata": {},
   "outputs": [],
   "source": [
    "conn.close()\n",
    "db.dispose()"
   ]
  }
 ],
 "metadata": {
  "kernelspec": {
   "display_name": "Python 3",
   "language": "python",
   "name": "python3"
  },
  "language_info": {
   "codemirror_mode": {
    "name": "ipython",
    "version": 3
   },
   "file_extension": ".py",
   "mimetype": "text/x-python",
   "name": "python",
   "nbconvert_exporter": "python",
   "pygments_lexer": "ipython3",
   "version": "3.9.13"
  }
 },
 "nbformat": 4,
 "nbformat_minor": 5
}
