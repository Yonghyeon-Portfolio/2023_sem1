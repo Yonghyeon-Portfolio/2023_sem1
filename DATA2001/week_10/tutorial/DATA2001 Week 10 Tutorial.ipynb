{
 "cells": [
  {
   "cell_type": "code",
   "execution_count": 1,
   "id": "f9e0fde9",
   "metadata": {},
   "outputs": [
    {
     "data": {
      "text/html": [
       "\n",
       "    <style> body {font-family: \"Roboto Condensed Light\", \"Roboto Condensed\";} h2 {padding: 10px 12px; background-color: #E64626; position: static; color: #ffffff; font-size: 40px;} .text_cell_render p { font-size: 15px; } .text_cell_render h1 { font-size: 30px; } h1 {padding: 10px 12px; background-color: #E64626; color: #ffffff; font-size: 40px;} .text_cell_render h3 { padding: 10px 12px; background-color: #0148A4; position: static; color: #ffffff; font-size: 20px;} h4:before{ \n",
       "    content: \"@\"; font-family:\"Wingdings\"; font-style:regular; margin-right: 4px;} .text_cell_render h4 {padding: 8px; font-family: \"Roboto Condensed Light\"; position: static; font-style: italic; background-color: #FFB800; color: #ffffff; font-size: 18px; text-align: center; border-radius: 5px;}input[type=submit] {background-color: #E64626; border: solid; border-color: #734036; color: white; padding: 8px 16px; text-decoration: none; margin: 4px 2px; cursor: pointer; border-radius: 20px;}</style>\n"
      ],
      "text/plain": [
       "<IPython.core.display.HTML object>"
      ]
     },
     "execution_count": 1,
     "metadata": {},
     "output_type": "execute_result"
    }
   ],
   "source": [
    "# DATA2001 Week 10 Tutorial\n",
    "# Material last updated: 2 May 2023\n",
    "# Note: this notebook was designed with the Roboto Condensed font, which can be installed here: https://www.1001fonts.com/roboto-condensed-font.html\n",
    "\n",
    "from IPython.display import HTML\n",
    "HTML('''\n",
    "    <style> body {font-family: \"Roboto Condensed Light\", \"Roboto Condensed\";} h2 {padding: 10px 12px; background-color: #E64626; position: static; color: #ffffff; font-size: 40px;} .text_cell_render p { font-size: 15px; } .text_cell_render h1 { font-size: 30px; } h1 {padding: 10px 12px; background-color: #E64626; color: #ffffff; font-size: 40px;} .text_cell_render h3 { padding: 10px 12px; background-color: #0148A4; position: static; color: #ffffff; font-size: 20px;} h4:before{ \n",
    "    content: \"@\"; font-family:\"Wingdings\"; font-style:regular; margin-right: 4px;} .text_cell_render h4 {padding: 8px; font-family: \"Roboto Condensed Light\"; position: static; font-style: italic; background-color: #FFB800; color: #ffffff; font-size: 18px; text-align: center; border-radius: 5px;}input[type=submit] {background-color: #E64626; border: solid; border-color: #734036; color: white; padding: 8px 16px; text-decoration: none; margin: 4px 2px; cursor: pointer; border-radius: 20px;}</style>\n",
    "''')"
   ]
  },
  {
   "cell_type": "markdown",
   "id": "dca7364f",
   "metadata": {},
   "source": [
    "# Week 10 - Time Series Data"
   ]
  },
  {
   "cell_type": "markdown",
   "id": "b1aedba5",
   "metadata": {},
   "source": [
    "This week's tutorial focusses on **time series data** - a collection of observations obtained through repeated measurements over time. We'll be focussing on a relevant real-world dataset, loading into the database, before exploring how the same information can be represented and queries in two separate ways (point based vs sequence based representations)."
   ]
  },
  {
   "cell_type": "markdown",
   "id": "45a33d3b",
   "metadata": {},
   "source": [
    "## 1. Data Loading"
   ]
  },
  {
   "cell_type": "markdown",
   "id": "c9cb40a6",
   "metadata": {},
   "source": [
    "Our dataset for today contains financial trading information - the historical price range of Bitcoin in hourly windows. This has been downloaded from a [CryptoDataDownload](https://www.cryptodatadownload.com/data/gemini) website and is based on the Gemini exchange.\n",
    "\n",
    "A more in-depth dataset extending back to 2018 is available on Canvas as \"BitcoinPrices\" for those interested in further analysis, but we'll be leveraging the \"**BitcoinPricesSubset**\" spreadsheet, which only contains data from 2021 onwards, or from July of the earlier years. The code used to generate this subset from the more complete dataset is included as comments in the cell below:"
   ]
  },
  {
   "cell_type": "code",
   "execution_count": null,
   "id": "ac9e4c90",
   "metadata": {},
   "outputs": [],
   "source": [
    "import pandas as pd\n",
    "\n",
    "#btcfull = pd.read_csv('BitcoinPrices.csv')\n",
    "#btc = btcfull.copy()\n",
    "#btc['date'] = pd.to_datetime(btc['unix'], unit='ms')\n",
    "#btc = btc.loc[(btc['date'].dt.year >= 2021) | (btc['date'].dt.month == 7)]\n",
    "#btc.drop(columns=['date'], inplace=True)\n",
    "#btc.to_csv('BitcoinPricesSubset.csv', index=False)"
   ]
  },
  {
   "cell_type": "markdown",
   "id": "d387219d",
   "metadata": {},
   "source": [
    "### 1.1 Ingestion"
   ]
  },
  {
   "cell_type": "markdown",
   "id": "744445c1",
   "metadata": {},
   "source": [
    "As always, let's first load in the dataset using Pandas (noting this expects the CSV file to be in the same location as this notebook)."
   ]
  },
  {
   "cell_type": "code",
   "execution_count": null,
   "id": "8dea3356",
   "metadata": {},
   "outputs": [],
   "source": [
    "btc = pd.read_csv('BitcoinPricesSubset.csv')\n",
    "btc.head()"
   ]
  },
  {
   "cell_type": "markdown",
   "id": "7ce8981d",
   "metadata": {},
   "source": [
    "While one would certainly expect a 'date' column to indicate the time period each row concerns, the dataset does not contain an explicit datetime field. Rather, this information is stored in [Unix time](https://en.wikipedia.org/wiki/Unix_time), i.e. the number of seconds or milliseconds that have passed since the 1st of January 1970. All other fields are also numeric."
   ]
  },
  {
   "cell_type": "code",
   "execution_count": null,
   "id": "abe0c7c6",
   "metadata": {},
   "outputs": [],
   "source": [
    "btc.dtypes"
   ]
  },
  {
   "cell_type": "markdown",
   "id": "1f7a4e7a",
   "metadata": {},
   "source": [
    "Given Unix time is an internationally recognised format, Pandas has the ability to conver this to a datetime field using the `.to_datetime()` function. In this case, the unix information represents the number of milliseconds since 1970, so we'll specify that information in the 'unit' argument.\n",
    "\n",
    "While there, let's also round the *volume_usd* column to the nearest cent, and drop a couple less relevant columns. This leaves us with one row per hour, with details of the opening and closing price, highest and lowest price, and volume in $US for that time period."
   ]
  },
  {
   "cell_type": "code",
   "execution_count": null,
   "id": "63327f0b",
   "metadata": {},
   "outputs": [],
   "source": [
    "btc['date'] = pd.to_datetime(btc['unix'],unit='ms')\n",
    "btc['volume_usd'] = round(btc['volume_usd'], 2)\n",
    "btc.drop(columns=['unix', 'volume_btc'], inplace=True)\n",
    "btc.head()"
   ]
  },
  {
   "cell_type": "markdown",
   "id": "4625d205",
   "metadata": {},
   "source": [
    "### 1.2 Loading"
   ]
  },
  {
   "cell_type": "markdown",
   "id": "07472797",
   "metadata": {},
   "source": [
    "A few familiar functions... (remember to include your `Credentials.json` file again!)"
   ]
  },
  {
   "cell_type": "code",
   "execution_count": null,
   "id": "cab6ff8d",
   "metadata": {},
   "outputs": [],
   "source": [
    "from sqlalchemy import create_engine\n",
    "import psycopg2\n",
    "import psycopg2.extras\n",
    "import json\n",
    "import os\n",
    "\n",
    "credentials = \"Credentials.json\"\n",
    "\n",
    "def pgconnect(credential_filepath, db_schema=\"public\"):\n",
    "    with open(credential_filepath) as f:\n",
    "        db_conn_dict = json.load(f)\n",
    "        host       = db_conn_dict['host']\n",
    "        db_user    = db_conn_dict['user']\n",
    "        db_pw      = db_conn_dict['password']\n",
    "        default_db = db_conn_dict['user']\n",
    "        try:\n",
    "            db = create_engine('postgresql+psycopg2://'+db_user+':'+db_pw+'@'+host+'/'+default_db, echo=False)\n",
    "            conn = db.connect()\n",
    "            print('Connected successfully.')\n",
    "        except Exception as e:\n",
    "            print(\"Unable to connect to the database.\")\n",
    "            print(e)\n",
    "            db, conn = None, None\n",
    "        return db,conn\n",
    "\n",
    "def query(conn, sqlcmd, args=None, df=True):\n",
    "    result = pd.DataFrame() if df else None\n",
    "    try:\n",
    "        if df:\n",
    "            result = pd.read_sql_query(sqlcmd, conn, params=args)\n",
    "        else:\n",
    "            result = conn.execute(sqlcmd, args).fetchall()\n",
    "            result = result[0] if len(result) == 1 else result\n",
    "    except Exception as e:\n",
    "        print(\"Error encountered: \", e, sep='\\n')\n",
    "    return result\n",
    "\n",
    "db, conn = pgconnect(credentials)"
   ]
  },
  {
   "cell_type": "markdown",
   "id": "52fcf272",
   "metadata": {},
   "source": [
    "Let's store this information in a **Prices** schema, within which we'll call the table **Bitcoin**."
   ]
  },
  {
   "cell_type": "code",
   "execution_count": null,
   "id": "6a27ab0d",
   "metadata": {},
   "outputs": [],
   "source": [
    "conn.execute(\"\"\"\n",
    "create schema if not exists prices;\n",
    "set search_path to prices;\n",
    "drop table if exists bitcoin;\n",
    "\"\"\")"
   ]
  },
  {
   "cell_type": "markdown",
   "id": "bffecdb2",
   "metadata": {},
   "source": [
    "Leveraging Pandas' `.to_sql()` function, we can upload the data to our Bitcoin table. Note this cell may take a minute to run (when servers are largely unused it takes just under 20 seconds, I expect this to increase with multiple concurrent users!)"
   ]
  },
  {
   "cell_type": "code",
   "execution_count": null,
   "id": "4024c268",
   "metadata": {},
   "outputs": [],
   "source": [
    "btc.to_sql(\"bitcoin\", con=conn, if_exists='append', index=False)\n",
    "query(conn, \"select * from bitcoin limit 10\")"
   ]
  },
  {
   "cell_type": "markdown",
   "id": "91051225",
   "metadata": {},
   "source": [
    "## 2. Point Based Representation"
   ]
  },
  {
   "cell_type": "markdown",
   "id": "191ac53c",
   "metadata": {},
   "source": [
    "A point-based representation involves **multiple rows with atomic data types**. This is a familiar format, given it is how the data has been provided to us - one row per hour, with simple summary statistics of that time frame."
   ]
  },
  {
   "cell_type": "markdown",
   "id": "49a60f05",
   "metadata": {},
   "source": [
    "### 2.1 Examples"
   ]
  },
  {
   "cell_type": "markdown",
   "id": "af5741d3",
   "metadata": {},
   "source": [
    "Examples for this format are less crucial, given our familiarity with building simple queries. For a simple case though, the following query would find the number of hours in the dataset for which the **price varied by at least US$5000**."
   ]
  },
  {
   "cell_type": "code",
   "execution_count": null,
   "id": "f60dc0aa",
   "metadata": {},
   "outputs": [],
   "source": [
    "sql = \"\"\"\n",
    "select count(*)\n",
    "from Bitcoin\n",
    "where High-Low >= 5000\n",
    "\"\"\"\n",
    "result = query(conn, sql)\n",
    "result"
   ]
  },
  {
   "cell_type": "markdown",
   "id": "4a49267f",
   "metadata": {},
   "source": [
    "### 2.2 Tasks"
   ]
  },
  {
   "cell_type": "markdown",
   "id": "066dc218",
   "metadata": {},
   "source": [
    "Let's refresh our basic SQL skills by answering the following three questions:"
   ]
  },
  {
   "cell_type": "markdown",
   "id": "e869eafc",
   "metadata": {},
   "source": [
    "**Task: a)** What is the lowest and highest close price that Bitcoin has reached so far in 2023?"
   ]
  },
  {
   "cell_type": "code",
   "execution_count": null,
   "id": "05f91963",
   "metadata": {},
   "outputs": [],
   "source": [
    "## TO DO"
   ]
  },
  {
   "cell_type": "markdown",
   "id": "c9a1d590",
   "metadata": {},
   "source": [
    "**Task: b)** What was the average midnight open price of Bitcoin over the last month (April 2023), to 2 decimal places?\n",
    "\n",
    "*Note: the rounding process may require a conversion to the `numeric` datatype (see the [docs](https://www.postgresql.org/docs/8.1/functions-math.html))*"
   ]
  },
  {
   "cell_type": "code",
   "execution_count": null,
   "id": "8c8c9cdb",
   "metadata": {},
   "outputs": [],
   "source": [
    "## TO DO"
   ]
  },
  {
   "cell_type": "markdown",
   "id": "636a7bc7",
   "metadata": {},
   "source": [
    "**Task: c)** What was the average hourly volume (in $US) traded in July of each year?"
   ]
  },
  {
   "cell_type": "code",
   "execution_count": null,
   "id": "4a1c4123",
   "metadata": {},
   "outputs": [],
   "source": [
    "## TO DO"
   ]
  },
  {
   "cell_type": "markdown",
   "id": "1705172b",
   "metadata": {},
   "source": [
    "## 3. Sequence Based Representation"
   ]
  },
  {
   "cell_type": "markdown",
   "id": "ad9f1155",
   "metadata": {},
   "source": [
    "Now let's pivot to a new storage method for time series data. A sequenced-based representation involves grouping information into a **single row containing an array of time point data**. Take the following example based on a subset of our data:\n",
    "\n",
    "Point-based:\n",
    "\n",
    "| date | high | low |\n",
    "| :--- | :--- | :--- |\n",
    "| 11-Mar-2023 00:00:00 | 39441.61 | 39154.63 |\n",
    "| 11-Mar-2023 01:00:00 | 39342.98 | 38600.00 |\n",
    "| 11-Mar-2023 02:00:00 | 38757.44 | 38254.50 |\n",
    "\n",
    "Sequence-based:\n",
    "\n",
    "| date | high | low |\n",
    "| :--- | :--- | :--- |\n",
    "| 11-Mar-2023 | [39441.61, 39342.98, 38757.44] | [39154.63, 38600.00, 38254.50] |"
   ]
  },
  {
   "cell_type": "markdown",
   "id": "cced2bfa",
   "metadata": {},
   "source": [
    "### 3.1 Examples"
   ]
  },
  {
   "cell_type": "markdown",
   "id": "9baeef89",
   "metadata": {},
   "source": [
    "Whenever we seek to create a `group by` query in SQL, all columns must be either in the grouping clause, or an aggregation (e.g. `max`, `avg`, etc). For example, if we wanted to group our data at a daily level rather than an hourly, we could return the average open price, and the total $US amount traded for each day, like below:"
   ]
  },
  {
   "cell_type": "code",
   "execution_count": null,
   "id": "aaa80585",
   "metadata": {},
   "outputs": [],
   "source": [
    "sql = \"\"\"\n",
    "select date(Date), avg(Open), sum(Volume_USD)\n",
    "from Bitcoin\n",
    "group by date(Date)\n",
    "order by Date\n",
    "limit 3\n",
    "\"\"\"\n",
    "query(conn, sql)"
   ]
  },
  {
   "cell_type": "markdown",
   "id": "28e5b7c4",
   "metadata": {},
   "source": [
    "Rather than produce a *single number* with each aggreggation metric like above, we can return a **complete array** of the relevant values, such as below, where the opening price of each individual hour for that day are bundled up as lists."
   ]
  },
  {
   "cell_type": "code",
   "execution_count": null,
   "id": "2b1e6fe2",
   "metadata": {},
   "outputs": [],
   "source": [
    "sql = \"\"\"\n",
    "select date(Date), array_agg(Open order by Date)\n",
    "from Bitcoin\n",
    "group by date(Date)\n",
    "order by Date\n",
    "limit 3\n",
    "\"\"\"\n",
    "query(conn, sql)"
   ]
  },
  {
   "cell_type": "markdown",
   "id": "2add5409",
   "metadata": {},
   "source": [
    "#### How do we build queries with this information format?"
   ]
  },
  {
   "cell_type": "markdown",
   "id": "58460aba",
   "metadata": {},
   "source": [
    "To further delve into what's possible with a sequence based format, let's store this example as a subquery/CTE (Common Table Expression) using the `with` clause. This allows us to define a temporary table, here named **Bitcoin2**, from which we can query."
   ]
  },
  {
   "cell_type": "code",
   "execution_count": null,
   "id": "ef0c84db",
   "metadata": {},
   "outputs": [],
   "source": [
    "sql = \"\"\"\n",
    "with Bitcoin2 as (\n",
    "  select date(Date), array_agg(Open order by Date) as openPrices\n",
    "  from Bitcoin\n",
    "  group by date(Date)\n",
    "  order by Date\n",
    "  limit 3\n",
    ")\n",
    "select * from Bitcoin2\n",
    "\"\"\"\n",
    "query(conn, sql)"
   ]
  },
  {
   "cell_type": "markdown",
   "id": "664f5cd4",
   "metadata": {},
   "source": [
    "When information is stored this way, we can unravel it using the `unnest()` function:"
   ]
  },
  {
   "cell_type": "code",
   "execution_count": null,
   "id": "4a3b5b01",
   "metadata": {},
   "outputs": [],
   "source": [
    "sql = \"\"\"\n",
    "with Bitcoin2 as (\n",
    "  select date(Date), array_agg(Open order by Date) as openPrices\n",
    "  from Bitcoin\n",
    "  group by date(Date)\n",
    "  order by Date\n",
    "  limit 3\n",
    ")\n",
    "select Date, unnest(openPrices) as Open\n",
    "from Bitcoin2\n",
    "\"\"\"\n",
    "query(conn, sql)"
   ]
  },
  {
   "cell_type": "markdown",
   "id": "d77904f6",
   "metadata": {},
   "source": [
    "Note though that this hasn't fully retained the date information - the column now only contains the date, not the hour. We can ensure the hour is represented with the `generate_series()` function, which effectively includes an index column accordingly."
   ]
  },
  {
   "cell_type": "code",
   "execution_count": null,
   "id": "886a7297",
   "metadata": {},
   "outputs": [],
   "source": [
    "sql = \"\"\"\n",
    "with Bitcoin2 as (\n",
    "  select date(Date), array_agg(Open order by Date) as openPrices\n",
    "  from Bitcoin\n",
    "  group by date(Date)\n",
    "  order by Date\n",
    "  limit 3\n",
    ")\n",
    "select Date, generate_series(1, 24)-1 as hour, unnest(openPrices) as Open\n",
    "from Bitcoin2\n",
    "\"\"\"\n",
    "query(conn, sql)"
   ]
  },
  {
   "cell_type": "markdown",
   "id": "40b493f4",
   "metadata": {},
   "source": [
    "We can also just extract individual elements from the array, such as the query below, which extracts the first and last open price.\n",
    "\n",
    "*(Note: this is unfortunately indexed from 1, not 0...)*"
   ]
  },
  {
   "cell_type": "code",
   "execution_count": null,
   "id": "468155a5",
   "metadata": {},
   "outputs": [],
   "source": [
    "sql = \"\"\"\n",
    "with Bitcoin2 as (\n",
    "  select date(Date), array_agg(Open order by Date) as openPrices\n",
    "  from Bitcoin\n",
    "  group by date(Date)\n",
    "  order by Date\n",
    "  limit 3\n",
    ")\n",
    "select Date, openPrices[1] as FirstOpen, openPrices[24] as LastOpen\n",
    "from Bitcoin2\n",
    "\"\"\"\n",
    "query(conn, sql)"
   ]
  },
  {
   "cell_type": "markdown",
   "id": "d731a9cb",
   "metadata": {},
   "source": [
    "The `cardinality()` function also allows us to determine how long a given array is:"
   ]
  },
  {
   "cell_type": "code",
   "execution_count": null,
   "id": "8d7e59c2",
   "metadata": {},
   "outputs": [],
   "source": [
    "sql = \"\"\"\n",
    "with Bitcoin2 as (\n",
    "  select date(Date), array_agg(Open order by Date) as openPrices\n",
    "  from Bitcoin\n",
    "  group by date(Date)\n",
    "  order by Date\n",
    "  limit 3\n",
    ")\n",
    "select Date, cardinality(openPrices)\n",
    "from Bitcoin2\n",
    "\"\"\"\n",
    "query(conn, sql)"
   ]
  },
  {
   "cell_type": "markdown",
   "id": "7eefaf5a",
   "metadata": {},
   "source": [
    "#### How can we more permanently store this representation?"
   ]
  },
  {
   "cell_type": "markdown",
   "id": "d20f1133",
   "metadata": {},
   "source": [
    "Rather than rely on a subquery continuously like above, let's create a **Bitcoin2** table to store the Bitcoin price data this way. This can be defined using arrays of a set data type, e.g. `FLOAT[]` indicates an array of floats.\n",
    "\n",
    "From there, we can insert data based on a simple query that aggregates our information into arrays. Note the importance of a sort - here by Date to ensure it reflects the true hour order."
   ]
  },
  {
   "cell_type": "code",
   "execution_count": null,
   "id": "1d47b7fe",
   "metadata": {},
   "outputs": [],
   "source": [
    "conn.execute(\"\"\"\n",
    "DROP TABLE IF EXISTS Bitcoin2;\n",
    "CREATE TABLE IF NOT EXISTS Bitcoin2 (\n",
    "    Date DATE,\n",
    "    Open NUMERIC[],\n",
    "    High NUMERIC[],\n",
    "    Low NUMERIC[],\n",
    "    Close NUMERIC[],\n",
    "    Volume_USD NUMERIC[]\n",
    ");\n",
    "\n",
    "INSERT INTO Bitcoin2 (\n",
    "    SELECT\n",
    "        date(Date),\n",
    "        array_agg(Open ORDER BY Date),\n",
    "        array_agg(High ORDER BY Date),\n",
    "        array_agg(Low ORDER BY Date),\n",
    "        array_agg(Close ORDER BY Date),\n",
    "        array_agg(Volume_USD ORDER BY Date)\n",
    "    FROM Bitcoin\n",
    "    GROUP BY date(Date)\n",
    ");\n",
    "\"\"\")"
   ]
  },
  {
   "cell_type": "markdown",
   "id": "63540579",
   "metadata": {},
   "source": [
    "Investigating the resulting format, we can see a row for each date, with a 24-length array for just about all dates containing the hour-by-hour breakdown of each metric (the 2nd of May has only one value, since there's only information for midnight on that date)."
   ]
  },
  {
   "cell_type": "code",
   "execution_count": null,
   "id": "71381ca0",
   "metadata": {},
   "outputs": [],
   "source": [
    "query(conn, \"select * from Bitcoin2 order by Date desc limit 3\")"
   ]
  },
  {
   "cell_type": "markdown",
   "id": "d5ea2a53",
   "metadata": {},
   "source": [
    "### 3.2 Tasks"
   ]
  },
  {
   "cell_type": "markdown",
   "id": "94337409",
   "metadata": {},
   "source": [
    "From there, let's try and answer the *same* questions from before using this new format. Answer the following questions **using the Bitcoin2 sequence-based representation**, and any relevant functions such as those demonstrated above. For further reading, feel free to consult the [docs on PostgreSQL array functions](https://www.postgresql.org/docs/current/functions-array.html)."
   ]
  },
  {
   "cell_type": "markdown",
   "id": "cad0f2a5",
   "metadata": {},
   "source": [
    "**Task: a)** What is the lowest and highest close price that Bitcoin reached in 2023?"
   ]
  },
  {
   "cell_type": "code",
   "execution_count": null,
   "id": "f4da8ec6",
   "metadata": {},
   "outputs": [],
   "source": [
    "## TO DO"
   ]
  },
  {
   "cell_type": "markdown",
   "id": "eae3a434",
   "metadata": {},
   "source": [
    "**Task: b)** What was the average midnight open price of Bitcoin over the last month (April 2023), to 2 decimal places?"
   ]
  },
  {
   "cell_type": "code",
   "execution_count": null,
   "id": "5b650f32",
   "metadata": {},
   "outputs": [],
   "source": [
    "## TO DO"
   ]
  },
  {
   "cell_type": "markdown",
   "id": "f8f421be",
   "metadata": {},
   "source": [
    "**Task: c)** What was the average hourly volume (in $US) traded in December of each year?"
   ]
  },
  {
   "cell_type": "code",
   "execution_count": null,
   "id": "25539bd5",
   "metadata": {},
   "outputs": [],
   "source": [
    "## TO DO"
   ]
  },
  {
   "cell_type": "markdown",
   "id": "3565ed50",
   "metadata": {},
   "source": [
    "## 4. Inserting New Data"
   ]
  },
  {
   "cell_type": "markdown",
   "id": "79b22812",
   "metadata": {},
   "source": [
    "When **new information** is available, how can this be added to our tables, in either representation?"
   ]
  },
  {
   "cell_type": "markdown",
   "id": "e74c7c7f",
   "metadata": {},
   "source": [
    "### 4.1 Point Based"
   ]
  },
  {
   "cell_type": "markdown",
   "id": "1a9161fa",
   "metadata": {},
   "source": [
    "The data was provided up until the end of April 2023. Let's test adding two test rows of data for demonstration purposes:\n",
    "\n",
    "| date | open | high | low | close | volume_usd |\n",
    "| :--- | :--- | :--- | :--- | :--- | :--- |\n",
    "| 01-May-2023 00:00:00 | 29200.00 | 29321.54 | 29123.45 | 29222.22 | 234567.89 |\n",
    "| 01-May-2023 01:00:00 | 29333.33 | 29929.29 | 29020.20 | 29200.02 | 345678.90 |\n",
    "\n",
    "For our simple point-based representation, this involves `insert into` statements like so:"
   ]
  },
  {
   "cell_type": "code",
   "execution_count": null,
   "id": "186053bc",
   "metadata": {},
   "outputs": [],
   "source": [
    "conn.execute(\"\"\"\n",
    "insert into Bitcoin values(29200.00, 29321.54, 29123.45, 29222.22, 234567.89, '01-May-2023 00:00:00');\n",
    "insert into Bitcoin values(29333.33, 29929.29, 29020.20, 29200.02, 345678.90, '01-May-2023 01:00:00');\n",
    "\"\"\")"
   ]
  },
  {
   "cell_type": "markdown",
   "id": "a63387d6",
   "metadata": {},
   "source": [
    "Returning the five most recent hours confirms the additions were successful:"
   ]
  },
  {
   "cell_type": "code",
   "execution_count": null,
   "id": "32e847a8",
   "metadata": {},
   "outputs": [],
   "source": [
    "query(conn, \"select * from Bitcoin order by Date desc limit 5\")"
   ]
  },
  {
   "cell_type": "markdown",
   "id": "37b3cb33",
   "metadata": {},
   "source": [
    "### 4.2 Sequence Based"
   ]
  },
  {
   "cell_type": "markdown",
   "id": "1f9c293a",
   "metadata": {},
   "source": [
    "Let's now seek to add the same new rows of information for our sequence based representation:\n",
    "\n",
    "| date | open | high | low | close | volume_usd |\n",
    "| :--- | :--- | :--- | :--- | :--- | :--- |\n",
    "| 01-May-2023 00:00:00 | 29200.00 | 29321.54 | 29123.45 | 29222.22 | 234567.89 |\n",
    "| 01-May-2023 01:00:00 | 29333.33 | 29929.29 | 29020.20 | 29200.02 | 345678.90 |"
   ]
  },
  {
   "cell_type": "markdown",
   "id": "5ddd7dff",
   "metadata": {},
   "source": [
    "When adding information for the 1st of May, no current row exists. We can leverage the `insert into` clause, with our data explicitly stored in simple arrays, so that other values can be added into it later.\n",
    "\n",
    "For demonstration purposes, we'll just add the first row there to start:"
   ]
  },
  {
   "cell_type": "code",
   "execution_count": null,
   "id": "8511373f",
   "metadata": {},
   "outputs": [],
   "source": [
    "conn.execute(\"\"\"\n",
    "insert into Bitcoin2 values(\n",
    "    '2023-05-01',\n",
    "    array[29200.00],\n",
    "    array[29321.54],\n",
    "    array[29123.45],\n",
    "    array[29222.22],\n",
    "    array[234567.89]\n",
    ")\n",
    "\"\"\")"
   ]
  },
  {
   "cell_type": "markdown",
   "id": "b4008a49",
   "metadata": {},
   "source": [
    "Adding in that row for the second hour allows us to see how data can be added to an existing array, using the `array_append()` function within an `update` statement."
   ]
  },
  {
   "cell_type": "code",
   "execution_count": null,
   "id": "153a3ce8",
   "metadata": {},
   "outputs": [],
   "source": [
    "conn.execute(\"\"\"\n",
    "update Bitcoin2\n",
    "set open = array_append(open, 29333.33),\n",
    "    high = array_append(high, 29929.29),\n",
    "    low = array_append(low, 29020.20),\n",
    "    close = array_append(close, 29200.02),\n",
    "    volume_usd = array_append(volume_usd, 345678.90)\n",
    "where date = '2023-05-01'\n",
    "\"\"\")"
   ]
  },
  {
   "cell_type": "markdown",
   "id": "7902b239",
   "metadata": {},
   "source": [
    "Again confirming this is successful:"
   ]
  },
  {
   "cell_type": "code",
   "execution_count": null,
   "id": "b69fd9c3",
   "metadata": {},
   "outputs": [],
   "source": [
    "query(conn, \"select * from Bitcoin2 order by Date desc limit 3\")"
   ]
  },
  {
   "cell_type": "markdown",
   "id": "f1a9b028",
   "metadata": {},
   "source": [
    "Since these were test examples, it's worth noting that a `delete` statement in SQL allows rows to be dropped according to a given filter. The code below will drop these test rows, as shown by then re-running the statement above."
   ]
  },
  {
   "cell_type": "code",
   "execution_count": null,
   "id": "18bb1fb7",
   "metadata": {},
   "outputs": [],
   "source": [
    "conn.execute(\"delete from Bitcoin2 where date >= '2023-05-01'\")\n",
    "query(conn, \"select * from Bitcoin2 order by Date desc limit 3\")"
   ]
  },
  {
   "cell_type": "markdown",
   "id": "db187c1e",
   "metadata": {},
   "source": [
    "## 5. Visuals"
   ]
  },
  {
   "cell_type": "markdown",
   "id": "c3a69bb8",
   "metadata": {},
   "source": [
    "As a final demonstration, let's briefly investigate some potential visualisations that can be built from querying time-series data."
   ]
  },
  {
   "cell_type": "markdown",
   "id": "7c22d82c",
   "metadata": {},
   "source": [
    "### 5.1 Line Graph"
   ]
  },
  {
   "cell_type": "markdown",
   "id": "f9933565",
   "metadata": {},
   "source": [
    "Let's return to the base table, and return an aggregation of **all Open prices for July months** in our dataset."
   ]
  },
  {
   "cell_type": "code",
   "execution_count": null,
   "id": "6ec89f31",
   "metadata": {},
   "outputs": [],
   "source": [
    "sql = \"\"\"\n",
    "select extract(year from Date) as year, array_agg(open order by Date)\n",
    "from Bitcoin\n",
    "where extract(month from Date) = 7\n",
    "group by extract(year from Date)\n",
    "\"\"\"\n",
    "result = query(conn, sql)\n",
    "result"
   ]
  },
  {
   "cell_type": "markdown",
   "id": "607a60c5",
   "metadata": {},
   "source": [
    "From there, we can take this data and visualise each as a line graph for comparison.\n",
    "\n",
    "*(Note the code line involving a `zip()` function isn't super neat, but necessary to achieve the format matplotlib requires - which is effectively a pivot of how the information is returned. Open to alternative ways people find for this if you're interested!)*"
   ]
  },
  {
   "cell_type": "code",
   "execution_count": null,
   "id": "f8c7abe3",
   "metadata": {},
   "outputs": [],
   "source": [
    "import matplotlib.pyplot as plt\n",
    "plt.plot(list(zip(*result['array_agg'].tolist())))\n",
    "plt.legend(result['year'], loc='lower right', title='Year')\n",
    "plt.title(\"BTC Price in July\", fontdict={'fontsize': 14}, pad=10)  # setting a title\n",
    "plt.xlabel(\"Hours Since Start of Month\", labelpad=10)  # setting an x-axis\n",
    "plt.ylabel(\"Price ($US)\", labelpad=10)  # setting a y-axis\n",
    "plt.ylim(0, )\n",
    "plt.show()"
   ]
  },
  {
   "cell_type": "markdown",
   "id": "840dd8d3",
   "metadata": {},
   "source": [
    "### 5.2 Histogram"
   ]
  },
  {
   "cell_type": "markdown",
   "id": "b7540b79",
   "metadata": {},
   "source": [
    "Rather than visualising the changes over the course of a month, we can create visuals to find trends during the day. The below query finds **for each hour of the day, how often the trading price range has exceeded $200 so far this year**."
   ]
  },
  {
   "cell_type": "code",
   "execution_count": null,
   "id": "06542938",
   "metadata": {},
   "outputs": [],
   "source": [
    "sql = \"\"\"\n",
    "select n, count(*)\n",
    "from (\n",
    "  select date, generate_series(1, 24) n, high, low\n",
    "  from Bitcoin2\n",
    ") t\n",
    "where high[n]-low[n] >= 200 and extract(year from date) = 2023\n",
    "group by n\n",
    "order by n\n",
    "\"\"\"\n",
    "result2 = query(conn, sql)\n",
    "result2"
   ]
  },
  {
   "cell_type": "markdown",
   "id": "4a0faffd",
   "metadata": {},
   "source": [
    "The resulting graph contains some potentially interesting trends for the hours of the day most commonly involving higher trading swings. What could possibly be surmised from this graph?"
   ]
  },
  {
   "cell_type": "code",
   "execution_count": null,
   "id": "48b65a93",
   "metadata": {},
   "outputs": [],
   "source": [
    "plt.bar(result2['n'], result2['count'])"
   ]
  },
  {
   "cell_type": "markdown",
   "id": "17bddcc3",
   "metadata": {},
   "source": [
    "#### Don't forget to close your connection!"
   ]
  },
  {
   "cell_type": "markdown",
   "id": "8f70eac6",
   "metadata": {},
   "source": [
    "That's all for today's tutorial - enjoy your week and remember the group assignment is due in two weeks! :)"
   ]
  },
  {
   "cell_type": "code",
   "execution_count": null,
   "id": "54006fd5",
   "metadata": {},
   "outputs": [],
   "source": [
    "conn.close()\n",
    "db.dispose()"
   ]
  }
 ],
 "metadata": {
  "kernelspec": {
   "display_name": "Python 3",
   "language": "python",
   "name": "python3"
  },
  "language_info": {
   "codemirror_mode": {
    "name": "ipython",
    "version": 3
   },
   "file_extension": ".py",
   "mimetype": "text/x-python",
   "name": "python",
   "nbconvert_exporter": "python",
   "pygments_lexer": "ipython3",
   "version": "3.9.1"
  }
 },
 "nbformat": 4,
 "nbformat_minor": 5
}
